{
 "cells": [
  {
   "cell_type": "markdown",
   "metadata": {},
   "source": [
    "# Installing and Importing Dependecies\n",
    "\n",
    "The Jupyter environment does not come pre-installed with the necessary library below. Nevertheless, if you are using this notebook in an alternate Jupyter environment, you will be required to install these library. To do so, simply uncomment the code cell below by removing the '#' sign before '!pip'.\n",
    "\n",
    "By default, Jupyter Notebook doesn’t support Plotly’s interactive features out of the box. To enable these features, we need to install the jupyterlab-plotly extension for Jupyter Notebook."
   ]
  },
  {
   "cell_type": "code",
   "execution_count": null,
   "metadata": {},
   "outputs": [],
   "source": [
    "#!pip install prophet\n",
    "#!pip install plotly\n",
    "# Note: If your environment doesn't support \"!mamba install\", use \"!pip install\""
   ]
  },
  {
   "cell_type": "markdown",
   "metadata": {},
   "source": [
    "## Importing Required Libraries"
   ]
  },
  {
   "cell_type": "code",
   "execution_count": 2,
   "metadata": {},
   "outputs": [],
   "source": [
    "import pandas as pd\n",
    "from prophet import Prophet\n",
    "import matplotlib.pyplot as plt"
   ]
  },
  {
   "cell_type": "markdown",
   "metadata": {},
   "source": [
    "# Reading .csv File\n",
    "\n",
    "Read a comma-seperated values (csv) file into DataFrame.\n",
    "\n",
    "This code disables SSL certificate validation for HTTPS requests, allowing you to proceed without certificate checks. Remember that this approach should be used sparingly and only when you are confident about the safety and trustworthiness of the data source. In production environments, it's essential to prioritize security and maintain proper SSL certificate validation."
   ]
  },
  {
   "cell_type": "code",
   "execution_count": 2,
   "metadata": {},
   "outputs": [],
   "source": [
    "#To bypass SSL verification in Jupyter Notebook script\n",
    "import ssl\n",
    "ssl._create_default_https_context = ssl._create_unverified_context"
   ]
  },
  {
   "cell_type": "markdown",
   "metadata": {},
   "source": [
    "The dataset contains Turkish characters encoded with ISO 8859-9, often referred to as \"Latin 5.\" ISO 8859-9 is similar to Latin 1 encoding but includes specific modifications to accommodate the Turkish language's unique character requirements."
   ]
  },
  {
   "cell_type": "code",
   "execution_count": 3,
   "metadata": {},
   "outputs": [],
   "source": [
    "# Specify the path to the consumption CSV file and the encoding\n",
    "consumption_csv_file_path = '/Users/rafetbatuhanemek/Desktop/ElectrictyConsumption/datas/RealTimeConsumption-01012021-31082023.csv'\n",
    "csv_encoding = 'latin5'  # or 'ISO-8859-9'"
   ]
  },
  {
   "cell_type": "code",
   "execution_count": 4,
   "metadata": {},
   "outputs": [],
   "source": [
    "# Load your dataframes (assuming they are CSV files, change the file paths if necessary)\n",
    "\n",
    "# Read the consumption CSV file into a DataFrame with the specified encoding\n",
    "consumption_data = pd.read_csv(consumption_csv_file_path, encoding=csv_encoding)"
   ]
  },
  {
   "cell_type": "markdown",
   "metadata": {},
   "source": [
    "The ```.head()``` method returns the first five rows (or as many as you specify within the parentheses) of a dataset. It is useful for quickly testing if your object has the right type of data."
   ]
  },
  {
   "cell_type": "code",
   "execution_count": 5,
   "metadata": {},
   "outputs": [
    {
     "data": {
      "text/html": [
       "<div>\n",
       "<style scoped>\n",
       "    .dataframe tbody tr th:only-of-type {\n",
       "        vertical-align: middle;\n",
       "    }\n",
       "\n",
       "    .dataframe tbody tr th {\n",
       "        vertical-align: top;\n",
       "    }\n",
       "\n",
       "    .dataframe thead th {\n",
       "        text-align: right;\n",
       "    }\n",
       "</style>\n",
       "<table border=\"1\" class=\"dataframe\">\n",
       "  <thead>\n",
       "    <tr style=\"text-align: right;\">\n",
       "      <th></th>\n",
       "      <th>Tarih</th>\n",
       "      <th>Saat</th>\n",
       "      <th>Tüketim Miktarı (MWh)</th>\n",
       "    </tr>\n",
       "  </thead>\n",
       "  <tbody>\n",
       "    <tr>\n",
       "      <th>0</th>\n",
       "      <td>01.01.2021</td>\n",
       "      <td>00:00</td>\n",
       "      <td>29.489,46</td>\n",
       "    </tr>\n",
       "    <tr>\n",
       "      <th>1</th>\n",
       "      <td>01.01.2021</td>\n",
       "      <td>01:00</td>\n",
       "      <td>28.067,11</td>\n",
       "    </tr>\n",
       "    <tr>\n",
       "      <th>2</th>\n",
       "      <td>01.01.2021</td>\n",
       "      <td>02:00</td>\n",
       "      <td>26.527,08</td>\n",
       "    </tr>\n",
       "    <tr>\n",
       "      <th>3</th>\n",
       "      <td>01.01.2021</td>\n",
       "      <td>03:00</td>\n",
       "      <td>25.327,19</td>\n",
       "    </tr>\n",
       "    <tr>\n",
       "      <th>4</th>\n",
       "      <td>01.01.2021</td>\n",
       "      <td>04:00</td>\n",
       "      <td>24.719,72</td>\n",
       "    </tr>\n",
       "  </tbody>\n",
       "</table>\n",
       "</div>"
      ],
      "text/plain": [
       "        Tarih   Saat Tüketim Miktarı (MWh)\n",
       "0  01.01.2021  00:00             29.489,46\n",
       "1  01.01.2021  01:00             28.067,11\n",
       "2  01.01.2021  02:00             26.527,08\n",
       "3  01.01.2021  03:00             25.327,19\n",
       "4  01.01.2021  04:00             24.719,72"
      ]
     },
     "execution_count": 5,
     "metadata": {},
     "output_type": "execute_result"
    }
   ],
   "source": [
    "# To quickly testing\n",
    "consumption_data.head()"
   ]
  },
  {
   "cell_type": "markdown",
   "metadata": {},
   "source": [
    "# Data Exploring and Pre-processing"
   ]
  },
  {
   "cell_type": "markdown",
   "metadata": {},
   "source": [
    "The ```.dtypes``` method returns the data type of each column."
   ]
  },
  {
   "cell_type": "code",
   "execution_count": 6,
   "metadata": {},
   "outputs": [
    {
     "data": {
      "text/plain": [
       "Tarih                    object\n",
       "Saat                     object\n",
       "Tüketim Miktarı (MWh)    object\n",
       "dtype: object"
      ]
     },
     "execution_count": 6,
     "metadata": {},
     "output_type": "execute_result"
    }
   ],
   "source": [
    "consumption_data.dtypes"
   ]
  },
  {
   "cell_type": "code",
   "execution_count": 6,
   "metadata": {},
   "outputs": [],
   "source": [
    "# Translating column names to English\n",
    "consumption_data = consumption_data.rename(columns={\n",
    "    'Tarih': 'Date',\n",
    "    'Saat': 'Hour',\n",
    "    'Tüketim Miktarı (MWh)': 'Consumption Amount (MWh)'\n",
    "})"
   ]
  },
  {
   "cell_type": "markdown",
   "metadata": {},
   "source": [
    "The code below will remove the commas used as thousand separators and then convert the column to the float data type."
   ]
  },
  {
   "cell_type": "code",
   "execution_count": 7,
   "metadata": {},
   "outputs": [],
   "source": [
    "# Convert the 'Consumption Amount (MWh)' column to a proper numeric format\n",
    "consumption_data['Consumption Amount (MWh)'] = consumption_data['Consumption Amount (MWh)'].str.replace('.', '').str.replace(',', '.').astype(float)"
   ]
  },
  {
   "cell_type": "markdown",
   "metadata": {},
   "source": [
    "The ```to_datetime()``` method is used to transform a scalar, array-like, Series, or DataFrame/dict-like object into a datetime object within the Pandas library.\n",
    "\n",
    "This conversion is necessary for using the Prophet model, which requires the input data to be in datetime format."
   ]
  },
  {
   "cell_type": "code",
   "execution_count": 8,
   "metadata": {},
   "outputs": [],
   "source": [
    "# Combine the 'Date' and 'Hour' columns into a single 'Datetime' column in the consumption_data dataframe\n",
    "# The 'dayfirst=True' argument is used to correctly interpret dates with ambiguous formats\n",
    "consumption_data['Datetime'] = pd.to_datetime(consumption_data['Date'] + ' ' + consumption_data['Hour'], dayfirst=True)"
   ]
  },
  {
   "cell_type": "markdown",
   "metadata": {},
   "source": [
    "The ```.drop()``` method is used to remove specified rows or columns from a DataFrame. "
   ]
  },
  {
   "cell_type": "code",
   "execution_count": 9,
   "metadata": {},
   "outputs": [],
   "source": [
    "# Dropping the unnecessary columns\n",
    "consumption_data.drop(columns=['Date', 'Hour'], inplace=True)"
   ]
  },
  {
   "cell_type": "markdown",
   "metadata": {},
   "source": [
    "## Prepare to Prophet\n",
    "\n",
    "Prophet requires a specific format for your time series data, with two columns named 'ds' (the date or timestamp) and 'y' (the target variable you want to forecast).\n",
    "\n",
    "The column containing the date-times must be named ```ds```.\n",
    "\n",
    "The column containing the consumption values must be named ```y```."
   ]
  },
  {
   "cell_type": "code",
   "execution_count": 10,
   "metadata": {},
   "outputs": [],
   "source": [
    "# Rename columns to 'ds' and 'y'\n",
    "consumption_data.columns = ['y', 'ds']"
   ]
  },
  {
   "cell_type": "markdown",
   "metadata": {},
   "source": [
    "### Splitting Data into Training and Test Sets\n",
    "\n",
    "In machine learning and time series analysis, it's common practice to split your dataset into training and test sets. This allows you to train your model on one portion of the data and evaluate its performance on another independent portion. Here's how you can split your `consumption_data` into training and test sets:\n"
   ]
  },
  {
   "cell_type": "code",
   "execution_count": 11,
   "metadata": {},
   "outputs": [],
   "source": [
    "# Define the percentage of data to use for training (adjust as needed)\n",
    "train_percentage = 0.8  # 80% for training\n",
    "\n",
    "# Calculate the index to split the data\n",
    "train_size = int(len(consumption_data) * train_percentage)\n",
    "\n",
    "# Create the training dataset\n",
    "train_data = consumption_data[:train_size]\n",
    "\n",
    "# Create the test dataset\n",
    "test_data = consumption_data[train_size:]"
   ]
  },
  {
   "cell_type": "markdown",
   "metadata": {},
   "source": [
    "# Creating a Model\n",
    "\n",
    "The Prophet model is configured to account for seasonality patterns within the data. Seasonality, referring to repetitive patterns or cycles occurring at regular intervals (e.g., daily, weekly, yearly), is often regarded as an essential aspect of time series data."
   ]
  },
  {
   "cell_type": "markdown",
   "metadata": {},
   "source": [
    "### Seasonality Configuration\n",
    "\n",
    "Specifications regarding how different types of seasonality should be handled by the model are set."
   ]
  },
  {
   "cell_type": "code",
   "execution_count": 13,
   "metadata": {},
   "outputs": [],
   "source": [
    "# Initialize the Prophet model with built-in daily, weekly, and yearly seasonalities \n",
    "model = Prophet(yearly_seasonality = True, weekly_seasonality = True, daily_seasonality = True)"
   ]
  },
  {
   "cell_type": "markdown",
   "metadata": {},
   "source": [
    "```yearly_seasonality = True``` : This setting enables the model to account yearly seasonality. Yearly seasonality is crucial for the capturing of annual patterns in electricity consumption. For instance, the increase in electricity usage during summer and winter months can be accounted for with this setting.\n",
    "\n",
    "```weekly_seasonality = True``` : Enabling weekly seasonality allows the model to capture patterns repeating on a weekly basis. In the context of electricity consumption, this may account for differences between weekdays and weekends, given that consumption patterns can vary.\n",
    "\n",
    "```daily_seasonality = True```: Enabling this option lets the model recognize and use daily consumption patterns, which is helpful for situations with significant daily fluctuations, such as shift work or distinct daily routines, improving daily consumption trend forecasts."
   ]
  },
  {
   "cell_type": "markdown",
   "metadata": {},
   "source": [
    "### Fit the Model\n",
    "\n",
    "Train the Prophet model on historical data using the ```fit``` method:"
   ]
  },
  {
   "cell_type": "code",
   "execution_count": 14,
   "metadata": {},
   "outputs": [
    {
     "name": "stderr",
     "output_type": "stream",
     "text": [
      "15:42:07 - cmdstanpy - INFO - Chain [1] start processing\n",
      "15:42:27 - cmdstanpy - INFO - Chain [1] done processing\n"
     ]
    },
    {
     "data": {
      "text/plain": [
       "<prophet.forecaster.Prophet at 0x125952690>"
      ]
     },
     "execution_count": 14,
     "metadata": {},
     "output_type": "execute_result"
    }
   ],
   "source": [
    "model.fit(train_data)"
   ]
  },
  {
   "cell_type": "markdown",
   "metadata": {},
   "source": [
    "The ```model.component_modes``` attribute provides information about which of these components are included in the model. This attribute provides insights into how the model decomposes the time series data into its constituent parts, which can be helpful for understanding the patterns and trends captured by the model."
   ]
  },
  {
   "cell_type": "code",
   "execution_count": 15,
   "metadata": {},
   "outputs": [
    {
     "data": {
      "text/plain": [
       "{'additive': ['yearly',\n",
       "  'weekly',\n",
       "  'daily',\n",
       "  'additive_terms',\n",
       "  'extra_regressors_additive',\n",
       "  'holidays'],\n",
       " 'multiplicative': ['multiplicative_terms', 'extra_regressors_multiplicative']}"
      ]
     },
     "execution_count": 15,
     "metadata": {},
     "output_type": "execute_result"
    }
   ],
   "source": [
    "model.component_modes"
   ]
  },
  {
   "cell_type": "markdown",
   "metadata": {},
   "source": [
    "If a component is active, its value will be 'additive' or 'multiplicative'. The 'additive' mode indicates that the component is added to the trend, and the 'multiplicative' mode indicates that the component is multiplied with the trend.\n",
    "\n",
    "If a component is not active, it will not be considered in the forecasting."
   ]
  },
  {
   "cell_type": "markdown",
   "metadata": {},
   "source": [
    "# Forecasting\n",
    "\n",
    "By using the ```predict()``` method, we can forecast future values as well as obtain fitted values for our historical data. If you're only interested in future values, ensure the input dataframe to predict only contains future dates"
   ]
  },
  {
   "cell_type": "code",
   "execution_count": 16,
   "metadata": {},
   "outputs": [],
   "source": [
    "# Make forecasts on the test data\n",
    "forecast = model.predict(test_data)"
   ]
  },
  {
   "cell_type": "code",
   "execution_count": 17,
   "metadata": {},
   "outputs": [
    {
     "data": {
      "text/html": [
       "<div>\n",
       "<style scoped>\n",
       "    .dataframe tbody tr th:only-of-type {\n",
       "        vertical-align: middle;\n",
       "    }\n",
       "\n",
       "    .dataframe tbody tr th {\n",
       "        vertical-align: top;\n",
       "    }\n",
       "\n",
       "    .dataframe thead th {\n",
       "        text-align: right;\n",
       "    }\n",
       "</style>\n",
       "<table border=\"1\" class=\"dataframe\">\n",
       "  <thead>\n",
       "    <tr style=\"text-align: right;\">\n",
       "      <th></th>\n",
       "      <th>ds</th>\n",
       "      <th>trend</th>\n",
       "      <th>yhat_lower</th>\n",
       "      <th>yhat_upper</th>\n",
       "      <th>trend_lower</th>\n",
       "      <th>trend_upper</th>\n",
       "      <th>additive_terms</th>\n",
       "      <th>additive_terms_lower</th>\n",
       "      <th>additive_terms_upper</th>\n",
       "      <th>daily</th>\n",
       "      <th>...</th>\n",
       "      <th>weekly</th>\n",
       "      <th>weekly_lower</th>\n",
       "      <th>weekly_upper</th>\n",
       "      <th>yearly</th>\n",
       "      <th>yearly_lower</th>\n",
       "      <th>yearly_upper</th>\n",
       "      <th>multiplicative_terms</th>\n",
       "      <th>multiplicative_terms_lower</th>\n",
       "      <th>multiplicative_terms_upper</th>\n",
       "      <th>yhat</th>\n",
       "    </tr>\n",
       "  </thead>\n",
       "  <tbody>\n",
       "    <tr>\n",
       "      <th>0</th>\n",
       "      <td>2023-02-18 09:00:00</td>\n",
       "      <td>37807.869961</td>\n",
       "      <td>34773.200766</td>\n",
       "      <td>40745.975654</td>\n",
       "      <td>37807.869961</td>\n",
       "      <td>37807.869961</td>\n",
       "      <td>11.619728</td>\n",
       "      <td>11.619728</td>\n",
       "      <td>11.619728</td>\n",
       "      <td>2015.234012</td>\n",
       "      <td>...</td>\n",
       "      <td>-196.034163</td>\n",
       "      <td>-196.034163</td>\n",
       "      <td>-196.034163</td>\n",
       "      <td>-1807.580121</td>\n",
       "      <td>-1807.580121</td>\n",
       "      <td>-1807.580121</td>\n",
       "      <td>0.0</td>\n",
       "      <td>0.0</td>\n",
       "      <td>0.0</td>\n",
       "      <td>37819.489689</td>\n",
       "    </tr>\n",
       "    <tr>\n",
       "      <th>1</th>\n",
       "      <td>2023-02-18 10:00:00</td>\n",
       "      <td>37808.116333</td>\n",
       "      <td>36730.890063</td>\n",
       "      <td>42421.621244</td>\n",
       "      <td>37808.116333</td>\n",
       "      <td>37808.116333</td>\n",
       "      <td>1676.284753</td>\n",
       "      <td>1676.284753</td>\n",
       "      <td>1676.284753</td>\n",
       "      <td>3847.807665</td>\n",
       "      <td>...</td>\n",
       "      <td>-365.525114</td>\n",
       "      <td>-365.525114</td>\n",
       "      <td>-365.525114</td>\n",
       "      <td>-1805.997798</td>\n",
       "      <td>-1805.997798</td>\n",
       "      <td>-1805.997798</td>\n",
       "      <td>0.0</td>\n",
       "      <td>0.0</td>\n",
       "      <td>0.0</td>\n",
       "      <td>39484.401086</td>\n",
       "    </tr>\n",
       "    <tr>\n",
       "      <th>2</th>\n",
       "      <td>2023-02-18 11:00:00</td>\n",
       "      <td>37808.362705</td>\n",
       "      <td>36880.801405</td>\n",
       "      <td>42922.011300</td>\n",
       "      <td>37808.362705</td>\n",
       "      <td>37808.362705</td>\n",
       "      <td>1937.922532</td>\n",
       "      <td>1937.922532</td>\n",
       "      <td>1937.922532</td>\n",
       "      <td>4287.389430</td>\n",
       "      <td>...</td>\n",
       "      <td>-545.088029</td>\n",
       "      <td>-545.088029</td>\n",
       "      <td>-545.088029</td>\n",
       "      <td>-1804.378868</td>\n",
       "      <td>-1804.378868</td>\n",
       "      <td>-1804.378868</td>\n",
       "      <td>0.0</td>\n",
       "      <td>0.0</td>\n",
       "      <td>0.0</td>\n",
       "      <td>39746.285237</td>\n",
       "    </tr>\n",
       "    <tr>\n",
       "      <th>3</th>\n",
       "      <td>2023-02-18 12:00:00</td>\n",
       "      <td>37808.609077</td>\n",
       "      <td>36511.661321</td>\n",
       "      <td>42046.262369</td>\n",
       "      <td>37808.609077</td>\n",
       "      <td>37808.609077</td>\n",
       "      <td>1420.851736</td>\n",
       "      <td>1420.851736</td>\n",
       "      <td>1420.851736</td>\n",
       "      <td>3957.431095</td>\n",
       "      <td>...</td>\n",
       "      <td>-733.856003</td>\n",
       "      <td>-733.856003</td>\n",
       "      <td>-733.856003</td>\n",
       "      <td>-1802.723356</td>\n",
       "      <td>-1802.723356</td>\n",
       "      <td>-1802.723356</td>\n",
       "      <td>0.0</td>\n",
       "      <td>0.0</td>\n",
       "      <td>0.0</td>\n",
       "      <td>39229.460812</td>\n",
       "    </tr>\n",
       "    <tr>\n",
       "      <th>4</th>\n",
       "      <td>2023-02-18 13:00:00</td>\n",
       "      <td>37808.855448</td>\n",
       "      <td>35970.469572</td>\n",
       "      <td>41575.687269</td>\n",
       "      <td>37808.855448</td>\n",
       "      <td>37808.855448</td>\n",
       "      <td>941.366473</td>\n",
       "      <td>941.366473</td>\n",
       "      <td>941.366473</td>\n",
       "      <td>3673.226156</td>\n",
       "      <td>...</td>\n",
       "      <td>-930.828396</td>\n",
       "      <td>-930.828396</td>\n",
       "      <td>-930.828396</td>\n",
       "      <td>-1801.031287</td>\n",
       "      <td>-1801.031287</td>\n",
       "      <td>-1801.031287</td>\n",
       "      <td>0.0</td>\n",
       "      <td>0.0</td>\n",
       "      <td>0.0</td>\n",
       "      <td>38750.221921</td>\n",
       "    </tr>\n",
       "  </tbody>\n",
       "</table>\n",
       "<p>5 rows × 22 columns</p>\n",
       "</div>"
      ],
      "text/plain": [
       "                   ds         trend    yhat_lower    yhat_upper   trend_lower   \n",
       "0 2023-02-18 09:00:00  37807.869961  34773.200766  40745.975654  37807.869961  \\\n",
       "1 2023-02-18 10:00:00  37808.116333  36730.890063  42421.621244  37808.116333   \n",
       "2 2023-02-18 11:00:00  37808.362705  36880.801405  42922.011300  37808.362705   \n",
       "3 2023-02-18 12:00:00  37808.609077  36511.661321  42046.262369  37808.609077   \n",
       "4 2023-02-18 13:00:00  37808.855448  35970.469572  41575.687269  37808.855448   \n",
       "\n",
       "    trend_upper  additive_terms  additive_terms_lower  additive_terms_upper   \n",
       "0  37807.869961       11.619728             11.619728             11.619728  \\\n",
       "1  37808.116333     1676.284753           1676.284753           1676.284753   \n",
       "2  37808.362705     1937.922532           1937.922532           1937.922532   \n",
       "3  37808.609077     1420.851736           1420.851736           1420.851736   \n",
       "4  37808.855448      941.366473            941.366473            941.366473   \n",
       "\n",
       "         daily  ...      weekly  weekly_lower  weekly_upper       yearly   \n",
       "0  2015.234012  ... -196.034163   -196.034163   -196.034163 -1807.580121  \\\n",
       "1  3847.807665  ... -365.525114   -365.525114   -365.525114 -1805.997798   \n",
       "2  4287.389430  ... -545.088029   -545.088029   -545.088029 -1804.378868   \n",
       "3  3957.431095  ... -733.856003   -733.856003   -733.856003 -1802.723356   \n",
       "4  3673.226156  ... -930.828396   -930.828396   -930.828396 -1801.031287   \n",
       "\n",
       "   yearly_lower  yearly_upper  multiplicative_terms   \n",
       "0  -1807.580121  -1807.580121                   0.0  \\\n",
       "1  -1805.997798  -1805.997798                   0.0   \n",
       "2  -1804.378868  -1804.378868                   0.0   \n",
       "3  -1802.723356  -1802.723356                   0.0   \n",
       "4  -1801.031287  -1801.031287                   0.0   \n",
       "\n",
       "   multiplicative_terms_lower  multiplicative_terms_upper          yhat  \n",
       "0                         0.0                         0.0  37819.489689  \n",
       "1                         0.0                         0.0  39484.401086  \n",
       "2                         0.0                         0.0  39746.285237  \n",
       "3                         0.0                         0.0  39229.460812  \n",
       "4                         0.0                         0.0  38750.221921  \n",
       "\n",
       "[5 rows x 22 columns]"
      ]
     },
     "execution_count": 17,
     "metadata": {},
     "output_type": "execute_result"
    }
   ],
   "source": [
    "forecast.head()"
   ]
  },
  {
   "cell_type": "markdown",
   "metadata": {},
   "source": [
    "```forecasting``` : The variable will be a dataframe containing various columns, including the predicted values, uncertainty intervals, and other relevant forecast-related information.\n",
    "\n",
    "-```'ds'``` : The timestamps for the future points.\n",
    "\n",
    "-```'yhat'``` : The predicted values for electricity consumption at each future timestamp.\n",
    "\n",
    "-```'yhat_lower'``` and ```'yhat_upper'``` : The lower and upper uncertainty range for predicted values shows the range where actual consumption values might be.\n",
    "\n",
    "-Additional columns related to the trend and seasonality components of the forecast."
   ]
  },
  {
   "cell_type": "markdown",
   "metadata": {},
   "source": [
    "# Evaluating the Model"
   ]
  },
  {
   "cell_type": "markdown",
   "metadata": {},
   "source": [
    "\n",
    "The Mean Absolute Percentage Error (MAPE) is a popular metric for evaluating the accuracy of forecasts. It calculates the absolute difference between the actual and forecasted values, divides it by the actual value, and then averages these relative errors across the dataset.\n",
    "\n",
    "        The formula for MAPE is:\n",
    "\n",
    "$$\n",
    "\\text{MAPE} = \\frac{100}{n} \\sum_{t=1}^{n} \\left| \\frac{A_t - F_t}{A_t} \\right|\n",
    "$$\n",
    "\n",
    "Where:\n",
    "n is the number of observations."
   ]
  },
  {
   "cell_type": "markdown",
   "metadata": {},
   "source": [
    "The function ```calculate_mape``` computes the Mean Absolute Percentage Error, a common metric for evaluating the accuracy of forecasts."
   ]
  },
  {
   "cell_type": "code",
   "execution_count": 12,
   "metadata": {},
   "outputs": [],
   "source": [
    "def calculate_mape(actual, forecast):\n",
    "    \"\"\"Calculate Mean Absolute Percentage Error (MAPE)\"\"\"\n",
    "    mape = 100 * (abs((actual - forecast) / actual)).mean()\n",
    "    return mape"
   ]
  },
  {
   "cell_type": "code",
   "execution_count": 19,
   "metadata": {},
   "outputs": [
    {
     "name": "stdout",
     "output_type": "stream",
     "text": [
      "MAPE: 9.07%\n"
     ]
    }
   ],
   "source": [
    "# Extract the actual and forecasted values from the test_data and forecast dataframes\n",
    "actual_values = test_data['y'].values\n",
    "forecasted_values = forecast['yhat'].values\n",
    "\n",
    "# Calculate MAPE\n",
    "mape_value = calculate_mape(actual_values, forecasted_values)\n",
    "print(f\"MAPE: {mape_value:.2f}%\")"
   ]
  },
  {
   "cell_type": "markdown",
   "metadata": {},
   "source": [
    "### MAPE: 9.07%"
   ]
  },
  {
   "cell_type": "markdown",
   "metadata": {},
   "source": [
    "# Adjusting the Model\n",
    "\n",
    "Electricity consumption forecasting requires precision and accuracy. When leveraging Prophet, a tool specifically designed for time series forecasting, it's imperative to fine-tune the model parameters to enhance performance. In this article, we'll delve into ways to adjust the Prophet model to better cater to the intricacies of electricity consumption patterns."
   ]
  },
  {
   "cell_type": "markdown",
   "metadata": {},
   "source": [
    "### Reading .csv Files"
   ]
  },
  {
   "cell_type": "code",
   "execution_count": 13,
   "metadata": {},
   "outputs": [],
   "source": [
    "# Specify the path to the holidays CSV file\n",
    "events_csv_file_path = '/Users/rafetbatuhanemek/Desktop/ElectrictyConsumption/datas/SpecialEvents.csv'\n",
    "\n",
    "# Specify the path to the monthly average temperatures CSV file\n",
    "temperature_csv_file_path = '/Users/rafetbatuhanemek/Desktop/ElectrictyConsumption/datas/Temperatures.csv'\n",
    "\n",
    "# Load your dataframes (assuming they are CSV files, change the file paths if necessary)\n",
    "special_events_data = pd.read_csv(events_csv_file_path)\n",
    "\n",
    "temperature_data = pd.read_csv(temperature_csv_file_path)"
   ]
  },
  {
   "cell_type": "code",
   "execution_count": 22,
   "metadata": {},
   "outputs": [
    {
     "data": {
      "text/html": [
       "<div>\n",
       "<style scoped>\n",
       "    .dataframe tbody tr th:only-of-type {\n",
       "        vertical-align: middle;\n",
       "    }\n",
       "\n",
       "    .dataframe tbody tr th {\n",
       "        vertical-align: top;\n",
       "    }\n",
       "\n",
       "    .dataframe thead th {\n",
       "        text-align: right;\n",
       "    }\n",
       "</style>\n",
       "<table border=\"1\" class=\"dataframe\">\n",
       "  <thead>\n",
       "    <tr style=\"text-align: right;\">\n",
       "      <th></th>\n",
       "      <th>Date</th>\n",
       "      <th>Holiday</th>\n",
       "    </tr>\n",
       "  </thead>\n",
       "  <tbody>\n",
       "    <tr>\n",
       "      <th>0</th>\n",
       "      <td>2021-01-01</td>\n",
       "      <td>Yılbaşı</td>\n",
       "    </tr>\n",
       "    <tr>\n",
       "      <th>1</th>\n",
       "      <td>2021-04-23</td>\n",
       "      <td>Ulusal Egemenlik ve Çocuk Bayramı</td>\n",
       "    </tr>\n",
       "    <tr>\n",
       "      <th>2</th>\n",
       "      <td>2021-05-01</td>\n",
       "      <td>Emek ve Dayanışma Günü</td>\n",
       "    </tr>\n",
       "    <tr>\n",
       "      <th>3</th>\n",
       "      <td>2021-05-12</td>\n",
       "      <td>Ramazan Bayramı Arefesi</td>\n",
       "    </tr>\n",
       "    <tr>\n",
       "      <th>4</th>\n",
       "      <td>2021-05-13</td>\n",
       "      <td>Ramazan Bayramı (1.Gün)</td>\n",
       "    </tr>\n",
       "  </tbody>\n",
       "</table>\n",
       "</div>"
      ],
      "text/plain": [
       "         Date                            Holiday\n",
       "0  2021-01-01                            Yılbaşı\n",
       "1  2021-04-23  Ulusal Egemenlik ve Çocuk Bayramı\n",
       "2  2021-05-01             Emek ve Dayanışma Günü\n",
       "3  2021-05-12            Ramazan Bayramı Arefesi\n",
       "4  2021-05-13            Ramazan Bayramı (1.Gün)"
      ]
     },
     "execution_count": 22,
     "metadata": {},
     "output_type": "execute_result"
    }
   ],
   "source": [
    "# To quickly testing\n",
    "special_events_data.head()\n",
    "\n",
    "#temperature_data.head()"
   ]
  },
  {
   "cell_type": "markdown",
   "metadata": {},
   "source": [
    "### Data Exploring and Pre-processing"
   ]
  },
  {
   "cell_type": "code",
   "execution_count": 23,
   "metadata": {},
   "outputs": [
    {
     "data": {
      "text/plain": [
       "Date       object\n",
       "Holiday    object\n",
       "dtype: object"
      ]
     },
     "execution_count": 23,
     "metadata": {},
     "output_type": "execute_result"
    }
   ],
   "source": [
    "special_events_data.dtypes\n",
    "\n",
    "#temperature_data.dtypes"
   ]
  },
  {
   "cell_type": "code",
   "execution_count": 14,
   "metadata": {},
   "outputs": [],
   "source": [
    "# Convert the 'Date' column to a datetime format in the temperature_data dataframe\n",
    "temperature_data['Date'] = pd.to_datetime(temperature_data['Date'])"
   ]
  },
  {
   "cell_type": "markdown",
   "metadata": {},
   "source": [
    "The  ```.dt``` is an accessor in pandas that allows you to access various components (attributes) of a datetime-like Series or column.\n",
    "\n",
    "The ```.to_period()``` is a method in pandas that is used to convert datetime-like Series or columns into a Period object with a specified frequency."
   ]
  },
  {
   "cell_type": "code",
   "execution_count": 15,
   "metadata": {},
   "outputs": [],
   "source": [
    "# Extracting month and year from the 'ds' column in consumption data to merge with the temperature data\n",
    "consumption_data['YearMonth'] = consumption_data['ds'].dt.to_period('M')\n",
    "\n",
    "# Extracting month and year from the 'Date' column in temperature data\n",
    "temperature_data['YearMonth'] = temperature_data['Date'].dt.to_period('M')"
   ]
  },
  {
   "cell_type": "markdown",
   "metadata": {},
   "source": [
    "#### Prepare to Prophet\n",
    "\n",
    "If you have additional features, such as ```avgtemp``` in this case, they can be included, but the primary columns for Prophet must be ```ds``` and ```y```."
   ]
  },
  {
   "cell_type": "markdown",
   "metadata": {},
   "source": [
    "The ```.merge()``` method in pandas is used to combine two or more DataFrames based on a common column or index. "
   ]
  },
  {
   "cell_type": "code",
   "execution_count": 16,
   "metadata": {},
   "outputs": [],
   "source": [
    "# Merging the datasets on 'YearMonth'\n",
    "data = pd.merge(consumption_data, temperature_data, on='YearMonth', how='left')"
   ]
  },
  {
   "cell_type": "code",
   "execution_count": 17,
   "metadata": {},
   "outputs": [],
   "source": [
    "# Dropping the unnecessary columns\n",
    "data.drop(columns=['Date', 'YearMonth'], inplace=True)\n",
    "\n",
    "# Rename columns to 'ds' and 'y'\n",
    "data.columns = ['y', 'ds', 'avgtemp']\n",
    "\n",
    "# Prepare the holidays dataframe for Prophet\n",
    "special_events_data.columns = ['ds', 'holiday']\n",
    "\n",
    "# Split data into train and test sets\n",
    "train_size = int(len(data) * 0.8)  # 80% for training, adjust as needed\n",
    "train_data = data[:train_size]\n",
    "test_data = data[train_size:]"
   ]
  },
  {
   "cell_type": "code",
   "execution_count": 28,
   "metadata": {},
   "outputs": [
    {
     "data": {
      "text/html": [
       "<div>\n",
       "<style scoped>\n",
       "    .dataframe tbody tr th:only-of-type {\n",
       "        vertical-align: middle;\n",
       "    }\n",
       "\n",
       "    .dataframe tbody tr th {\n",
       "        vertical-align: top;\n",
       "    }\n",
       "\n",
       "    .dataframe thead th {\n",
       "        text-align: right;\n",
       "    }\n",
       "</style>\n",
       "<table border=\"1\" class=\"dataframe\">\n",
       "  <thead>\n",
       "    <tr style=\"text-align: right;\">\n",
       "      <th></th>\n",
       "      <th>y</th>\n",
       "      <th>ds</th>\n",
       "      <th>avgtemp</th>\n",
       "    </tr>\n",
       "  </thead>\n",
       "  <tbody>\n",
       "    <tr>\n",
       "      <th>23347</th>\n",
       "      <td>47620.57</td>\n",
       "      <td>2023-08-31 19:00:00</td>\n",
       "      <td>27.1</td>\n",
       "    </tr>\n",
       "    <tr>\n",
       "      <th>23348</th>\n",
       "      <td>47615.31</td>\n",
       "      <td>2023-08-31 20:00:00</td>\n",
       "      <td>27.1</td>\n",
       "    </tr>\n",
       "    <tr>\n",
       "      <th>23349</th>\n",
       "      <td>46340.15</td>\n",
       "      <td>2023-08-31 21:00:00</td>\n",
       "      <td>27.1</td>\n",
       "    </tr>\n",
       "    <tr>\n",
       "      <th>23350</th>\n",
       "      <td>44764.66</td>\n",
       "      <td>2023-08-31 22:00:00</td>\n",
       "      <td>27.1</td>\n",
       "    </tr>\n",
       "    <tr>\n",
       "      <th>23351</th>\n",
       "      <td>42577.04</td>\n",
       "      <td>2023-08-31 23:00:00</td>\n",
       "      <td>27.1</td>\n",
       "    </tr>\n",
       "  </tbody>\n",
       "</table>\n",
       "</div>"
      ],
      "text/plain": [
       "              y                  ds  avgtemp\n",
       "23347  47620.57 2023-08-31 19:00:00     27.1\n",
       "23348  47615.31 2023-08-31 20:00:00     27.1\n",
       "23349  46340.15 2023-08-31 21:00:00     27.1\n",
       "23350  44764.66 2023-08-31 22:00:00     27.1\n",
       "23351  42577.04 2023-08-31 23:00:00     27.1"
      ]
     },
     "execution_count": 28,
     "metadata": {},
     "output_type": "execute_result"
    }
   ],
   "source": [
    "# To quickly testing\n",
    "data.tail()"
   ]
  },
  {
   "cell_type": "markdown",
   "metadata": {},
   "source": [
    "### Plot the Data\n",
    "\n",
    "You may be familiar with ```Matplotib and Seaborn```, which are commonly taught in Data Science courses for basic plotting. However, for our time series data, we've selected for ```Plotly```, an ```interactive, open-source``` Python library that offers over 40 chart types, including statistical, financial, geographic, scientific, and 3D visualizations. \n",
    "\n",
    "Seaborn and Matplotlib provide limited interactivity, while Plotly provides highly interactive and responsive plots that can be zoomed, panned, and rotated."
   ]
  },
  {
   "cell_type": "code",
   "execution_count": 29,
   "metadata": {},
   "outputs": [
    {
     "data": {
      "image/png": "[encoded data removed]",
      "text/plain": [
       "<Figure size 1200x700 with 2 Axes>"
      ]
     },
     "metadata": {},
     "output_type": "display_data"
    }
   ],
   "source": [
    "# Convert the 'ds' column to datetime format for plotting\n",
    "data['ds'] = pd.to_datetime(data['ds'])\n",
    "\n",
    "# Plotting\n",
    "fig, ax1 = plt.subplots(figsize=(12, 7))\n",
    "\n",
    "# Twin the axes for two different y-axes\n",
    "ax2 = ax1.twinx()\n",
    "\n",
    "# Plot data\n",
    "ax1.plot(data['ds'], data['y'], color='g', label='Consumption (y)')\n",
    "ax2.plot(data['ds'], data['avgtemp'], color='b', linestyle='--', label='Average Temperature (avgtemp)')\n",
    "\n",
    "# Set the y axis labels\n",
    "ax1.set_ylabel('Consumption (MWh)', color='g')\n",
    "ax2.set_ylabel('Average Temperature (°C)', color='b')\n",
    "\n",
    "# Set title and x-axis label\n",
    "ax1.set_title('Consumption and Average Temperature over Time')\n",
    "ax1.set_xlabel('Datetime')\n",
    "\n",
    "# Display the plot\n",
    "plt.tight_layout()\n",
    "plt.show()\n"
   ]
  },
  {
   "cell_type": "markdown",
   "metadata": {},
   "source": [
    "## Additional Regressors\n",
    "\n",
    "Prophet allows you to include additional regressors in the forecasting model using the .```add_regressor()``` method. These regressors can be any continuous or binary variables that might have an impact on the target variable."
   ]
  },
  {
   "cell_type": "code",
   "execution_count": 30,
   "metadata": {},
   "outputs": [
    {
     "name": "stderr",
     "output_type": "stream",
     "text": [
      "15:47:49 - cmdstanpy - INFO - Chain [1] start processing\n",
      "15:48:10 - cmdstanpy - INFO - Chain [1] done processing\n"
     ]
    },
    {
     "name": "stdout",
     "output_type": "stream",
     "text": [
      "MAPE: 5.04%\n"
     ]
    }
   ],
   "source": [
    "# Initialize the Prophet model with built-in daily, weekly, and yearly seasonalities \n",
    "# Also, use the `holidays_data` to account for special occasions.\n",
    "model = Prophet(holidays=special_events_data, daily_seasonality=True, weekly_seasonality=True, yearly_seasonality=True)\n",
    "\n",
    "# Add 'avgtemp' as an external regressor. This helps the model to consider the effects of average temperature\n",
    "model.add_regressor('avgtemp')\n",
    "\n",
    "# Fit the model using the training data\n",
    "model.fit(train_data)\n",
    "\n",
    "# Use the fitted model to predict on the test dataset\n",
    "forecast = model.predict(test_data)\n",
    "\n",
    "# Extract the actual target values from the test dataset\n",
    "actual_values = test_data['y'].values\n",
    "\n",
    "# Extract the predicted values from the forecast\n",
    "forecasted_values = forecast['yhat'].values\n",
    "\n",
    "# Calculate the Mean Absolute Percentage Error (MAPE) between the actual and predicted values\n",
    "mape_value = calculate_mape(actual_values, forecasted_values)\n",
    "\n",
    "# Print the computed MAPE\n",
    "print(f\"MAPE: {mape_value:.2f}%\")\n"
   ]
  },
  {
   "cell_type": "markdown",
   "metadata": {},
   "source": [
    "### MAPE: 5.04%"
   ]
  },
  {
   "cell_type": "markdown",
   "metadata": {},
   "source": [
    "## Tuning the Model Parameters\n",
    "\n",
    "Depending on the initial results, the model can be tuned by adjusting parameters such as seasonality prior sclase, changepoint prior scale, and Fourier order for specific seasonality."
   ]
  },
  {
   "cell_type": "markdown",
   "metadata": {},
   "source": [
    "### Custom Seasonality\n",
    "\n",
    "The ```.add_seasonality()``` method allows you to incorporate custom seasonalities into your forecasting model. Prophet automatically includes built-in yearly and weekly seasonalities, but for certain datasets, there might be other recurring patterns that aren't captured by these default seasonalities.\n"
   ]
  },
  {
   "cell_type": "markdown",
   "metadata": {},
   "source": [
    "\n",
    "    model.add_seasonality(name='monthly', period=30, fourier_order=5, prior_scale:10)\n",
    "\n",
    "-name: A string identifier for the seasonality.\n",
    "\n",
    "-period: The duration of the seasonality cycle. For example, if you believe there's a pattern that repeats every 10 days in your data, you'd set period=10.\n",
    "\n",
    "-fourier_order: This determines the complexity of the seasonality. A higher Fourier order will allow the seasonality to fit more complex patterns.\n",
    "\n",
    "-prior_scale: This controls the flexibility of the seasonal component. Increasing it makes the seasonal component more flexible, while decreasing it makes it more rigid.\n"
   ]
  },
  {
   "cell_type": "markdown",
   "metadata": {},
   "source": [
    "### Determining the Fourier Order and Prior Scale\n",
    "\n",
    "The inputs to this function are a name, the period of the seasonality in days, and the Fourier order for the seasonality. For reference, by default Prophet uses a Fourier order of 3 for ```weekly_seasonality``` and 10 for ```yearly_seasonality```. [1]\n",
    "\n",
    "The ```prior_scale``` parameter in Prophet controls the strength of the regularization applied to specific components of the model. A larger prior_scale allows the component to be more flexible, while a smaller prior_scale constrains it, making it more rigid."
   ]
  },
  {
   "cell_type": "markdown",
   "metadata": {},
   "source": [
    "#### Daily"
   ]
  },
  {
   "cell_type": "code",
   "execution_count": 32,
   "metadata": {},
   "outputs": [
    {
     "name": "stderr",
     "output_type": "stream",
     "text": [
      "15:48:40 - cmdstanpy - INFO - Chain [1] start processing\n",
      "15:49:06 - cmdstanpy - INFO - Chain [1] done processing\n"
     ]
    },
    {
     "name": "stdout",
     "output_type": "stream",
     "text": [
      "Fourier Order: 48, Prior Scale: 4.0, MAPE: 6.06%\n"
     ]
    },
    {
     "name": "stderr",
     "output_type": "stream",
     "text": [
      "15:49:14 - cmdstanpy - INFO - Chain [1] start processing\n",
      "15:49:48 - cmdstanpy - INFO - Chain [1] done processing\n"
     ]
    },
    {
     "name": "stdout",
     "output_type": "stream",
     "text": [
      "Fourier Order: 48, Prior Scale: 4.5, MAPE: 5.68%\n"
     ]
    },
    {
     "name": "stderr",
     "output_type": "stream",
     "text": [
      "15:49:55 - cmdstanpy - INFO - Chain [1] start processing\n",
      "15:50:22 - cmdstanpy - INFO - Chain [1] done processing\n"
     ]
    },
    {
     "name": "stdout",
     "output_type": "stream",
     "text": [
      "Fourier Order: 48, Prior Scale: 5.0, MAPE: 5.79%\n"
     ]
    },
    {
     "name": "stderr",
     "output_type": "stream",
     "text": [
      "15:50:29 - cmdstanpy - INFO - Chain [1] start processing\n",
      "15:50:53 - cmdstanpy - INFO - Chain [1] done processing\n"
     ]
    },
    {
     "name": "stdout",
     "output_type": "stream",
     "text": [
      "Fourier Order: 48, Prior Scale: 5.25, MAPE: 5.96%\n"
     ]
    },
    {
     "name": "stderr",
     "output_type": "stream",
     "text": [
      "15:51:01 - cmdstanpy - INFO - Chain [1] start processing\n",
      "15:51:39 - cmdstanpy - INFO - Chain [1] done processing\n"
     ]
    },
    {
     "name": "stdout",
     "output_type": "stream",
     "text": [
      "Fourier Order: 48, Prior Scale: 5.5, MAPE: 5.58%\n"
     ]
    },
    {
     "name": "stderr",
     "output_type": "stream",
     "text": [
      "15:51:46 - cmdstanpy - INFO - Chain [1] start processing\n",
      "15:52:12 - cmdstanpy - INFO - Chain [1] done processing\n"
     ]
    },
    {
     "name": "stdout",
     "output_type": "stream",
     "text": [
      "Fourier Order: 49, Prior Scale: 4.0, MAPE: 6.02%\n"
     ]
    },
    {
     "name": "stderr",
     "output_type": "stream",
     "text": [
      "15:52:20 - cmdstanpy - INFO - Chain [1] start processing\n",
      "15:52:45 - cmdstanpy - INFO - Chain [1] done processing\n"
     ]
    },
    {
     "name": "stdout",
     "output_type": "stream",
     "text": [
      "Fourier Order: 49, Prior Scale: 4.5, MAPE: 5.89%\n"
     ]
    },
    {
     "name": "stderr",
     "output_type": "stream",
     "text": [
      "15:52:53 - cmdstanpy - INFO - Chain [1] start processing\n",
      "15:53:27 - cmdstanpy - INFO - Chain [1] done processing\n"
     ]
    },
    {
     "name": "stdout",
     "output_type": "stream",
     "text": [
      "Fourier Order: 49, Prior Scale: 5.0, MAPE: 5.51%\n"
     ]
    },
    {
     "name": "stderr",
     "output_type": "stream",
     "text": [
      "15:53:34 - cmdstanpy - INFO - Chain [1] start processing\n",
      "15:54:19 - cmdstanpy - INFO - Chain [1] done processing\n"
     ]
    },
    {
     "name": "stdout",
     "output_type": "stream",
     "text": [
      "Fourier Order: 49, Prior Scale: 5.25, MAPE: 5.38%\n"
     ]
    },
    {
     "name": "stderr",
     "output_type": "stream",
     "text": [
      "15:54:26 - cmdstanpy - INFO - Chain [1] start processing\n",
      "15:54:55 - cmdstanpy - INFO - Chain [1] done processing\n"
     ]
    },
    {
     "name": "stdout",
     "output_type": "stream",
     "text": [
      "Fourier Order: 49, Prior Scale: 5.5, MAPE: 5.60%\n"
     ]
    },
    {
     "name": "stderr",
     "output_type": "stream",
     "text": [
      "15:55:03 - cmdstanpy - INFO - Chain [1] start processing\n",
      "15:55:35 - cmdstanpy - INFO - Chain [1] done processing\n"
     ]
    },
    {
     "name": "stdout",
     "output_type": "stream",
     "text": [
      "Fourier Order: 50, Prior Scale: 4.0, MAPE: 5.74%\n"
     ]
    },
    {
     "name": "stderr",
     "output_type": "stream",
     "text": [
      "15:55:42 - cmdstanpy - INFO - Chain [1] start processing\n",
      "15:56:15 - cmdstanpy - INFO - Chain [1] done processing\n"
     ]
    },
    {
     "name": "stdout",
     "output_type": "stream",
     "text": [
      "Fourier Order: 50, Prior Scale: 4.5, MAPE: 5.85%\n"
     ]
    },
    {
     "name": "stderr",
     "output_type": "stream",
     "text": [
      "15:56:22 - cmdstanpy - INFO - Chain [1] start processing\n",
      "15:56:55 - cmdstanpy - INFO - Chain [1] done processing\n"
     ]
    },
    {
     "name": "stdout",
     "output_type": "stream",
     "text": [
      "Fourier Order: 50, Prior Scale: 5.0, MAPE: 5.94%\n"
     ]
    },
    {
     "name": "stderr",
     "output_type": "stream",
     "text": [
      "15:57:02 - cmdstanpy - INFO - Chain [1] start processing\n",
      "15:57:32 - cmdstanpy - INFO - Chain [1] done processing\n"
     ]
    },
    {
     "name": "stdout",
     "output_type": "stream",
     "text": [
      "Fourier Order: 50, Prior Scale: 5.25, MAPE: 5.73%\n"
     ]
    },
    {
     "name": "stderr",
     "output_type": "stream",
     "text": [
      "15:57:39 - cmdstanpy - INFO - Chain [1] start processing\n",
      "15:58:14 - cmdstanpy - INFO - Chain [1] done processing\n"
     ]
    },
    {
     "name": "stdout",
     "output_type": "stream",
     "text": [
      "Fourier Order: 50, Prior Scale: 5.5, MAPE: 5.43%\n"
     ]
    },
    {
     "name": "stderr",
     "output_type": "stream",
     "text": [
      "15:58:21 - cmdstanpy - INFO - Chain [1] start processing\n",
      "15:58:58 - cmdstanpy - INFO - Chain [1] done processing\n"
     ]
    },
    {
     "name": "stdout",
     "output_type": "stream",
     "text": [
      "Fourier Order: 51, Prior Scale: 4.0, MAPE: 5.66%\n"
     ]
    },
    {
     "name": "stderr",
     "output_type": "stream",
     "text": [
      "15:59:06 - cmdstanpy - INFO - Chain [1] start processing\n",
      "15:59:31 - cmdstanpy - INFO - Chain [1] done processing\n"
     ]
    },
    {
     "name": "stdout",
     "output_type": "stream",
     "text": [
      "Fourier Order: 51, Prior Scale: 4.5, MAPE: 6.19%\n"
     ]
    },
    {
     "name": "stderr",
     "output_type": "stream",
     "text": [
      "15:59:39 - cmdstanpy - INFO - Chain [1] start processing\n",
      "16:00:16 - cmdstanpy - INFO - Chain [1] done processing\n"
     ]
    },
    {
     "name": "stdout",
     "output_type": "stream",
     "text": [
      "Fourier Order: 51, Prior Scale: 5.0, MAPE: 5.45%\n"
     ]
    },
    {
     "name": "stderr",
     "output_type": "stream",
     "text": [
      "16:00:24 - cmdstanpy - INFO - Chain [1] start processing\n",
      "16:00:54 - cmdstanpy - INFO - Chain [1] done processing\n"
     ]
    },
    {
     "name": "stdout",
     "output_type": "stream",
     "text": [
      "Fourier Order: 51, Prior Scale: 5.25, MAPE: 5.63%\n"
     ]
    },
    {
     "name": "stderr",
     "output_type": "stream",
     "text": [
      "16:01:02 - cmdstanpy - INFO - Chain [1] start processing\n",
      "16:01:36 - cmdstanpy - INFO - Chain [1] done processing\n"
     ]
    },
    {
     "name": "stdout",
     "output_type": "stream",
     "text": [
      "Fourier Order: 51, Prior Scale: 5.5, MAPE: 5.58%\n"
     ]
    },
    {
     "name": "stderr",
     "output_type": "stream",
     "text": [
      "16:01:44 - cmdstanpy - INFO - Chain [1] start processing\n",
      "16:02:21 - cmdstanpy - INFO - Chain [1] done processing\n"
     ]
    },
    {
     "name": "stdout",
     "output_type": "stream",
     "text": [
      "Fourier Order: 52, Prior Scale: 4.0, MAPE: 5.42%\n"
     ]
    },
    {
     "name": "stderr",
     "output_type": "stream",
     "text": [
      "16:02:28 - cmdstanpy - INFO - Chain [1] start processing\n",
      "16:03:02 - cmdstanpy - INFO - Chain [1] done processing\n"
     ]
    },
    {
     "name": "stdout",
     "output_type": "stream",
     "text": [
      "Fourier Order: 52, Prior Scale: 4.5, MAPE: 6.14%\n"
     ]
    },
    {
     "name": "stderr",
     "output_type": "stream",
     "text": [
      "16:03:11 - cmdstanpy - INFO - Chain [1] start processing\n",
      "16:03:56 - cmdstanpy - INFO - Chain [1] done processing\n"
     ]
    },
    {
     "name": "stdout",
     "output_type": "stream",
     "text": [
      "Fourier Order: 52, Prior Scale: 5.0, MAPE: 5.46%\n"
     ]
    },
    {
     "name": "stderr",
     "output_type": "stream",
     "text": [
      "16:04:04 - cmdstanpy - INFO - Chain [1] start processing\n",
      "16:04:34 - cmdstanpy - INFO - Chain [1] done processing\n"
     ]
    },
    {
     "name": "stdout",
     "output_type": "stream",
     "text": [
      "Fourier Order: 52, Prior Scale: 5.25, MAPE: 5.80%\n"
     ]
    },
    {
     "name": "stderr",
     "output_type": "stream",
     "text": [
      "16:04:42 - cmdstanpy - INFO - Chain [1] start processing\n",
      "16:05:12 - cmdstanpy - INFO - Chain [1] done processing\n"
     ]
    },
    {
     "name": "stdout",
     "output_type": "stream",
     "text": [
      "Fourier Order: 52, Prior Scale: 5.5, MAPE: 5.71%\n"
     ]
    }
   ],
   "source": [
    "# Lists to store results\n",
    "fourier_orders = [48, 49, 50, 51, 52]  # Fourier orders\n",
    "\n",
    "# Define the prior_scale values you want to test\n",
    "prior_scales = [4.0, 4.5, 5.0, 5.25, 5.5]  # Example values, adjust based on needs\n",
    "\n",
    "for order in fourier_orders:\n",
    "    for scale in prior_scales:\n",
    "        # Initialize the Prophet model with built-in daily, weekly, and yearly seasonalities\n",
    "        # Also, use the `holidays_data` to account for special occasions\n",
    "        model = Prophet(holidays=special_events_data, daily_seasonality=False, weekly_seasonality=True, yearly_seasonality=True)\n",
    "\n",
    "        # Add 'avgtemp' as an external regressor. This helps the model to consider the effects of average temperature\n",
    "        model.add_regressor('avgtemp')\n",
    "        \n",
    "        # Add yearly seasonality with the current period and specified prior_scale\n",
    "        model.add_seasonality(name='daily', period=24, fourier_order=order, prior_scale=scale)\n",
    "\n",
    "        # Fit the model using the training data\n",
    "        model.fit(train_data)\n",
    "\n",
    "        # Use the fitted model to predict on the test dataset\n",
    "        forecast = model.predict(test_data)\n",
    "\n",
    "        # Extract the actual target values from the test dataset\n",
    "        actual_values = test_data['y'].values\n",
    "\n",
    "        # Extract the predicted values from the forecast\n",
    "        forecasted_values = forecast['yhat'].values\n",
    "\n",
    "        # Calculate the Mean Absolute Percentage Error (MAPE) between the actual and predicted values\n",
    "        mape_value = calculate_mape(actual_values, forecasted_values)\n",
    "\n",
    "        # Print the computed MAPE for the current fourier_order and prior_scale combination\n",
    "        print(f\"Fourier Order: {order}, Prior Scale: {scale}, MAPE: {mape_value:.2f}%\")\n"
   ]
  },
  {
   "cell_type": "markdown",
   "metadata": {},
   "source": [
    "#### Weekly"
   ]
  },
  {
   "cell_type": "markdown",
   "metadata": {},
   "source": [
    "When dealing with hourly data, the period of weekly seasonality is 168 hours (24 hours/day * 7 days/week). This is because the data repeats its pattern every 168 hours, which corresponds to a week.\n",
    "\n",
    "As the Fourier order increases, the MAPE generally decreases, indicating that a more flexible seasonality (higher Fourier order) fits this particular dataset better.\n",
    "\n",
    "However, be careful. A too-high Fourier order might overfit the training data, leading to poor generalization to new, unseen data."
   ]
  },
  {
   "cell_type": "code",
   "execution_count": 33,
   "metadata": {},
   "outputs": [
    {
     "name": "stderr",
     "output_type": "stream",
     "text": [
      "16:15:31 - cmdstanpy - INFO - Chain [1] start processing\n",
      "16:15:44 - cmdstanpy - INFO - Chain [1] done processing\n"
     ]
    },
    {
     "name": "stdout",
     "output_type": "stream",
     "text": [
      "Fourier Order: 4, Prior Scale: 0.1, MAPE: 9.17%\n"
     ]
    },
    {
     "name": "stderr",
     "output_type": "stream",
     "text": [
      "16:15:48 - cmdstanpy - INFO - Chain [1] start processing\n",
      "16:16:05 - cmdstanpy - INFO - Chain [1] done processing\n"
     ]
    },
    {
     "name": "stdout",
     "output_type": "stream",
     "text": [
      "Fourier Order: 4, Prior Scale: 0.5, MAPE: 9.14%\n"
     ]
    },
    {
     "name": "stderr",
     "output_type": "stream",
     "text": [
      "16:16:09 - cmdstanpy - INFO - Chain [1] start processing\n",
      "16:16:23 - cmdstanpy - INFO - Chain [1] done processing\n"
     ]
    },
    {
     "name": "stdout",
     "output_type": "stream",
     "text": [
      "Fourier Order: 4, Prior Scale: 1.0, MAPE: 9.06%\n"
     ]
    },
    {
     "name": "stderr",
     "output_type": "stream",
     "text": [
      "16:16:28 - cmdstanpy - INFO - Chain [1] start processing\n",
      "16:16:39 - cmdstanpy - INFO - Chain [1] done processing\n"
     ]
    },
    {
     "name": "stdout",
     "output_type": "stream",
     "text": [
      "Fourier Order: 4, Prior Scale: 5.0, MAPE: 8.82%\n"
     ]
    },
    {
     "name": "stderr",
     "output_type": "stream",
     "text": [
      "16:16:43 - cmdstanpy - INFO - Chain [1] start processing\n",
      "16:16:55 - cmdstanpy - INFO - Chain [1] done processing\n"
     ]
    },
    {
     "name": "stdout",
     "output_type": "stream",
     "text": [
      "Fourier Order: 4, Prior Scale: 10.0, MAPE: 9.06%\n"
     ]
    },
    {
     "name": "stderr",
     "output_type": "stream",
     "text": [
      "16:16:59 - cmdstanpy - INFO - Chain [1] start processing\n",
      "16:17:13 - cmdstanpy - INFO - Chain [1] done processing\n"
     ]
    },
    {
     "name": "stdout",
     "output_type": "stream",
     "text": [
      "Fourier Order: 5, Prior Scale: 0.1, MAPE: 8.27%\n"
     ]
    },
    {
     "name": "stderr",
     "output_type": "stream",
     "text": [
      "16:17:18 - cmdstanpy - INFO - Chain [1] start processing\n",
      "16:17:32 - cmdstanpy - INFO - Chain [1] done processing\n"
     ]
    },
    {
     "name": "stdout",
     "output_type": "stream",
     "text": [
      "Fourier Order: 5, Prior Scale: 0.5, MAPE: 8.30%\n"
     ]
    },
    {
     "name": "stderr",
     "output_type": "stream",
     "text": [
      "16:17:36 - cmdstanpy - INFO - Chain [1] start processing\n",
      "16:17:54 - cmdstanpy - INFO - Chain [1] done processing\n"
     ]
    },
    {
     "name": "stdout",
     "output_type": "stream",
     "text": [
      "Fourier Order: 5, Prior Scale: 1.0, MAPE: 8.38%\n"
     ]
    },
    {
     "name": "stderr",
     "output_type": "stream",
     "text": [
      "16:17:59 - cmdstanpy - INFO - Chain [1] start processing\n",
      "16:18:16 - cmdstanpy - INFO - Chain [1] done processing\n"
     ]
    },
    {
     "name": "stdout",
     "output_type": "stream",
     "text": [
      "Fourier Order: 5, Prior Scale: 5.0, MAPE: 8.36%\n"
     ]
    },
    {
     "name": "stderr",
     "output_type": "stream",
     "text": [
      "16:18:20 - cmdstanpy - INFO - Chain [1] start processing\n",
      "16:18:36 - cmdstanpy - INFO - Chain [1] done processing\n"
     ]
    },
    {
     "name": "stdout",
     "output_type": "stream",
     "text": [
      "Fourier Order: 5, Prior Scale: 10.0, MAPE: 8.28%\n"
     ]
    },
    {
     "name": "stderr",
     "output_type": "stream",
     "text": [
      "16:18:42 - cmdstanpy - INFO - Chain [1] start processing\n",
      "16:18:57 - cmdstanpy - INFO - Chain [1] done processing\n"
     ]
    },
    {
     "name": "stdout",
     "output_type": "stream",
     "text": [
      "Fourier Order: 6, Prior Scale: 0.1, MAPE: 9.45%\n"
     ]
    },
    {
     "name": "stderr",
     "output_type": "stream",
     "text": [
      "16:19:01 - cmdstanpy - INFO - Chain [1] start processing\n",
      "16:19:17 - cmdstanpy - INFO - Chain [1] done processing\n"
     ]
    },
    {
     "name": "stdout",
     "output_type": "stream",
     "text": [
      "Fourier Order: 6, Prior Scale: 0.5, MAPE: 9.34%\n"
     ]
    },
    {
     "name": "stderr",
     "output_type": "stream",
     "text": [
      "16:19:21 - cmdstanpy - INFO - Chain [1] start processing\n",
      "16:19:34 - cmdstanpy - INFO - Chain [1] done processing\n"
     ]
    },
    {
     "name": "stdout",
     "output_type": "stream",
     "text": [
      "Fourier Order: 6, Prior Scale: 1.0, MAPE: 9.56%\n"
     ]
    },
    {
     "name": "stderr",
     "output_type": "stream",
     "text": [
      "16:19:38 - cmdstanpy - INFO - Chain [1] start processing\n",
      "16:19:49 - cmdstanpy - INFO - Chain [1] done processing\n"
     ]
    },
    {
     "name": "stdout",
     "output_type": "stream",
     "text": [
      "Fourier Order: 6, Prior Scale: 5.0, MAPE: 9.01%\n"
     ]
    },
    {
     "name": "stderr",
     "output_type": "stream",
     "text": [
      "16:19:53 - cmdstanpy - INFO - Chain [1] start processing\n",
      "16:20:09 - cmdstanpy - INFO - Chain [1] done processing\n"
     ]
    },
    {
     "name": "stdout",
     "output_type": "stream",
     "text": [
      "Fourier Order: 6, Prior Scale: 10.0, MAPE: 9.20%\n"
     ]
    }
   ],
   "source": [
    "# Lists to store results\n",
    "fourier_orders = [4, 5, 6]  # Fourier orders\n",
    "\n",
    "# Define the prior_scale values you want to test\n",
    "prior_scales = [0.1, 0.5, 1.0, 5.0, 10.0]  # Example values, adjust based on needs\n",
    "\n",
    "for order in fourier_orders:\n",
    "    for scale in prior_scales:\n",
    "        # Initialize the Prophet model with built-in daily, weekly, and yearly seasonalities\n",
    "        # Also, use the `holidays_data` to account for special occasions\n",
    "        model = Prophet(holidays=special_events_data, daily_seasonality=True, weekly_seasonality=False, yearly_seasonality=True)\n",
    "\n",
    "        # Add 'avgtemp' as an external regressor. This helps the model to consider the effects of average temperature\n",
    "        model.add_regressor('avgtemp')\n",
    "        \n",
    "        # Add yearly seasonality with the current period and specified prior_scale\n",
    "        model.add_seasonality(name='weekly', period=168, fourier_order=order, prior_scale=scale)\n",
    "\n",
    "        # Fit the model using the training data\n",
    "        model.fit(train_data)\n",
    "\n",
    "        # Use the fitted model to predict on the test dataset\n",
    "        forecast = model.predict(test_data)\n",
    "\n",
    "        # Extract the actual target values from the test dataset\n",
    "        actual_values = test_data['y'].values\n",
    "\n",
    "        # Extract the predicted values from the forecast\n",
    "        forecasted_values = forecast['yhat'].values\n",
    "\n",
    "        # Calculate the Mean Absolute Percentage Error (MAPE) between the actual and predicted values\n",
    "        mape_value = calculate_mape(actual_values, forecasted_values)\n",
    "\n",
    "        # Print the computed MAPE for the current fourier_order and prior_scale combination\n",
    "        print(f\"Fourier Order: {order}, Prior Scale: {scale}, MAPE: {mape_value:.2f}%\")\n"
   ]
  },
  {
   "cell_type": "markdown",
   "metadata": {},
   "source": [
    "#### Yearly"
   ]
  },
  {
   "cell_type": "code",
   "execution_count": 34,
   "metadata": {},
   "outputs": [
    {
     "name": "stderr",
     "output_type": "stream",
     "text": [
      "16:20:43 - cmdstanpy - INFO - Chain [1] start processing\n",
      "16:21:01 - cmdstanpy - INFO - Chain [1] done processing\n"
     ]
    },
    {
     "name": "stdout",
     "output_type": "stream",
     "text": [
      "Fourier Order: 1, Prior Scale: 0.1, MAPE: 8.88%\n"
     ]
    },
    {
     "name": "stderr",
     "output_type": "stream",
     "text": [
      "16:21:05 - cmdstanpy - INFO - Chain [1] start processing\n",
      "16:21:27 - cmdstanpy - INFO - Chain [1] done processing\n"
     ]
    },
    {
     "name": "stdout",
     "output_type": "stream",
     "text": [
      "Fourier Order: 1, Prior Scale: 0.5, MAPE: 8.71%\n"
     ]
    },
    {
     "name": "stderr",
     "output_type": "stream",
     "text": [
      "16:21:30 - cmdstanpy - INFO - Chain [1] start processing\n",
      "16:21:52 - cmdstanpy - INFO - Chain [1] done processing\n"
     ]
    },
    {
     "name": "stdout",
     "output_type": "stream",
     "text": [
      "Fourier Order: 1, Prior Scale: 1.0, MAPE: 8.71%\n"
     ]
    },
    {
     "name": "stderr",
     "output_type": "stream",
     "text": [
      "16:21:55 - cmdstanpy - INFO - Chain [1] start processing\n",
      "16:22:32 - cmdstanpy - INFO - Chain [1] done processing\n"
     ]
    },
    {
     "name": "stdout",
     "output_type": "stream",
     "text": [
      "Fourier Order: 1, Prior Scale: 5.0, MAPE: 8.66%\n"
     ]
    },
    {
     "name": "stderr",
     "output_type": "stream",
     "text": [
      "16:22:36 - cmdstanpy - INFO - Chain [1] start processing\n",
      "16:23:08 - cmdstanpy - INFO - Chain [1] done processing\n"
     ]
    },
    {
     "name": "stdout",
     "output_type": "stream",
     "text": [
      "Fourier Order: 1, Prior Scale: 10.0, MAPE: 8.63%\n"
     ]
    },
    {
     "name": "stderr",
     "output_type": "stream",
     "text": [
      "16:23:12 - cmdstanpy - INFO - Chain [1] start processing\n",
      "16:23:35 - cmdstanpy - INFO - Chain [1] done processing\n"
     ]
    },
    {
     "name": "stdout",
     "output_type": "stream",
     "text": [
      "Fourier Order: 2, Prior Scale: 0.1, MAPE: 8.65%\n"
     ]
    },
    {
     "name": "stderr",
     "output_type": "stream",
     "text": [
      "16:23:38 - cmdstanpy - INFO - Chain [1] start processing\n",
      "16:24:01 - cmdstanpy - INFO - Chain [1] done processing\n"
     ]
    },
    {
     "name": "stdout",
     "output_type": "stream",
     "text": [
      "Fourier Order: 2, Prior Scale: 0.5, MAPE: 14.39%\n"
     ]
    },
    {
     "name": "stderr",
     "output_type": "stream",
     "text": [
      "16:24:04 - cmdstanpy - INFO - Chain [1] start processing\n",
      "16:24:35 - cmdstanpy - INFO - Chain [1] done processing\n"
     ]
    },
    {
     "name": "stdout",
     "output_type": "stream",
     "text": [
      "Fourier Order: 2, Prior Scale: 1.0, MAPE: 21.25%\n"
     ]
    },
    {
     "name": "stderr",
     "output_type": "stream",
     "text": [
      "16:24:38 - cmdstanpy - INFO - Chain [1] start processing\n",
      "16:25:12 - cmdstanpy - INFO - Chain [1] done processing\n"
     ]
    },
    {
     "name": "stdout",
     "output_type": "stream",
     "text": [
      "Fourier Order: 2, Prior Scale: 5.0, MAPE: 21.44%\n"
     ]
    },
    {
     "name": "stderr",
     "output_type": "stream",
     "text": [
      "16:25:16 - cmdstanpy - INFO - Chain [1] start processing\n",
      "16:25:47 - cmdstanpy - INFO - Chain [1] done processing\n"
     ]
    },
    {
     "name": "stdout",
     "output_type": "stream",
     "text": [
      "Fourier Order: 2, Prior Scale: 10.0, MAPE: 23.31%\n"
     ]
    },
    {
     "name": "stderr",
     "output_type": "stream",
     "text": [
      "16:25:50 - cmdstanpy - INFO - Chain [1] start processing\n",
      "16:26:11 - cmdstanpy - INFO - Chain [1] done processing\n"
     ]
    },
    {
     "name": "stdout",
     "output_type": "stream",
     "text": [
      "Fourier Order: 3, Prior Scale: 0.1, MAPE: 12.49%\n"
     ]
    },
    {
     "name": "stderr",
     "output_type": "stream",
     "text": [
      "16:26:15 - cmdstanpy - INFO - Chain [1] start processing\n",
      "16:26:42 - cmdstanpy - INFO - Chain [1] done processing\n"
     ]
    },
    {
     "name": "stdout",
     "output_type": "stream",
     "text": [
      "Fourier Order: 3, Prior Scale: 0.5, MAPE: 25.30%\n"
     ]
    },
    {
     "name": "stderr",
     "output_type": "stream",
     "text": [
      "16:26:46 - cmdstanpy - INFO - Chain [1] start processing\n",
      "16:27:17 - cmdstanpy - INFO - Chain [1] done processing\n"
     ]
    },
    {
     "name": "stdout",
     "output_type": "stream",
     "text": [
      "Fourier Order: 3, Prior Scale: 1.0, MAPE: 26.77%\n"
     ]
    },
    {
     "name": "stderr",
     "output_type": "stream",
     "text": [
      "16:27:22 - cmdstanpy - INFO - Chain [1] start processing\n",
      "16:27:48 - cmdstanpy - INFO - Chain [1] done processing\n"
     ]
    },
    {
     "name": "stdout",
     "output_type": "stream",
     "text": [
      "Fourier Order: 3, Prior Scale: 5.0, MAPE: 26.02%\n"
     ]
    },
    {
     "name": "stderr",
     "output_type": "stream",
     "text": [
      "16:27:52 - cmdstanpy - INFO - Chain [1] start processing\n",
      "16:28:19 - cmdstanpy - INFO - Chain [1] done processing\n"
     ]
    },
    {
     "name": "stdout",
     "output_type": "stream",
     "text": [
      "Fourier Order: 3, Prior Scale: 10.0, MAPE: 26.08%\n"
     ]
    },
    {
     "name": "stderr",
     "output_type": "stream",
     "text": [
      "16:28:23 - cmdstanpy - INFO - Chain [1] start processing\n",
      "16:28:46 - cmdstanpy - INFO - Chain [1] done processing\n"
     ]
    },
    {
     "name": "stdout",
     "output_type": "stream",
     "text": [
      "Fourier Order: 4, Prior Scale: 0.1, MAPE: 20.30%\n"
     ]
    },
    {
     "name": "stderr",
     "output_type": "stream",
     "text": [
      "16:28:50 - cmdstanpy - INFO - Chain [1] start processing\n",
      "16:29:16 - cmdstanpy - INFO - Chain [1] done processing\n"
     ]
    },
    {
     "name": "stdout",
     "output_type": "stream",
     "text": [
      "Fourier Order: 4, Prior Scale: 0.5, MAPE: 30.09%\n"
     ]
    },
    {
     "name": "stderr",
     "output_type": "stream",
     "text": [
      "16:29:20 - cmdstanpy - INFO - Chain [1] start processing\n",
      "16:29:37 - cmdstanpy - INFO - Chain [1] done processing\n"
     ]
    },
    {
     "name": "stdout",
     "output_type": "stream",
     "text": [
      "Fourier Order: 4, Prior Scale: 1.0, MAPE: 31.74%\n"
     ]
    },
    {
     "name": "stderr",
     "output_type": "stream",
     "text": [
      "16:29:41 - cmdstanpy - INFO - Chain [1] start processing\n",
      "16:30:15 - cmdstanpy - INFO - Chain [1] done processing\n"
     ]
    },
    {
     "name": "stdout",
     "output_type": "stream",
     "text": [
      "Fourier Order: 4, Prior Scale: 5.0, MAPE: 30.90%\n"
     ]
    },
    {
     "name": "stderr",
     "output_type": "stream",
     "text": [
      "16:30:18 - cmdstanpy - INFO - Chain [1] start processing\n",
      "16:30:44 - cmdstanpy - INFO - Chain [1] done processing\n"
     ]
    },
    {
     "name": "stdout",
     "output_type": "stream",
     "text": [
      "Fourier Order: 4, Prior Scale: 10.0, MAPE: 30.59%\n"
     ]
    }
   ],
   "source": [
    "# Lists to store results\n",
    "fourier_orders = [1, 2, 3, 4]  # Fourier orders\n",
    "\n",
    "# Define the prior_scale values you want to test\n",
    "prior_scales = [0.1, 0.5, 1.0, 5.0, 10.0]  # Example values, adjust based on needs\n",
    "\n",
    "for order in fourier_orders:\n",
    "    for scale in prior_scales:\n",
    "        # Initialize the Prophet model with built-in daily, weekly, and yearly seasonalities\n",
    "        # Also, use the `holidays_data` to account for special occasions\n",
    "        model = Prophet(holidays=special_events_data, daily_seasonality=True, weekly_seasonality=True, yearly_seasonality=False)\n",
    "\n",
    "        # Add 'avgtemp' as an external regressor. This helps the model to consider the effects of average temperature\n",
    "        model.add_regressor('avgtemp')\n",
    "        \n",
    "        # Add yearly seasonality with the current period and specified prior_scale\n",
    "        model.add_seasonality(name='yearly', period=8760, fourier_order=order, prior_scale=scale)\n",
    "\n",
    "        # Fit the model using the training data\n",
    "        model.fit(train_data)\n",
    "\n",
    "        # Use the fitted model to predict on the test dataset\n",
    "        forecast = model.predict(test_data)\n",
    "\n",
    "        # Extract the actual target values from the test dataset\n",
    "        actual_values = test_data['y'].values\n",
    "\n",
    "        # Extract the predicted values from the forecast\n",
    "        forecasted_values = forecast['yhat'].values\n",
    "\n",
    "        # Calculate the Mean Absolute Percentage Error (MAPE) between the actual and predicted values\n",
    "        mape_value = calculate_mape(actual_values, forecasted_values)\n",
    "\n",
    "        # Print the computed MAPE for the current fourier_order and prior_scale combination\n",
    "        print(f\"Fourier Order: {order}, Prior Scale: {scale}, MAPE: {mape_value:.2f}%\")\n"
   ]
  },
  {
   "cell_type": "markdown",
   "metadata": {},
   "source": [
    "#### Evaluating the Custom Seasonality\n",
    "\n",
    "While increasing the Fourier number improves fit, there is a risk of overfitting, especially for longer seasonality. Considering the MAPE values of the prediction results made with different Fourier order values, the model will give more accurate results with Prophet's built-in values."
   ]
  },
  {
   "cell_type": "markdown",
   "metadata": {},
   "source": [
    "### Determining the Holidays Prior Scale\n",
    "\n",
    "The ```holidays_prior_scale``` parameter helps control the regularization of the holiday effects in the forecasting model. It determines the flexibility of the holiday effects and can be adjusted to achieve a better fit to the data based on the prominence of holidays in your dataset. If not specified, Prophet uses a default value of 10.0. [2]\n",
    "\n",
    "A higher holidays_prior_scale allows the model to fit larger holiday effects, meaning holidays can have a more pronounced impact on the forecast.\n",
    "\n",
    "A lower holidays_prior_scale makes the holiday effects more constrained, meaning the model will be less influenced by holidays.\n"
   ]
  },
  {
   "cell_type": "code",
   "execution_count": 35,
   "metadata": {},
   "outputs": [
    {
     "name": "stderr",
     "output_type": "stream",
     "text": [
      "16:38:54 - cmdstanpy - INFO - Chain [1] start processing\n",
      "16:39:13 - cmdstanpy - INFO - Chain [1] done processing\n"
     ]
    },
    {
     "name": "stdout",
     "output_type": "stream",
     "text": [
      "Prior Scale: 0.05, MAPE: 5.66%\n"
     ]
    },
    {
     "name": "stderr",
     "output_type": "stream",
     "text": [
      "16:39:16 - cmdstanpy - INFO - Chain [1] start processing\n",
      "16:39:39 - cmdstanpy - INFO - Chain [1] done processing\n"
     ]
    },
    {
     "name": "stdout",
     "output_type": "stream",
     "text": [
      "Prior Scale: 0.1, MAPE: 4.99%\n"
     ]
    },
    {
     "name": "stderr",
     "output_type": "stream",
     "text": [
      "16:39:43 - cmdstanpy - INFO - Chain [1] start processing\n",
      "16:40:03 - cmdstanpy - INFO - Chain [1] done processing\n"
     ]
    },
    {
     "name": "stdout",
     "output_type": "stream",
     "text": [
      "Prior Scale: 0.2, MAPE: 5.15%\n"
     ]
    },
    {
     "name": "stderr",
     "output_type": "stream",
     "text": [
      "16:40:07 - cmdstanpy - INFO - Chain [1] start processing\n",
      "16:40:27 - cmdstanpy - INFO - Chain [1] done processing\n"
     ]
    },
    {
     "name": "stdout",
     "output_type": "stream",
     "text": [
      "Prior Scale: 0.5, MAPE: 5.11%\n"
     ]
    }
   ],
   "source": [
    "# Define the prior_scale values you want to test\n",
    "holidays_prior_scales = [0.05, 0.1, 0.2, 0.5]  # Example values, adjust based on needs\n",
    "\n",
    "for scale in holidays_prior_scales:\n",
    "    \n",
    "    # Initialize the Prophet model with built-in daily, weekly, and yearly seasonalities\n",
    "    # Also, use the `holidays_data` to account for special occasions\n",
    "    model = Prophet(holidays=special_events_data, holidays_prior_scale=scale, daily_seasonality=True, weekly_seasonality=True, yearly_seasonality=True)\n",
    "\n",
    "    # Add 'avgtemp' as an external regressor. This helps the model to consider the effects of average temperature\n",
    "    model.add_regressor('avgtemp')\n",
    "\n",
    "    # Fit the model using the training data\n",
    "    model.fit(train_data)\n",
    "\n",
    "    # Use the fitted model to predict on the test dataset\n",
    "    forecast = model.predict(test_data)\n",
    "\n",
    "    # Extract the actual target values from the test dataset\n",
    "    actual_values = test_data['y'].values\n",
    "\n",
    "    # Extract the predicted values from the forecast\n",
    "    forecasted_values = forecast['yhat'].values\n",
    "\n",
    "    # Calculate the Mean Absolute Percentage Error (MAPE) between the actual and predicted values\n",
    "    mape_value = calculate_mape(actual_values, forecasted_values)\n",
    "\n",
    "    # Print the computed MAPE for the current fourier_order and prior_scale combination\n",
    "    print(f\"Prior Scale: {scale}, MAPE: {mape_value:.2f}%\")\n"
   ]
  },
  {
   "cell_type": "markdown",
   "metadata": {},
   "source": [
    "### Prior Scale: 0.1, MAPE: 4.99%"
   ]
  },
  {
   "cell_type": "markdown",
   "metadata": {},
   "source": [
    "# Conclusion\n",
    "\n",
    "Analyzed and predicted electricity consumption in Turkey with a data set extending from 2021 to 2023 with Time Series Analysis using Facebook Prophet. The Prophet model is initialized with daily, weekly, and annual seasonality and adjusted to account for special events using Special_events_data. Additionally, by setting holiday_prior_scale to 0.1 and including 'avgtemp' as an external regressor, the accuracy of the model in accounting for temperature effects was improved. This comprehensive approach, combined with data visualization, highlighted the relationship between electricity consumption and average temperatures, demonstrating Prophet's adaptability and the importance of a versatile strategy in precise time series forecasts."
   ]
  },
  {
   "cell_type": "code",
   "execution_count": 36,
   "metadata": {},
   "outputs": [
    {
     "name": "stderr",
     "output_type": "stream",
     "text": [
      "16:53:45 - cmdstanpy - INFO - Chain [1] start processing\n",
      "16:54:08 - cmdstanpy - INFO - Chain [1] done processing\n"
     ]
    },
    {
     "name": "stdout",
     "output_type": "stream",
     "text": [
      "MAPE: 4.99%\n"
     ]
    }
   ],
   "source": [
    "# Initialize the Prophet model with built-in daily, weekly, and yearly seasonalities \n",
    "# Also, use the `holidays_data` to account for special occasions.\n",
    "model = Prophet(holidays=special_events_data, holidays_prior_scale=0.1, daily_seasonality=True, weekly_seasonality=True, yearly_seasonality=True)\n",
    "\n",
    "# Add 'avgtemp' as an external regressor. This helps the model to consider the effects of average temperature\n",
    "model.add_regressor('avgtemp')\n",
    "\n",
    "# Fit the model using the training data\n",
    "model.fit(train_data)\n",
    "\n",
    "# Use the fitted model to predict on the test dataset\n",
    "forecast = model.predict(test_data)\n",
    "\n",
    "# Extract the actual target values from the test dataset\n",
    "actual_values = test_data['y'].values\n",
    "\n",
    "# Extract the predicted values from the forecast\n",
    "forecasted_values = forecast['yhat'].values\n",
    "\n",
    "# Calculate the Mean Absolute Percentage Error (MAPE) between the actual and predicted values\n",
    "mape_value = calculate_mape(actual_values, forecasted_values)\n",
    "\n",
    "# Print the computed MAPE\n",
    "print(f\"MAPE: {mape_value:.2f}%\")"
   ]
  },
  {
   "cell_type": "code",
   "execution_count": 22,
   "metadata": {},
   "outputs": [
    {
     "name": "stderr",
     "output_type": "stream",
     "text": [
      "17:40:21 - cmdstanpy - INFO - Chain [1] start processing\n",
      "17:41:06 - cmdstanpy - INFO - Chain [1] done processing\n"
     ]
    },
    {
     "data": {
      "text/html": [
       "<div>\n",
       "<style scoped>\n",
       "    .dataframe tbody tr th:only-of-type {\n",
       "        vertical-align: middle;\n",
       "    }\n",
       "\n",
       "    .dataframe tbody tr th {\n",
       "        vertical-align: top;\n",
       "    }\n",
       "\n",
       "    .dataframe thead th {\n",
       "        text-align: right;\n",
       "    }\n",
       "</style>\n",
       "<table border=\"1\" class=\"dataframe\">\n",
       "  <thead>\n",
       "    <tr style=\"text-align: right;\">\n",
       "      <th></th>\n",
       "      <th>ds</th>\n",
       "      <th>trend</th>\n",
       "      <th>yhat_lower</th>\n",
       "      <th>yhat_upper</th>\n",
       "      <th>trend_lower</th>\n",
       "      <th>trend_upper</th>\n",
       "      <th>Atatürk'ü Anma, Gençlik ve Spor Bayramı</th>\n",
       "      <th>Atatürk'ü Anma, Gençlik ve Spor Bayramı_lower</th>\n",
       "      <th>Atatürk'ü Anma, Gençlik ve Spor Bayramı_upper</th>\n",
       "      <th>Cumhuriyet Bayramı</th>\n",
       "      <th>...</th>\n",
       "      <th>weekly</th>\n",
       "      <th>weekly_lower</th>\n",
       "      <th>weekly_upper</th>\n",
       "      <th>yearly</th>\n",
       "      <th>yearly_lower</th>\n",
       "      <th>yearly_upper</th>\n",
       "      <th>multiplicative_terms</th>\n",
       "      <th>multiplicative_terms_lower</th>\n",
       "      <th>multiplicative_terms_upper</th>\n",
       "      <th>yhat</th>\n",
       "    </tr>\n",
       "  </thead>\n",
       "  <tbody>\n",
       "    <tr>\n",
       "      <th>0</th>\n",
       "      <td>2023-09-01 00:00:00</td>\n",
       "      <td>39093.301728</td>\n",
       "      <td>39449.645488</td>\n",
       "      <td>43946.975140</td>\n",
       "      <td>39093.301728</td>\n",
       "      <td>39093.301728</td>\n",
       "      <td>0.0</td>\n",
       "      <td>0.0</td>\n",
       "      <td>0.0</td>\n",
       "      <td>0.0</td>\n",
       "      <td>...</td>\n",
       "      <td>1048.630830</td>\n",
       "      <td>1048.630830</td>\n",
       "      <td>1048.630830</td>\n",
       "      <td>4909.926884</td>\n",
       "      <td>4909.926884</td>\n",
       "      <td>4909.926884</td>\n",
       "      <td>0.0</td>\n",
       "      <td>0.0</td>\n",
       "      <td>0.0</td>\n",
       "      <td>41729.028666</td>\n",
       "    </tr>\n",
       "    <tr>\n",
       "      <th>1</th>\n",
       "      <td>2023-09-01 01:00:00</td>\n",
       "      <td>39093.897480</td>\n",
       "      <td>37993.134458</td>\n",
       "      <td>42654.947416</td>\n",
       "      <td>39093.897480</td>\n",
       "      <td>39093.897480</td>\n",
       "      <td>0.0</td>\n",
       "      <td>0.0</td>\n",
       "      <td>0.0</td>\n",
       "      <td>0.0</td>\n",
       "      <td>...</td>\n",
       "      <td>1029.075923</td>\n",
       "      <td>1029.075923</td>\n",
       "      <td>1029.075923</td>\n",
       "      <td>4900.825489</td>\n",
       "      <td>4900.825489</td>\n",
       "      <td>4900.825489</td>\n",
       "      <td>0.0</td>\n",
       "      <td>0.0</td>\n",
       "      <td>0.0</td>\n",
       "      <td>40281.044593</td>\n",
       "    </tr>\n",
       "    <tr>\n",
       "      <th>2</th>\n",
       "      <td>2023-09-01 02:00:00</td>\n",
       "      <td>39094.493232</td>\n",
       "      <td>37043.606863</td>\n",
       "      <td>41746.602433</td>\n",
       "      <td>39094.493232</td>\n",
       "      <td>39094.493232</td>\n",
       "      <td>0.0</td>\n",
       "      <td>0.0</td>\n",
       "      <td>0.0</td>\n",
       "      <td>0.0</td>\n",
       "      <td>...</td>\n",
       "      <td>1013.985151</td>\n",
       "      <td>1013.985151</td>\n",
       "      <td>1013.985151</td>\n",
       "      <td>4891.711591</td>\n",
       "      <td>4891.711591</td>\n",
       "      <td>4891.711591</td>\n",
       "      <td>0.0</td>\n",
       "      <td>0.0</td>\n",
       "      <td>0.0</td>\n",
       "      <td>39361.153772</td>\n",
       "    </tr>\n",
       "    <tr>\n",
       "      <th>3</th>\n",
       "      <td>2023-09-01 03:00:00</td>\n",
       "      <td>39095.088984</td>\n",
       "      <td>36244.790465</td>\n",
       "      <td>40952.044494</td>\n",
       "      <td>39095.088984</td>\n",
       "      <td>39095.088984</td>\n",
       "      <td>0.0</td>\n",
       "      <td>0.0</td>\n",
       "      <td>0.0</td>\n",
       "      <td>0.0</td>\n",
       "      <td>...</td>\n",
       "      <td>1003.393747</td>\n",
       "      <td>1003.393747</td>\n",
       "      <td>1003.393747</td>\n",
       "      <td>4882.585246</td>\n",
       "      <td>4882.585246</td>\n",
       "      <td>4882.585246</td>\n",
       "      <td>0.0</td>\n",
       "      <td>0.0</td>\n",
       "      <td>0.0</td>\n",
       "      <td>38583.408373</td>\n",
       "    </tr>\n",
       "    <tr>\n",
       "      <th>4</th>\n",
       "      <td>2023-09-01 04:00:00</td>\n",
       "      <td>39095.684736</td>\n",
       "      <td>35415.987392</td>\n",
       "      <td>40094.882745</td>\n",
       "      <td>39095.684736</td>\n",
       "      <td>39095.684736</td>\n",
       "      <td>0.0</td>\n",
       "      <td>0.0</td>\n",
       "      <td>0.0</td>\n",
       "      <td>0.0</td>\n",
       "      <td>...</td>\n",
       "      <td>997.234627</td>\n",
       "      <td>997.234627</td>\n",
       "      <td>997.234627</td>\n",
       "      <td>4873.446510</td>\n",
       "      <td>4873.446510</td>\n",
       "      <td>4873.446510</td>\n",
       "      <td>0.0</td>\n",
       "      <td>0.0</td>\n",
       "      <td>0.0</td>\n",
       "      <td>37742.532670</td>\n",
       "    </tr>\n",
       "    <tr>\n",
       "      <th>...</th>\n",
       "      <td>...</td>\n",
       "      <td>...</td>\n",
       "      <td>...</td>\n",
       "      <td>...</td>\n",
       "      <td>...</td>\n",
       "      <td>...</td>\n",
       "      <td>...</td>\n",
       "      <td>...</td>\n",
       "      <td>...</td>\n",
       "      <td>...</td>\n",
       "      <td>...</td>\n",
       "      <td>...</td>\n",
       "      <td>...</td>\n",
       "      <td>...</td>\n",
       "      <td>...</td>\n",
       "      <td>...</td>\n",
       "      <td>...</td>\n",
       "      <td>...</td>\n",
       "      <td>...</td>\n",
       "      <td>...</td>\n",
       "      <td>...</td>\n",
       "    </tr>\n",
       "    <tr>\n",
       "      <th>715</th>\n",
       "      <td>2023-09-30 19:00:00</td>\n",
       "      <td>39519.264429</td>\n",
       "      <td>35520.828437</td>\n",
       "      <td>40626.022709</td>\n",
       "      <td>39065.065582</td>\n",
       "      <td>39860.472001</td>\n",
       "      <td>0.0</td>\n",
       "      <td>0.0</td>\n",
       "      <td>0.0</td>\n",
       "      <td>0.0</td>\n",
       "      <td>...</td>\n",
       "      <td>-2181.056517</td>\n",
       "      <td>-2181.056517</td>\n",
       "      <td>-2181.056517</td>\n",
       "      <td>-1016.006451</td>\n",
       "      <td>-1016.006451</td>\n",
       "      <td>-1016.006451</td>\n",
       "      <td>0.0</td>\n",
       "      <td>0.0</td>\n",
       "      <td>0.0</td>\n",
       "      <td>38162.849692</td>\n",
       "    </tr>\n",
       "    <tr>\n",
       "      <th>716</th>\n",
       "      <td>2023-09-30 20:00:00</td>\n",
       "      <td>39519.860181</td>\n",
       "      <td>35469.809410</td>\n",
       "      <td>40273.134894</td>\n",
       "      <td>39065.246969</td>\n",
       "      <td>39862.218208</td>\n",
       "      <td>0.0</td>\n",
       "      <td>0.0</td>\n",
       "      <td>0.0</td>\n",
       "      <td>0.0</td>\n",
       "      <td>...</td>\n",
       "      <td>-2404.437785</td>\n",
       "      <td>-2404.437785</td>\n",
       "      <td>-2404.437785</td>\n",
       "      <td>-1020.227625</td>\n",
       "      <td>-1020.227625</td>\n",
       "      <td>-1020.227625</td>\n",
       "      <td>0.0</td>\n",
       "      <td>0.0</td>\n",
       "      <td>0.0</td>\n",
       "      <td>38013.440876</td>\n",
       "    </tr>\n",
       "    <tr>\n",
       "      <th>717</th>\n",
       "      <td>2023-09-30 21:00:00</td>\n",
       "      <td>39520.455933</td>\n",
       "      <td>35193.402283</td>\n",
       "      <td>39791.949149</td>\n",
       "      <td>39067.099518</td>\n",
       "      <td>39863.964415</td>\n",
       "      <td>0.0</td>\n",
       "      <td>0.0</td>\n",
       "      <td>0.0</td>\n",
       "      <td>0.0</td>\n",
       "      <td>...</td>\n",
       "      <td>-2624.465964</td>\n",
       "      <td>-2624.465964</td>\n",
       "      <td>-2624.465964</td>\n",
       "      <td>-1024.438056</td>\n",
       "      <td>-1024.438056</td>\n",
       "      <td>-1024.438056</td>\n",
       "      <td>0.0</td>\n",
       "      <td>0.0</td>\n",
       "      <td>0.0</td>\n",
       "      <td>37481.843603</td>\n",
       "    </tr>\n",
       "    <tr>\n",
       "      <th>718</th>\n",
       "      <td>2023-09-30 22:00:00</td>\n",
       "      <td>39521.051685</td>\n",
       "      <td>33561.373154</td>\n",
       "      <td>38289.608626</td>\n",
       "      <td>39068.952068</td>\n",
       "      <td>39865.710622</td>\n",
       "      <td>0.0</td>\n",
       "      <td>0.0</td>\n",
       "      <td>0.0</td>\n",
       "      <td>0.0</td>\n",
       "      <td>...</td>\n",
       "      <td>-2839.431987</td>\n",
       "      <td>-2839.431987</td>\n",
       "      <td>-2839.431987</td>\n",
       "      <td>-1028.637780</td>\n",
       "      <td>-1028.637780</td>\n",
       "      <td>-1028.637780</td>\n",
       "      <td>0.0</td>\n",
       "      <td>0.0</td>\n",
       "      <td>0.0</td>\n",
       "      <td>36108.864813</td>\n",
       "    </tr>\n",
       "    <tr>\n",
       "      <th>719</th>\n",
       "      <td>2023-09-30 23:00:00</td>\n",
       "      <td>39521.647437</td>\n",
       "      <td>31499.971019</td>\n",
       "      <td>36359.441985</td>\n",
       "      <td>39069.573379</td>\n",
       "      <td>39867.456828</td>\n",
       "      <td>0.0</td>\n",
       "      <td>0.0</td>\n",
       "      <td>0.0</td>\n",
       "      <td>0.0</td>\n",
       "      <td>...</td>\n",
       "      <td>-3047.627153</td>\n",
       "      <td>-3047.627153</td>\n",
       "      <td>-3047.627153</td>\n",
       "      <td>-1032.826835</td>\n",
       "      <td>-1032.826835</td>\n",
       "      <td>-1032.826835</td>\n",
       "      <td>0.0</td>\n",
       "      <td>0.0</td>\n",
       "      <td>0.0</td>\n",
       "      <td>34038.884348</td>\n",
       "    </tr>\n",
       "  </tbody>\n",
       "</table>\n",
       "<p>720 rows × 85 columns</p>\n",
       "</div>"
      ],
      "text/plain": [
       "                     ds         trend    yhat_lower    yhat_upper   \n",
       "0   2023-09-01 00:00:00  39093.301728  39449.645488  43946.975140  \\\n",
       "1   2023-09-01 01:00:00  39093.897480  37993.134458  42654.947416   \n",
       "2   2023-09-01 02:00:00  39094.493232  37043.606863  41746.602433   \n",
       "3   2023-09-01 03:00:00  39095.088984  36244.790465  40952.044494   \n",
       "4   2023-09-01 04:00:00  39095.684736  35415.987392  40094.882745   \n",
       "..                  ...           ...           ...           ...   \n",
       "715 2023-09-30 19:00:00  39519.264429  35520.828437  40626.022709   \n",
       "716 2023-09-30 20:00:00  39519.860181  35469.809410  40273.134894   \n",
       "717 2023-09-30 21:00:00  39520.455933  35193.402283  39791.949149   \n",
       "718 2023-09-30 22:00:00  39521.051685  33561.373154  38289.608626   \n",
       "719 2023-09-30 23:00:00  39521.647437  31499.971019  36359.441985   \n",
       "\n",
       "      trend_lower   trend_upper  Atatürk'ü Anma, Gençlik ve Spor Bayramı   \n",
       "0    39093.301728  39093.301728                                      0.0  \\\n",
       "1    39093.897480  39093.897480                                      0.0   \n",
       "2    39094.493232  39094.493232                                      0.0   \n",
       "3    39095.088984  39095.088984                                      0.0   \n",
       "4    39095.684736  39095.684736                                      0.0   \n",
       "..            ...           ...                                      ...   \n",
       "715  39065.065582  39860.472001                                      0.0   \n",
       "716  39065.246969  39862.218208                                      0.0   \n",
       "717  39067.099518  39863.964415                                      0.0   \n",
       "718  39068.952068  39865.710622                                      0.0   \n",
       "719  39069.573379  39867.456828                                      0.0   \n",
       "\n",
       "     Atatürk'ü Anma, Gençlik ve Spor Bayramı_lower   \n",
       "0                                              0.0  \\\n",
       "1                                              0.0   \n",
       "2                                              0.0   \n",
       "3                                              0.0   \n",
       "4                                              0.0   \n",
       "..                                             ...   \n",
       "715                                            0.0   \n",
       "716                                            0.0   \n",
       "717                                            0.0   \n",
       "718                                            0.0   \n",
       "719                                            0.0   \n",
       "\n",
       "     Atatürk'ü Anma, Gençlik ve Spor Bayramı_upper  Cumhuriyet Bayramı  ...   \n",
       "0                                              0.0                 0.0  ...  \\\n",
       "1                                              0.0                 0.0  ...   \n",
       "2                                              0.0                 0.0  ...   \n",
       "3                                              0.0                 0.0  ...   \n",
       "4                                              0.0                 0.0  ...   \n",
       "..                                             ...                 ...  ...   \n",
       "715                                            0.0                 0.0  ...   \n",
       "716                                            0.0                 0.0  ...   \n",
       "717                                            0.0                 0.0  ...   \n",
       "718                                            0.0                 0.0  ...   \n",
       "719                                            0.0                 0.0  ...   \n",
       "\n",
       "          weekly  weekly_lower  weekly_upper       yearly  yearly_lower   \n",
       "0    1048.630830   1048.630830   1048.630830  4909.926884   4909.926884  \\\n",
       "1    1029.075923   1029.075923   1029.075923  4900.825489   4900.825489   \n",
       "2    1013.985151   1013.985151   1013.985151  4891.711591   4891.711591   \n",
       "3    1003.393747   1003.393747   1003.393747  4882.585246   4882.585246   \n",
       "4     997.234627    997.234627    997.234627  4873.446510   4873.446510   \n",
       "..           ...           ...           ...          ...           ...   \n",
       "715 -2181.056517  -2181.056517  -2181.056517 -1016.006451  -1016.006451   \n",
       "716 -2404.437785  -2404.437785  -2404.437785 -1020.227625  -1020.227625   \n",
       "717 -2624.465964  -2624.465964  -2624.465964 -1024.438056  -1024.438056   \n",
       "718 -2839.431987  -2839.431987  -2839.431987 -1028.637780  -1028.637780   \n",
       "719 -3047.627153  -3047.627153  -3047.627153 -1032.826835  -1032.826835   \n",
       "\n",
       "     yearly_upper  multiplicative_terms  multiplicative_terms_lower   \n",
       "0     4909.926884                   0.0                         0.0  \\\n",
       "1     4900.825489                   0.0                         0.0   \n",
       "2     4891.711591                   0.0                         0.0   \n",
       "3     4882.585246                   0.0                         0.0   \n",
       "4     4873.446510                   0.0                         0.0   \n",
       "..            ...                   ...                         ...   \n",
       "715  -1016.006451                   0.0                         0.0   \n",
       "716  -1020.227625                   0.0                         0.0   \n",
       "717  -1024.438056                   0.0                         0.0   \n",
       "718  -1028.637780                   0.0                         0.0   \n",
       "719  -1032.826835                   0.0                         0.0   \n",
       "\n",
       "     multiplicative_terms_upper          yhat  \n",
       "0                           0.0  41729.028666  \n",
       "1                           0.0  40281.044593  \n",
       "2                           0.0  39361.153772  \n",
       "3                           0.0  38583.408373  \n",
       "4                           0.0  37742.532670  \n",
       "..                          ...           ...  \n",
       "715                         0.0  38162.849692  \n",
       "716                         0.0  38013.440876  \n",
       "717                         0.0  37481.843603  \n",
       "718                         0.0  36108.864813  \n",
       "719                         0.0  34038.884348  \n",
       "\n",
       "[720 rows x 85 columns]"
      ]
     },
     "execution_count": 22,
     "metadata": {},
     "output_type": "execute_result"
    }
   ],
   "source": [
    "# Initialize the Prophet model with the specified parameters\n",
    "model = Prophet(\n",
    "    holidays=special_events_data,\n",
    "    holidays_prior_scale=0.1,\n",
    "    daily_seasonality=True,\n",
    "    weekly_seasonality=True,\n",
    "    yearly_seasonality=True\n",
    ")\n",
    "\n",
    "# Add 'avgtemp' as an external regressor\n",
    "model.add_regressor('avgtemp')\n",
    "\n",
    "# Fit the model using the training data\n",
    "model.fit(data)\n",
    "\n",
    "# Generate a dataframe projecting 720 hours (or 30 days) into the future \n",
    "# without including the historical data\n",
    "future = model.make_future_dataframe(periods=720, freq='h', include_history=False)\n",
    "\n",
    "# Use the provided average temperature for the month to be predicted\n",
    "predicted_avg_temp = 23.6\n",
    "future['avgtemp'] = [predicted_avg_temp] * 720\n",
    "\n",
    "# Use the fitted model to predict on the updated 'future' dataframe\n",
    "forecast = model.predict(future)\n",
    "forecast\n"
   ]
  },
  {
   "cell_type": "markdown",
   "metadata": {},
   "source": [
    "# References\n",
    "\n",
    "[1] https://facebook.github.io/prophet/docs/seasonality,_holiday_effects,_and_regressors.html#:~:text=For%20reference%2C%20by%20default%20Prophet,and%2010%20for%20yearly%20seasonality.\n",
    "\n",
    "[2] https://facebook.github.io/prophet/docs/seasonality,_holiday_effects,_and_regressors.html#specifying-custom-seasonalities:~:text=parameter%20holidays_prior_scale.-,By%20default%20this%20parameter%20is%2010%2C%20which%20provides%20very%20little%20regularization.%20Reducing%20this%20parameter%20dampens%20holiday%20effects%3A,-1%0A2%0A3"
   ]
  }
 ],
 "metadata": {
  "kernelspec": {
   "display_name": "Python 3",
   "language": "python",
   "name": "python3"
  },
  "language_info": {
   "codemirror_mode": {
    "name": "ipython",
    "version": 3
   },
   "file_extension": ".py",
   "mimetype": "text/x-python",
   "name": "python",
   "nbconvert_exporter": "python",
   "pygments_lexer": "ipython3",
   "version": "3.11.3"
  },
  "orig_nbformat": 4
 },
 "nbformat": 4,
 "nbformat_minor": 2
}
