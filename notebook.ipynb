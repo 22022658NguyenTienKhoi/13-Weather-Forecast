{
 "cells": [
  {
   "cell_type": "code",
   "execution_count": 38,
   "metadata": {},
   "outputs": [],
   "source": [
    "#!pip install prophet\n",
    "#!pip install plotly\n",
    "# Note: If your environment doesn't support \"!mamba install\", use \"!pip install\""
   ]
  },
  {
   "cell_type": "markdown",
   "metadata": {},
   "source": [
    "## Importing Required Libraries"
   ]
  },
  {
   "cell_type": "code",
   "execution_count": 39,
   "metadata": {},
   "outputs": [],
   "source": [
    "import pandas as pd\n",
    "from prophet import Prophet\n",
    "import matplotlib.pyplot as plt"
   ]
  },
  {
   "cell_type": "code",
   "execution_count": 40,
   "metadata": {},
   "outputs": [],
   "source": [
    "# Specify the path to the consumption CSV file and the encoding\n",
    "consumption_csv_file_path = 'hanoiweather.csv'\n",
    "#csv_encoding = 'latin5'  # or 'ISO-8859-9'"
   ]
  },
  {
   "cell_type": "code",
   "execution_count": 41,
   "metadata": {},
   "outputs": [],
   "source": [
    "# Load your dataframes (assuming they are CSV files, change the file paths if necessary)\n",
    "\n",
    "# Read the consumption CSV file into a DataFrame with the specified encoding\n",
    "data = pd.read_csv(consumption_csv_file_path)"
   ]
  },
  {
   "cell_type": "markdown",
   "metadata": {},
   "source": [
    "The ```.head()``` method returns the first five rows (or as many as you specify within the parentheses) of a dataset. It is useful for quickly testing if your object has the right type of data."
   ]
  },
  {
   "cell_type": "code",
   "execution_count": 42,
   "metadata": {},
   "outputs": [
    {
     "data": {
      "text/html": [
       "<div>\n",
       "<style scoped>\n",
       "    .dataframe tbody tr th:only-of-type {\n",
       "        vertical-align: middle;\n",
       "    }\n",
       "\n",
       "    .dataframe tbody tr th {\n",
       "        vertical-align: top;\n",
       "    }\n",
       "\n",
       "    .dataframe thead th {\n",
       "        text-align: right;\n",
       "    }\n",
       "</style>\n",
       "<table border=\"1\" class=\"dataframe\">\n",
       "  <thead>\n",
       "    <tr style=\"text-align: right;\">\n",
       "      <th></th>\n",
       "      <th>name</th>\n",
       "      <th>datetime</th>\n",
       "      <th>tempmax</th>\n",
       "      <th>tempmin</th>\n",
       "      <th>temp</th>\n",
       "      <th>feelslikemax</th>\n",
       "      <th>feelslikemin</th>\n",
       "      <th>feelslike</th>\n",
       "      <th>dew</th>\n",
       "      <th>humidity</th>\n",
       "      <th>...</th>\n",
       "      <th>solarenergy</th>\n",
       "      <th>uvindex</th>\n",
       "      <th>severerisk</th>\n",
       "      <th>sunrise</th>\n",
       "      <th>sunset</th>\n",
       "      <th>moonphase</th>\n",
       "      <th>conditions</th>\n",
       "      <th>description</th>\n",
       "      <th>icon</th>\n",
       "      <th>stations</th>\n",
       "    </tr>\n",
       "  </thead>\n",
       "  <tbody>\n",
       "    <tr>\n",
       "      <th>0</th>\n",
       "      <td>Hà Nội</td>\n",
       "      <td>1990-01-01</td>\n",
       "      <td>15.9</td>\n",
       "      <td>13.4</td>\n",
       "      <td>14.6</td>\n",
       "      <td>15.9</td>\n",
       "      <td>13.4</td>\n",
       "      <td>14.6</td>\n",
       "      <td>14.0</td>\n",
       "      <td>96.3</td>\n",
       "      <td>...</td>\n",
       "      <td>NaN</td>\n",
       "      <td>NaN</td>\n",
       "      <td>NaN</td>\n",
       "      <td>1990-01-01T06:33:41</td>\n",
       "      <td>1990-01-01T17:26:18</td>\n",
       "      <td>0.14</td>\n",
       "      <td>Overcast</td>\n",
       "      <td>Cloudy skies throughout the day.</td>\n",
       "      <td>cloudy</td>\n",
       "      <td>48820099999</td>\n",
       "    </tr>\n",
       "    <tr>\n",
       "      <th>1</th>\n",
       "      <td>Hà Nội</td>\n",
       "      <td>1990-01-02</td>\n",
       "      <td>17.4</td>\n",
       "      <td>14.6</td>\n",
       "      <td>16.1</td>\n",
       "      <td>17.4</td>\n",
       "      <td>14.6</td>\n",
       "      <td>16.1</td>\n",
       "      <td>13.7</td>\n",
       "      <td>85.9</td>\n",
       "      <td>...</td>\n",
       "      <td>NaN</td>\n",
       "      <td>NaN</td>\n",
       "      <td>NaN</td>\n",
       "      <td>1990-01-02T06:34:00</td>\n",
       "      <td>1990-01-02T17:26:56</td>\n",
       "      <td>0.18</td>\n",
       "      <td>Overcast</td>\n",
       "      <td>Cloudy skies throughout the day.</td>\n",
       "      <td>cloudy</td>\n",
       "      <td>48820099999</td>\n",
       "    </tr>\n",
       "    <tr>\n",
       "      <th>2</th>\n",
       "      <td>Hà Nội</td>\n",
       "      <td>1990-01-03</td>\n",
       "      <td>18.2</td>\n",
       "      <td>16.1</td>\n",
       "      <td>16.8</td>\n",
       "      <td>18.2</td>\n",
       "      <td>16.1</td>\n",
       "      <td>16.8</td>\n",
       "      <td>13.8</td>\n",
       "      <td>82.5</td>\n",
       "      <td>...</td>\n",
       "      <td>NaN</td>\n",
       "      <td>NaN</td>\n",
       "      <td>NaN</td>\n",
       "      <td>1990-01-03T06:34:18</td>\n",
       "      <td>1990-01-03T17:27:34</td>\n",
       "      <td>0.22</td>\n",
       "      <td>Overcast</td>\n",
       "      <td>Cloudy skies throughout the day.</td>\n",
       "      <td>cloudy</td>\n",
       "      <td>48820099999</td>\n",
       "    </tr>\n",
       "    <tr>\n",
       "      <th>3</th>\n",
       "      <td>Hà Nội</td>\n",
       "      <td>1990-01-04</td>\n",
       "      <td>19.6</td>\n",
       "      <td>15.2</td>\n",
       "      <td>16.4</td>\n",
       "      <td>19.6</td>\n",
       "      <td>15.2</td>\n",
       "      <td>16.4</td>\n",
       "      <td>14.3</td>\n",
       "      <td>88.2</td>\n",
       "      <td>...</td>\n",
       "      <td>NaN</td>\n",
       "      <td>NaN</td>\n",
       "      <td>NaN</td>\n",
       "      <td>1990-01-04T06:34:35</td>\n",
       "      <td>1990-01-04T17:28:12</td>\n",
       "      <td>0.25</td>\n",
       "      <td>Overcast</td>\n",
       "      <td>Cloudy skies throughout the day.</td>\n",
       "      <td>cloudy</td>\n",
       "      <td>48820099999</td>\n",
       "    </tr>\n",
       "    <tr>\n",
       "      <th>4</th>\n",
       "      <td>Hà Nội</td>\n",
       "      <td>1990-01-05</td>\n",
       "      <td>18.1</td>\n",
       "      <td>15.4</td>\n",
       "      <td>16.9</td>\n",
       "      <td>18.1</td>\n",
       "      <td>15.4</td>\n",
       "      <td>16.9</td>\n",
       "      <td>15.8</td>\n",
       "      <td>93.8</td>\n",
       "      <td>...</td>\n",
       "      <td>NaN</td>\n",
       "      <td>NaN</td>\n",
       "      <td>NaN</td>\n",
       "      <td>1990-01-05T06:34:51</td>\n",
       "      <td>1990-01-05T17:28:51</td>\n",
       "      <td>0.29</td>\n",
       "      <td>Overcast</td>\n",
       "      <td>Cloudy skies throughout the day.</td>\n",
       "      <td>cloudy</td>\n",
       "      <td>48820099999</td>\n",
       "    </tr>\n",
       "  </tbody>\n",
       "</table>\n",
       "<p>5 rows × 33 columns</p>\n",
       "</div>"
      ],
      "text/plain": [
       "     name    datetime  tempmax  tempmin  temp  feelslikemax  feelslikemin  \\\n",
       "0  Hà Nội  1990-01-01     15.9     13.4  14.6          15.9          13.4   \n",
       "1  Hà Nội  1990-01-02     17.4     14.6  16.1          17.4          14.6   \n",
       "2  Hà Nội  1990-01-03     18.2     16.1  16.8          18.2          16.1   \n",
       "3  Hà Nội  1990-01-04     19.6     15.2  16.4          19.6          15.2   \n",
       "4  Hà Nội  1990-01-05     18.1     15.4  16.9          18.1          15.4   \n",
       "\n",
       "   feelslike   dew  humidity  ...  solarenergy  uvindex  severerisk  \\\n",
       "0       14.6  14.0      96.3  ...          NaN      NaN         NaN   \n",
       "1       16.1  13.7      85.9  ...          NaN      NaN         NaN   \n",
       "2       16.8  13.8      82.5  ...          NaN      NaN         NaN   \n",
       "3       16.4  14.3      88.2  ...          NaN      NaN         NaN   \n",
       "4       16.9  15.8      93.8  ...          NaN      NaN         NaN   \n",
       "\n",
       "               sunrise               sunset  moonphase  conditions  \\\n",
       "0  1990-01-01T06:33:41  1990-01-01T17:26:18       0.14    Overcast   \n",
       "1  1990-01-02T06:34:00  1990-01-02T17:26:56       0.18    Overcast   \n",
       "2  1990-01-03T06:34:18  1990-01-03T17:27:34       0.22    Overcast   \n",
       "3  1990-01-04T06:34:35  1990-01-04T17:28:12       0.25    Overcast   \n",
       "4  1990-01-05T06:34:51  1990-01-05T17:28:51       0.29    Overcast   \n",
       "\n",
       "                        description    icon     stations  \n",
       "0  Cloudy skies throughout the day.  cloudy  48820099999  \n",
       "1  Cloudy skies throughout the day.  cloudy  48820099999  \n",
       "2  Cloudy skies throughout the day.  cloudy  48820099999  \n",
       "3  Cloudy skies throughout the day.  cloudy  48820099999  \n",
       "4  Cloudy skies throughout the day.  cloudy  48820099999  \n",
       "\n",
       "[5 rows x 33 columns]"
      ]
     },
     "execution_count": 42,
     "metadata": {},
     "output_type": "execute_result"
    }
   ],
   "source": [
    "# To quickly testing\n",
    "data.head()"
   ]
  },
  {
   "cell_type": "markdown",
   "metadata": {},
   "source": [
    "# Data Exploring and Pre-processing"
   ]
  },
  {
   "cell_type": "markdown",
   "metadata": {},
   "source": [
    "The ```.dtypes``` method returns the data type of each column."
   ]
  },
  {
   "cell_type": "code",
   "execution_count": 43,
   "metadata": {},
   "outputs": [
    {
     "data": {
      "text/plain": [
       "name                 object\n",
       "datetime             object\n",
       "tempmax             float64\n",
       "tempmin             float64\n",
       "temp                float64\n",
       "feelslikemax        float64\n",
       "feelslikemin        float64\n",
       "feelslike           float64\n",
       "dew                 float64\n",
       "humidity            float64\n",
       "precip              float64\n",
       "precipprob          float64\n",
       "precipcover         float64\n",
       "preciptype           object\n",
       "snow                float64\n",
       "snowdepth           float64\n",
       "windgust            float64\n",
       "windspeed           float64\n",
       "winddir             float64\n",
       "sealevelpressure    float64\n",
       "cloudcover          float64\n",
       "visibility          float64\n",
       "solarradiation      float64\n",
       "solarenergy         float64\n",
       "uvindex             float64\n",
       "severerisk          float64\n",
       "sunrise              object\n",
       "sunset               object\n",
       "moonphase           float64\n",
       "conditions           object\n",
       "description          object\n",
       "icon                 object\n",
       "stations             object\n",
       "dtype: object"
      ]
     },
     "execution_count": 43,
     "metadata": {},
     "output_type": "execute_result"
    }
   ],
   "source": [
    "data.dtypes"
   ]
  },
  {
   "cell_type": "code",
   "execution_count": 44,
   "metadata": {},
   "outputs": [
    {
     "data": {
      "text/plain": [
       "\"consumption_data = consumption_data.rename(columns={\\n    'Tarih': 'Date',\\n    'Saat': 'Hour',\\n    'Tüketim Miktarı (MWh)': 'Consumption Amount (MWh)'\\n})\""
      ]
     },
     "execution_count": 44,
     "metadata": {},
     "output_type": "execute_result"
    }
   ],
   "source": [
    "# Translating column names to English\n",
    "'''consumption_data = consumption_data.rename(columns={\n",
    "    'Tarih': 'Date',\n",
    "    'Saat': 'Hour',\n",
    "    'Tüketim Miktarı (MWh)': 'Consumption Amount (MWh)'\n",
    "})'''"
   ]
  },
  {
   "cell_type": "markdown",
   "metadata": {},
   "source": [
    "The code below will remove the commas used as thousand separators and then convert the column to the float data type."
   ]
  },
  {
   "cell_type": "code",
   "execution_count": 45,
   "metadata": {},
   "outputs": [],
   "source": [
    "# Clean invalid columns\n",
    "null_pct = data.apply(pd.isnull).sum()/data.shape[0]"
   ]
  },
  {
   "cell_type": "code",
   "execution_count": 46,
   "metadata": {},
   "outputs": [
    {
     "data": {
      "text/plain": [
       "name                0.000000\n",
       "datetime            0.000000\n",
       "tempmax             0.004546\n",
       "tempmin             0.004546\n",
       "temp                0.004546\n",
       "feelslikemax        0.004546\n",
       "feelslikemin        0.004546\n",
       "feelslike           0.004546\n",
       "dew                 0.004546\n",
       "humidity            0.004546\n",
       "precip              0.066752\n",
       "precipprob          0.004546\n",
       "precipcover         0.000000\n",
       "preciptype          0.541590\n",
       "snow                0.728208\n",
       "snowdepth           0.726533\n",
       "windgust            0.722466\n",
       "windspeed           0.000000\n",
       "winddir             0.006221\n",
       "sealevelpressure    0.007895\n",
       "cloudcover          0.004546\n",
       "visibility          0.004546\n",
       "solarradiation      0.582582\n",
       "solarenergy         0.582582\n",
       "uvindex             0.582582\n",
       "severerisk          0.932850\n",
       "sunrise             0.000000\n",
       "sunset              0.000000\n",
       "moonphase           0.000000\n",
       "conditions          0.004546\n",
       "description         0.004546\n",
       "icon                0.004546\n",
       "stations            0.004546\n",
       "dtype: float64"
      ]
     },
     "execution_count": 46,
     "metadata": {},
     "output_type": "execute_result"
    }
   ],
   "source": [
    "null_pct"
   ]
  },
  {
   "cell_type": "code",
   "execution_count": 47,
   "metadata": {},
   "outputs": [],
   "source": [
    "valid_columns = data.columns[null_pct < .005]"
   ]
  },
  {
   "cell_type": "code",
   "execution_count": 48,
   "metadata": {},
   "outputs": [],
   "source": [
    "data = data.dropna(subset = ['tempmax', 'tempmin','temp'])"
   ]
  },
  {
   "cell_type": "code",
   "execution_count": 49,
   "metadata": {},
   "outputs": [],
   "source": [
    "data = data[valid_columns].copy()"
   ]
  },
  {
   "cell_type": "markdown",
   "metadata": {},
   "source": [
    "The ```to_datetime()``` method is used to transform a scalar, array-like, Series, or DataFrame/dict-like object into a datetime object within the Pandas library.\n",
    "\n",
    "This conversion is necessary for using the Prophet model, which requires the input data to be in datetime format."
   ]
  },
  {
   "cell_type": "code",
   "execution_count": 50,
   "metadata": {},
   "outputs": [],
   "source": [
    "# Combine the 'Date' and 'Hour' columns into a single 'Datetime' column in the consumption_data dataframe\n",
    "# The 'dayfirst=True' argument is used to correctly interpret dates with ambiguous formats\n",
    "data['datetime'] = pd.to_datetime(data['datetime'])"
   ]
  },
  {
   "cell_type": "code",
   "execution_count": 51,
   "metadata": {},
   "outputs": [],
   "source": [
    "data.set_index('datetime', inplace = True)"
   ]
  },
  {
   "cell_type": "code",
   "execution_count": 52,
   "metadata": {},
   "outputs": [
    {
     "data": {
      "text/html": [
       "<div>\n",
       "<style scoped>\n",
       "    .dataframe tbody tr th:only-of-type {\n",
       "        vertical-align: middle;\n",
       "    }\n",
       "\n",
       "    .dataframe tbody tr th {\n",
       "        vertical-align: top;\n",
       "    }\n",
       "\n",
       "    .dataframe thead th {\n",
       "        text-align: right;\n",
       "    }\n",
       "</style>\n",
       "<table border=\"1\" class=\"dataframe\">\n",
       "  <thead>\n",
       "    <tr style=\"text-align: right;\">\n",
       "      <th></th>\n",
       "      <th>name</th>\n",
       "      <th>tempmax</th>\n",
       "      <th>tempmin</th>\n",
       "      <th>temp</th>\n",
       "      <th>feelslikemax</th>\n",
       "      <th>feelslikemin</th>\n",
       "      <th>feelslike</th>\n",
       "      <th>dew</th>\n",
       "      <th>humidity</th>\n",
       "      <th>precipprob</th>\n",
       "      <th>...</th>\n",
       "      <th>windspeed</th>\n",
       "      <th>cloudcover</th>\n",
       "      <th>visibility</th>\n",
       "      <th>sunrise</th>\n",
       "      <th>sunset</th>\n",
       "      <th>moonphase</th>\n",
       "      <th>conditions</th>\n",
       "      <th>description</th>\n",
       "      <th>icon</th>\n",
       "      <th>stations</th>\n",
       "    </tr>\n",
       "    <tr>\n",
       "      <th>datetime</th>\n",
       "      <th></th>\n",
       "      <th></th>\n",
       "      <th></th>\n",
       "      <th></th>\n",
       "      <th></th>\n",
       "      <th></th>\n",
       "      <th></th>\n",
       "      <th></th>\n",
       "      <th></th>\n",
       "      <th></th>\n",
       "      <th></th>\n",
       "      <th></th>\n",
       "      <th></th>\n",
       "      <th></th>\n",
       "      <th></th>\n",
       "      <th></th>\n",
       "      <th></th>\n",
       "      <th></th>\n",
       "      <th></th>\n",
       "      <th></th>\n",
       "      <th></th>\n",
       "    </tr>\n",
       "  </thead>\n",
       "  <tbody>\n",
       "    <tr>\n",
       "      <th>1990-01-01</th>\n",
       "      <td>Hà Nội</td>\n",
       "      <td>15.9</td>\n",
       "      <td>13.4</td>\n",
       "      <td>14.6</td>\n",
       "      <td>15.9</td>\n",
       "      <td>13.4</td>\n",
       "      <td>14.6</td>\n",
       "      <td>14.0</td>\n",
       "      <td>96.3</td>\n",
       "      <td>0.0</td>\n",
       "      <td>...</td>\n",
       "      <td>7.2</td>\n",
       "      <td>100.0</td>\n",
       "      <td>10.0</td>\n",
       "      <td>1990-01-01T06:33:41</td>\n",
       "      <td>1990-01-01T17:26:18</td>\n",
       "      <td>0.14</td>\n",
       "      <td>Overcast</td>\n",
       "      <td>Cloudy skies throughout the day.</td>\n",
       "      <td>cloudy</td>\n",
       "      <td>48820099999</td>\n",
       "    </tr>\n",
       "    <tr>\n",
       "      <th>1990-01-02</th>\n",
       "      <td>Hà Nội</td>\n",
       "      <td>17.4</td>\n",
       "      <td>14.6</td>\n",
       "      <td>16.1</td>\n",
       "      <td>17.4</td>\n",
       "      <td>14.6</td>\n",
       "      <td>16.1</td>\n",
       "      <td>13.7</td>\n",
       "      <td>85.9</td>\n",
       "      <td>0.0</td>\n",
       "      <td>...</td>\n",
       "      <td>7.2</td>\n",
       "      <td>100.0</td>\n",
       "      <td>17.1</td>\n",
       "      <td>1990-01-02T06:34:00</td>\n",
       "      <td>1990-01-02T17:26:56</td>\n",
       "      <td>0.18</td>\n",
       "      <td>Overcast</td>\n",
       "      <td>Cloudy skies throughout the day.</td>\n",
       "      <td>cloudy</td>\n",
       "      <td>48820099999</td>\n",
       "    </tr>\n",
       "    <tr>\n",
       "      <th>1990-01-03</th>\n",
       "      <td>Hà Nội</td>\n",
       "      <td>18.2</td>\n",
       "      <td>16.1</td>\n",
       "      <td>16.8</td>\n",
       "      <td>18.2</td>\n",
       "      <td>16.1</td>\n",
       "      <td>16.8</td>\n",
       "      <td>13.8</td>\n",
       "      <td>82.5</td>\n",
       "      <td>0.0</td>\n",
       "      <td>...</td>\n",
       "      <td>7.2</td>\n",
       "      <td>100.0</td>\n",
       "      <td>19.9</td>\n",
       "      <td>1990-01-03T06:34:18</td>\n",
       "      <td>1990-01-03T17:27:34</td>\n",
       "      <td>0.22</td>\n",
       "      <td>Overcast</td>\n",
       "      <td>Cloudy skies throughout the day.</td>\n",
       "      <td>cloudy</td>\n",
       "      <td>48820099999</td>\n",
       "    </tr>\n",
       "    <tr>\n",
       "      <th>1990-01-04</th>\n",
       "      <td>Hà Nội</td>\n",
       "      <td>19.6</td>\n",
       "      <td>15.2</td>\n",
       "      <td>16.4</td>\n",
       "      <td>19.6</td>\n",
       "      <td>15.2</td>\n",
       "      <td>16.4</td>\n",
       "      <td>14.3</td>\n",
       "      <td>88.2</td>\n",
       "      <td>0.0</td>\n",
       "      <td>...</td>\n",
       "      <td>7.2</td>\n",
       "      <td>100.0</td>\n",
       "      <td>9.7</td>\n",
       "      <td>1990-01-04T06:34:35</td>\n",
       "      <td>1990-01-04T17:28:12</td>\n",
       "      <td>0.25</td>\n",
       "      <td>Overcast</td>\n",
       "      <td>Cloudy skies throughout the day.</td>\n",
       "      <td>cloudy</td>\n",
       "      <td>48820099999</td>\n",
       "    </tr>\n",
       "    <tr>\n",
       "      <th>1990-01-05</th>\n",
       "      <td>Hà Nội</td>\n",
       "      <td>18.1</td>\n",
       "      <td>15.4</td>\n",
       "      <td>16.9</td>\n",
       "      <td>18.1</td>\n",
       "      <td>15.4</td>\n",
       "      <td>16.9</td>\n",
       "      <td>15.8</td>\n",
       "      <td>93.8</td>\n",
       "      <td>0.0</td>\n",
       "      <td>...</td>\n",
       "      <td>3.6</td>\n",
       "      <td>98.6</td>\n",
       "      <td>11.4</td>\n",
       "      <td>1990-01-05T06:34:51</td>\n",
       "      <td>1990-01-05T17:28:51</td>\n",
       "      <td>0.29</td>\n",
       "      <td>Overcast</td>\n",
       "      <td>Cloudy skies throughout the day.</td>\n",
       "      <td>cloudy</td>\n",
       "      <td>48820099999</td>\n",
       "    </tr>\n",
       "    <tr>\n",
       "      <th>...</th>\n",
       "      <td>...</td>\n",
       "      <td>...</td>\n",
       "      <td>...</td>\n",
       "      <td>...</td>\n",
       "      <td>...</td>\n",
       "      <td>...</td>\n",
       "      <td>...</td>\n",
       "      <td>...</td>\n",
       "      <td>...</td>\n",
       "      <td>...</td>\n",
       "      <td>...</td>\n",
       "      <td>...</td>\n",
       "      <td>...</td>\n",
       "      <td>...</td>\n",
       "      <td>...</td>\n",
       "      <td>...</td>\n",
       "      <td>...</td>\n",
       "      <td>...</td>\n",
       "      <td>...</td>\n",
       "      <td>...</td>\n",
       "      <td>...</td>\n",
       "    </tr>\n",
       "    <tr>\n",
       "      <th>2024-04-26</th>\n",
       "      <td>Hà Nội</td>\n",
       "      <td>36.0</td>\n",
       "      <td>27.0</td>\n",
       "      <td>30.9</td>\n",
       "      <td>47.9</td>\n",
       "      <td>31.0</td>\n",
       "      <td>39.6</td>\n",
       "      <td>26.9</td>\n",
       "      <td>80.8</td>\n",
       "      <td>0.0</td>\n",
       "      <td>...</td>\n",
       "      <td>18.4</td>\n",
       "      <td>44.4</td>\n",
       "      <td>6.1</td>\n",
       "      <td>2024-04-26T05:29:23</td>\n",
       "      <td>2024-04-26T18:19:42</td>\n",
       "      <td>0.58</td>\n",
       "      <td>Partially cloudy</td>\n",
       "      <td>Clearing in the afternoon.</td>\n",
       "      <td>partly-cloudy-day</td>\n",
       "      <td>VVNB</td>\n",
       "    </tr>\n",
       "    <tr>\n",
       "      <th>2024-04-27</th>\n",
       "      <td>Hà Nội</td>\n",
       "      <td>40.0</td>\n",
       "      <td>27.0</td>\n",
       "      <td>32.2</td>\n",
       "      <td>44.7</td>\n",
       "      <td>31.2</td>\n",
       "      <td>38.6</td>\n",
       "      <td>24.7</td>\n",
       "      <td>69.9</td>\n",
       "      <td>0.0</td>\n",
       "      <td>...</td>\n",
       "      <td>16.6</td>\n",
       "      <td>8.8</td>\n",
       "      <td>7.7</td>\n",
       "      <td>2024-04-27T05:28:42</td>\n",
       "      <td>2024-04-27T18:20:04</td>\n",
       "      <td>0.61</td>\n",
       "      <td>Clear</td>\n",
       "      <td>Clear conditions throughout the day.</td>\n",
       "      <td>clear-day</td>\n",
       "      <td>48820099999,48823099999,48825099999,4883109999...</td>\n",
       "    </tr>\n",
       "    <tr>\n",
       "      <th>2024-04-28</th>\n",
       "      <td>Hà Nội</td>\n",
       "      <td>35.0</td>\n",
       "      <td>27.0</td>\n",
       "      <td>30.4</td>\n",
       "      <td>50.8</td>\n",
       "      <td>30.5</td>\n",
       "      <td>39.4</td>\n",
       "      <td>27.0</td>\n",
       "      <td>82.7</td>\n",
       "      <td>0.0</td>\n",
       "      <td>...</td>\n",
       "      <td>22.3</td>\n",
       "      <td>45.3</td>\n",
       "      <td>8.8</td>\n",
       "      <td>2024-04-28T05:28:02</td>\n",
       "      <td>2024-04-28T18:20:27</td>\n",
       "      <td>0.65</td>\n",
       "      <td>Partially cloudy</td>\n",
       "      <td>Partly cloudy throughout the day.</td>\n",
       "      <td>partly-cloudy-day</td>\n",
       "      <td>48820099999,48823099999,48825099999,4883109999...</td>\n",
       "    </tr>\n",
       "    <tr>\n",
       "      <th>2024-04-29</th>\n",
       "      <td>Hà Nội</td>\n",
       "      <td>34.0</td>\n",
       "      <td>28.0</td>\n",
       "      <td>30.2</td>\n",
       "      <td>49.3</td>\n",
       "      <td>34.4</td>\n",
       "      <td>39.4</td>\n",
       "      <td>27.4</td>\n",
       "      <td>85.3</td>\n",
       "      <td>0.0</td>\n",
       "      <td>...</td>\n",
       "      <td>20.5</td>\n",
       "      <td>72.9</td>\n",
       "      <td>9.0</td>\n",
       "      <td>2024-04-29T05:27:22</td>\n",
       "      <td>2024-04-29T18:20:49</td>\n",
       "      <td>0.68</td>\n",
       "      <td>Partially cloudy</td>\n",
       "      <td>Partly cloudy throughout the day.</td>\n",
       "      <td>partly-cloudy-day</td>\n",
       "      <td>VVNB</td>\n",
       "    </tr>\n",
       "    <tr>\n",
       "      <th>2024-04-30</th>\n",
       "      <td>Hà Nội</td>\n",
       "      <td>36.0</td>\n",
       "      <td>27.0</td>\n",
       "      <td>31.0</td>\n",
       "      <td>50.0</td>\n",
       "      <td>31.0</td>\n",
       "      <td>39.9</td>\n",
       "      <td>26.9</td>\n",
       "      <td>79.9</td>\n",
       "      <td>0.0</td>\n",
       "      <td>...</td>\n",
       "      <td>22.3</td>\n",
       "      <td>40.2</td>\n",
       "      <td>9.0</td>\n",
       "      <td>2024-04-30T05:26:44</td>\n",
       "      <td>2024-04-30T18:21:12</td>\n",
       "      <td>0.72</td>\n",
       "      <td>Partially cloudy</td>\n",
       "      <td>Clearing in the afternoon.</td>\n",
       "      <td>partly-cloudy-day</td>\n",
       "      <td>VVNB</td>\n",
       "    </tr>\n",
       "  </tbody>\n",
       "</table>\n",
       "<p>12482 rows × 21 columns</p>\n",
       "</div>"
      ],
      "text/plain": [
       "              name  tempmax  tempmin  temp  feelslikemax  feelslikemin  \\\n",
       "datetime                                                                 \n",
       "1990-01-01  Hà Nội     15.9     13.4  14.6          15.9          13.4   \n",
       "1990-01-02  Hà Nội     17.4     14.6  16.1          17.4          14.6   \n",
       "1990-01-03  Hà Nội     18.2     16.1  16.8          18.2          16.1   \n",
       "1990-01-04  Hà Nội     19.6     15.2  16.4          19.6          15.2   \n",
       "1990-01-05  Hà Nội     18.1     15.4  16.9          18.1          15.4   \n",
       "...            ...      ...      ...   ...           ...           ...   \n",
       "2024-04-26  Hà Nội     36.0     27.0  30.9          47.9          31.0   \n",
       "2024-04-27  Hà Nội     40.0     27.0  32.2          44.7          31.2   \n",
       "2024-04-28  Hà Nội     35.0     27.0  30.4          50.8          30.5   \n",
       "2024-04-29  Hà Nội     34.0     28.0  30.2          49.3          34.4   \n",
       "2024-04-30  Hà Nội     36.0     27.0  31.0          50.0          31.0   \n",
       "\n",
       "            feelslike   dew  humidity  precipprob  ...  windspeed  cloudcover  \\\n",
       "datetime                                           ...                          \n",
       "1990-01-01       14.6  14.0      96.3         0.0  ...        7.2       100.0   \n",
       "1990-01-02       16.1  13.7      85.9         0.0  ...        7.2       100.0   \n",
       "1990-01-03       16.8  13.8      82.5         0.0  ...        7.2       100.0   \n",
       "1990-01-04       16.4  14.3      88.2         0.0  ...        7.2       100.0   \n",
       "1990-01-05       16.9  15.8      93.8         0.0  ...        3.6        98.6   \n",
       "...               ...   ...       ...         ...  ...        ...         ...   \n",
       "2024-04-26       39.6  26.9      80.8         0.0  ...       18.4        44.4   \n",
       "2024-04-27       38.6  24.7      69.9         0.0  ...       16.6         8.8   \n",
       "2024-04-28       39.4  27.0      82.7         0.0  ...       22.3        45.3   \n",
       "2024-04-29       39.4  27.4      85.3         0.0  ...       20.5        72.9   \n",
       "2024-04-30       39.9  26.9      79.9         0.0  ...       22.3        40.2   \n",
       "\n",
       "            visibility              sunrise               sunset moonphase  \\\n",
       "datetime                                                                     \n",
       "1990-01-01        10.0  1990-01-01T06:33:41  1990-01-01T17:26:18      0.14   \n",
       "1990-01-02        17.1  1990-01-02T06:34:00  1990-01-02T17:26:56      0.18   \n",
       "1990-01-03        19.9  1990-01-03T06:34:18  1990-01-03T17:27:34      0.22   \n",
       "1990-01-04         9.7  1990-01-04T06:34:35  1990-01-04T17:28:12      0.25   \n",
       "1990-01-05        11.4  1990-01-05T06:34:51  1990-01-05T17:28:51      0.29   \n",
       "...                ...                  ...                  ...       ...   \n",
       "2024-04-26         6.1  2024-04-26T05:29:23  2024-04-26T18:19:42      0.58   \n",
       "2024-04-27         7.7  2024-04-27T05:28:42  2024-04-27T18:20:04      0.61   \n",
       "2024-04-28         8.8  2024-04-28T05:28:02  2024-04-28T18:20:27      0.65   \n",
       "2024-04-29         9.0  2024-04-29T05:27:22  2024-04-29T18:20:49      0.68   \n",
       "2024-04-30         9.0  2024-04-30T05:26:44  2024-04-30T18:21:12      0.72   \n",
       "\n",
       "                  conditions                           description  \\\n",
       "datetime                                                             \n",
       "1990-01-01          Overcast      Cloudy skies throughout the day.   \n",
       "1990-01-02          Overcast      Cloudy skies throughout the day.   \n",
       "1990-01-03          Overcast      Cloudy skies throughout the day.   \n",
       "1990-01-04          Overcast      Cloudy skies throughout the day.   \n",
       "1990-01-05          Overcast      Cloudy skies throughout the day.   \n",
       "...                      ...                                   ...   \n",
       "2024-04-26  Partially cloudy            Clearing in the afternoon.   \n",
       "2024-04-27             Clear  Clear conditions throughout the day.   \n",
       "2024-04-28  Partially cloudy     Partly cloudy throughout the day.   \n",
       "2024-04-29  Partially cloudy     Partly cloudy throughout the day.   \n",
       "2024-04-30  Partially cloudy            Clearing in the afternoon.   \n",
       "\n",
       "                         icon  \\\n",
       "datetime                        \n",
       "1990-01-01             cloudy   \n",
       "1990-01-02             cloudy   \n",
       "1990-01-03             cloudy   \n",
       "1990-01-04             cloudy   \n",
       "1990-01-05             cloudy   \n",
       "...                       ...   \n",
       "2024-04-26  partly-cloudy-day   \n",
       "2024-04-27          clear-day   \n",
       "2024-04-28  partly-cloudy-day   \n",
       "2024-04-29  partly-cloudy-day   \n",
       "2024-04-30  partly-cloudy-day   \n",
       "\n",
       "                                                     stations  \n",
       "datetime                                                       \n",
       "1990-01-01                                        48820099999  \n",
       "1990-01-02                                        48820099999  \n",
       "1990-01-03                                        48820099999  \n",
       "1990-01-04                                        48820099999  \n",
       "1990-01-05                                        48820099999  \n",
       "...                                                       ...  \n",
       "2024-04-26                                               VVNB  \n",
       "2024-04-27  48820099999,48823099999,48825099999,4883109999...  \n",
       "2024-04-28  48820099999,48823099999,48825099999,4883109999...  \n",
       "2024-04-29                                               VVNB  \n",
       "2024-04-30                                               VVNB  \n",
       "\n",
       "[12482 rows x 21 columns]"
      ]
     },
     "execution_count": 52,
     "metadata": {},
     "output_type": "execute_result"
    }
   ],
   "source": [
    "data"
   ]
  },
  {
   "cell_type": "markdown",
   "metadata": {},
   "source": [
    "## Prepare to Prophet\n",
    "\n",
    "Prophet requires a specific format for your time series data, with two columns named 'ds' (the date or timestamp) and 'y' (the target variable you want to forecast).\n",
    "\n",
    "The column containing the date-times must be named ```ds```.\n",
    "\n",
    "The column containing the consumption values must be named ```y```."
   ]
  },
  {
   "cell_type": "code",
   "execution_count": 53,
   "metadata": {},
   "outputs": [],
   "source": [
    "# Rename columns to 'ds' and 'y'\n",
    "data[\"y\"] = data.shift(-1)['tempmax']\n",
    "data = data.ffill()\n",
    "data['ds'] = data.index"
   ]
  },
  {
   "cell_type": "markdown",
   "metadata": {},
   "source": [
    "### Splitting Data into Training and Test Sets\n",
    "\n",
    "In machine learning and time series analysis, it's common practice to split your dataset into training and test sets. This allows you to train your model on one portion of the data and evaluate its performance on another independent portion. Here's how you can split your `consumption_data` into training and test sets:\n"
   ]
  },
  {
   "cell_type": "code",
   "execution_count": 54,
   "metadata": {},
   "outputs": [],
   "source": [
    "# Define the percentage of data to use for training (adjust as needed)\n",
    "train_percentage = 0.8  # 80% for training\n",
    "\n",
    "# Calculate the index to split the data\n",
    "train_size = int(len(data) * train_percentage)\n",
    "\n",
    "# Create the training dataset\n",
    "train_data = data[:train_size]\n",
    "\n",
    "# Create the test dataset\n",
    "test_data = data[train_size:]"
   ]
  },
  {
   "cell_type": "markdown",
   "metadata": {},
   "source": [
    "# Creating a Model\n",
    "\n",
    "The Prophet model is configured to account for seasonality patterns within the data. Seasonality, referring to repetitive patterns or cycles occurring at regular intervals (e.g., daily, weekly, yearly), is often regarded as an essential aspect of time series data."
   ]
  },
  {
   "cell_type": "markdown",
   "metadata": {},
   "source": [
    "### Seasonality Configuration\n",
    "\n",
    "Specifications regarding how different types of seasonality should be handled by the model are set."
   ]
  },
  {
   "cell_type": "code",
   "execution_count": 55,
   "metadata": {},
   "outputs": [],
   "source": [
    "# Initialize the Prophet model with built-in daily, weekly, and yearly seasonalities \n",
    "model = Prophet(yearly_seasonality = True, weekly_seasonality = True, daily_seasonality = True)"
   ]
  },
  {
   "cell_type": "markdown",
   "metadata": {},
   "source": [
    "```yearly_seasonality = True``` : This setting enables the model to account yearly seasonality. Yearly seasonality is crucial for the capturing of annual patterns in electricity consumption. For instance, the increase in electricity usage during summer and winter months can be accounted for with this setting.\n",
    "\n",
    "```weekly_seasonality = True``` : Enabling weekly seasonality allows the model to capture patterns repeating on a weekly basis. In the context of electricity consumption, this may account for differences between weekdays and weekends, given that consumption patterns can vary.\n",
    "\n",
    "```daily_seasonality = True```: Enabling this option lets the model recognize and use daily consumption patterns, which is helpful for situations with significant daily fluctuations, such as shift work or distinct daily routines, improving daily consumption trend forecasts."
   ]
  },
  {
   "cell_type": "markdown",
   "metadata": {},
   "source": [
    "### Fit the Model\n",
    "\n",
    "Train the Prophet model on historical data using the ```fit``` method:"
   ]
  },
  {
   "cell_type": "code",
   "execution_count": 56,
   "metadata": {},
   "outputs": [
    {
     "name": "stderr",
     "output_type": "stream",
     "text": [
      "08:53:24 - cmdstanpy - INFO - Chain [1] start processing\n",
      "08:53:25 - cmdstanpy - INFO - Chain [1] done processing\n"
     ]
    },
    {
     "data": {
      "text/plain": [
       "<prophet.forecaster.Prophet at 0x72c482cb66e0>"
      ]
     },
     "execution_count": 56,
     "metadata": {},
     "output_type": "execute_result"
    }
   ],
   "source": [
    "model.fit(train_data)"
   ]
  },
  {
   "cell_type": "markdown",
   "metadata": {},
   "source": [
    "The ```model.component_modes``` attribute provides information about which of these components are included in the model. This attribute provides insights into how the model decomposes the time series data into its constituent parts, which can be helpful for understanding the patterns and trends captured by the model."
   ]
  },
  {
   "cell_type": "code",
   "execution_count": 57,
   "metadata": {},
   "outputs": [
    {
     "data": {
      "text/plain": [
       "{'additive': ['yearly',\n",
       "  'weekly',\n",
       "  'daily',\n",
       "  'additive_terms',\n",
       "  'extra_regressors_additive',\n",
       "  'holidays'],\n",
       " 'multiplicative': ['multiplicative_terms', 'extra_regressors_multiplicative']}"
      ]
     },
     "execution_count": 57,
     "metadata": {},
     "output_type": "execute_result"
    }
   ],
   "source": [
    "model.component_modes"
   ]
  },
  {
   "cell_type": "markdown",
   "metadata": {},
   "source": [
    "If a component is active, its value will be 'additive' or 'multiplicative'. The 'additive' mode indicates that the component is added to the trend, and the 'multiplicative' mode indicates that the component is multiplied with the trend.\n",
    "\n",
    "If a component is not active, it will not be considered in the forecasting."
   ]
  },
  {
   "cell_type": "markdown",
   "metadata": {},
   "source": [
    "# Forecasting\n",
    "\n",
    "By using the ```predict()``` method, we can forecast future values as well as obtain fitted values for our historical data. If you're only interested in future values, ensure the input dataframe to predict only contains future dates"
   ]
  },
  {
   "cell_type": "code",
   "execution_count": 58,
   "metadata": {},
   "outputs": [],
   "source": [
    "# Make forecasts on the test data\n",
    "forecast = model.predict(test_data)"
   ]
  },
  {
   "cell_type": "code",
   "execution_count": 59,
   "metadata": {},
   "outputs": [
    {
     "data": {
      "text/html": [
       "<div>\n",
       "<style scoped>\n",
       "    .dataframe tbody tr th:only-of-type {\n",
       "        vertical-align: middle;\n",
       "    }\n",
       "\n",
       "    .dataframe tbody tr th {\n",
       "        vertical-align: top;\n",
       "    }\n",
       "\n",
       "    .dataframe thead th {\n",
       "        text-align: right;\n",
       "    }\n",
       "</style>\n",
       "<table border=\"1\" class=\"dataframe\">\n",
       "  <thead>\n",
       "    <tr style=\"text-align: right;\">\n",
       "      <th></th>\n",
       "      <th>ds</th>\n",
       "      <th>trend</th>\n",
       "      <th>yhat_lower</th>\n",
       "      <th>yhat_upper</th>\n",
       "      <th>trend_lower</th>\n",
       "      <th>trend_upper</th>\n",
       "      <th>additive_terms</th>\n",
       "      <th>additive_terms_lower</th>\n",
       "      <th>additive_terms_upper</th>\n",
       "      <th>daily</th>\n",
       "      <th>...</th>\n",
       "      <th>weekly</th>\n",
       "      <th>weekly_lower</th>\n",
       "      <th>weekly_upper</th>\n",
       "      <th>yearly</th>\n",
       "      <th>yearly_lower</th>\n",
       "      <th>yearly_upper</th>\n",
       "      <th>multiplicative_terms</th>\n",
       "      <th>multiplicative_terms_lower</th>\n",
       "      <th>multiplicative_terms_upper</th>\n",
       "      <th>yhat</th>\n",
       "    </tr>\n",
       "  </thead>\n",
       "  <tbody>\n",
       "    <tr>\n",
       "      <th>0</th>\n",
       "      <td>2017-06-30</td>\n",
       "      <td>21.082486</td>\n",
       "      <td>30.259417</td>\n",
       "      <td>38.338047</td>\n",
       "      <td>21.082486</td>\n",
       "      <td>21.082486</td>\n",
       "      <td>13.285657</td>\n",
       "      <td>13.285657</td>\n",
       "      <td>13.285657</td>\n",
       "      <td>7.60215</td>\n",
       "      <td>...</td>\n",
       "      <td>0.018334</td>\n",
       "      <td>0.018334</td>\n",
       "      <td>0.018334</td>\n",
       "      <td>5.665172</td>\n",
       "      <td>5.665172</td>\n",
       "      <td>5.665172</td>\n",
       "      <td>0.0</td>\n",
       "      <td>0.0</td>\n",
       "      <td>0.0</td>\n",
       "      <td>34.368143</td>\n",
       "    </tr>\n",
       "    <tr>\n",
       "      <th>1</th>\n",
       "      <td>2017-07-01</td>\n",
       "      <td>21.083175</td>\n",
       "      <td>30.318990</td>\n",
       "      <td>38.468081</td>\n",
       "      <td>21.083175</td>\n",
       "      <td>21.083175</td>\n",
       "      <td>13.288092</td>\n",
       "      <td>13.288092</td>\n",
       "      <td>13.288092</td>\n",
       "      <td>7.60215</td>\n",
       "      <td>...</td>\n",
       "      <td>0.027616</td>\n",
       "      <td>0.027616</td>\n",
       "      <td>0.027616</td>\n",
       "      <td>5.658326</td>\n",
       "      <td>5.658326</td>\n",
       "      <td>5.658326</td>\n",
       "      <td>0.0</td>\n",
       "      <td>0.0</td>\n",
       "      <td>0.0</td>\n",
       "      <td>34.371267</td>\n",
       "    </tr>\n",
       "    <tr>\n",
       "      <th>2</th>\n",
       "      <td>2017-07-02</td>\n",
       "      <td>21.083864</td>\n",
       "      <td>30.167807</td>\n",
       "      <td>38.293708</td>\n",
       "      <td>21.083864</td>\n",
       "      <td>21.083864</td>\n",
       "      <td>13.314942</td>\n",
       "      <td>13.314942</td>\n",
       "      <td>13.314942</td>\n",
       "      <td>7.60215</td>\n",
       "      <td>...</td>\n",
       "      <td>0.061530</td>\n",
       "      <td>0.061530</td>\n",
       "      <td>0.061530</td>\n",
       "      <td>5.651261</td>\n",
       "      <td>5.651261</td>\n",
       "      <td>5.651261</td>\n",
       "      <td>0.0</td>\n",
       "      <td>0.0</td>\n",
       "      <td>0.0</td>\n",
       "      <td>34.398805</td>\n",
       "    </tr>\n",
       "    <tr>\n",
       "      <th>3</th>\n",
       "      <td>2017-07-03</td>\n",
       "      <td>21.084553</td>\n",
       "      <td>30.017160</td>\n",
       "      <td>38.491236</td>\n",
       "      <td>21.084553</td>\n",
       "      <td>21.084553</td>\n",
       "      <td>13.231904</td>\n",
       "      <td>13.231904</td>\n",
       "      <td>13.231904</td>\n",
       "      <td>7.60215</td>\n",
       "      <td>...</td>\n",
       "      <td>-0.013781</td>\n",
       "      <td>-0.013781</td>\n",
       "      <td>-0.013781</td>\n",
       "      <td>5.643535</td>\n",
       "      <td>5.643535</td>\n",
       "      <td>5.643535</td>\n",
       "      <td>0.0</td>\n",
       "      <td>0.0</td>\n",
       "      <td>0.0</td>\n",
       "      <td>34.316456</td>\n",
       "    </tr>\n",
       "    <tr>\n",
       "      <th>4</th>\n",
       "      <td>2017-07-04</td>\n",
       "      <td>21.085241</td>\n",
       "      <td>30.347484</td>\n",
       "      <td>38.676458</td>\n",
       "      <td>21.085241</td>\n",
       "      <td>21.085241</td>\n",
       "      <td>13.166393</td>\n",
       "      <td>13.166393</td>\n",
       "      <td>13.166393</td>\n",
       "      <td>7.60215</td>\n",
       "      <td>...</td>\n",
       "      <td>-0.070458</td>\n",
       "      <td>-0.070458</td>\n",
       "      <td>-0.070458</td>\n",
       "      <td>5.634701</td>\n",
       "      <td>5.634701</td>\n",
       "      <td>5.634701</td>\n",
       "      <td>0.0</td>\n",
       "      <td>0.0</td>\n",
       "      <td>0.0</td>\n",
       "      <td>34.251634</td>\n",
       "    </tr>\n",
       "  </tbody>\n",
       "</table>\n",
       "<p>5 rows × 22 columns</p>\n",
       "</div>"
      ],
      "text/plain": [
       "          ds      trend  yhat_lower  yhat_upper  trend_lower  trend_upper  \\\n",
       "0 2017-06-30  21.082486   30.259417   38.338047    21.082486    21.082486   \n",
       "1 2017-07-01  21.083175   30.318990   38.468081    21.083175    21.083175   \n",
       "2 2017-07-02  21.083864   30.167807   38.293708    21.083864    21.083864   \n",
       "3 2017-07-03  21.084553   30.017160   38.491236    21.084553    21.084553   \n",
       "4 2017-07-04  21.085241   30.347484   38.676458    21.085241    21.085241   \n",
       "\n",
       "   additive_terms  additive_terms_lower  additive_terms_upper    daily  ...  \\\n",
       "0       13.285657             13.285657             13.285657  7.60215  ...   \n",
       "1       13.288092             13.288092             13.288092  7.60215  ...   \n",
       "2       13.314942             13.314942             13.314942  7.60215  ...   \n",
       "3       13.231904             13.231904             13.231904  7.60215  ...   \n",
       "4       13.166393             13.166393             13.166393  7.60215  ...   \n",
       "\n",
       "     weekly  weekly_lower  weekly_upper    yearly  yearly_lower  yearly_upper  \\\n",
       "0  0.018334      0.018334      0.018334  5.665172      5.665172      5.665172   \n",
       "1  0.027616      0.027616      0.027616  5.658326      5.658326      5.658326   \n",
       "2  0.061530      0.061530      0.061530  5.651261      5.651261      5.651261   \n",
       "3 -0.013781     -0.013781     -0.013781  5.643535      5.643535      5.643535   \n",
       "4 -0.070458     -0.070458     -0.070458  5.634701      5.634701      5.634701   \n",
       "\n",
       "   multiplicative_terms  multiplicative_terms_lower  \\\n",
       "0                   0.0                         0.0   \n",
       "1                   0.0                         0.0   \n",
       "2                   0.0                         0.0   \n",
       "3                   0.0                         0.0   \n",
       "4                   0.0                         0.0   \n",
       "\n",
       "   multiplicative_terms_upper       yhat  \n",
       "0                         0.0  34.368143  \n",
       "1                         0.0  34.371267  \n",
       "2                         0.0  34.398805  \n",
       "3                         0.0  34.316456  \n",
       "4                         0.0  34.251634  \n",
       "\n",
       "[5 rows x 22 columns]"
      ]
     },
     "execution_count": 59,
     "metadata": {},
     "output_type": "execute_result"
    }
   ],
   "source": [
    "forecast.head()"
   ]
  },
  {
   "cell_type": "markdown",
   "metadata": {},
   "source": [
    "```forecasting``` : The variable will be a dataframe containing various columns, including the predicted values, uncertainty intervals, and other relevant forecast-related information.\n",
    "\n",
    "-```'ds'``` : The timestamps for the future points.\n",
    "\n",
    "-```'yhat'``` : The predicted values for electricity consumption at each future timestamp.\n",
    "\n",
    "-```'yhat_lower'``` and ```'yhat_upper'``` : The lower and upper uncertainty range for predicted values shows the range where actual consumption values might be.\n",
    "\n",
    "-Additional columns related to the trend and seasonality components of the forecast."
   ]
  },
  {
   "cell_type": "markdown",
   "metadata": {},
   "source": [
    "# Evaluating the Model"
   ]
  },
  {
   "cell_type": "markdown",
   "metadata": {},
   "source": [
    "\n",
    "The Mean Absolute Percentage Error (MAPE) is a popular metric for evaluating the accuracy of forecasts. It calculates the absolute difference between the actual and forecasted values, divides it by the actual value, and then averages these relative errors across the dataset.\n",
    "\n",
    "        The formula for MAPE is:\n",
    "\n",
    "$$\n",
    "\\text{MAPE} = \\frac{100}{n} \\sum_{t=1}^{n} \\left| \\frac{A_t - F_t}{A_t} \\right|\n",
    "$$\n",
    "\n",
    "Where:\n",
    "n is the number of observations."
   ]
  },
  {
   "cell_type": "markdown",
   "metadata": {},
   "source": [
    "The function ```calculate_mape``` computes the Mean Absolute Percentage Error, a common metric for evaluating the accuracy of forecasts."
   ]
  },
  {
   "cell_type": "code",
   "execution_count": 60,
   "metadata": {},
   "outputs": [],
   "source": [
    "def calculate_mape(actual, forecast):\n",
    "    \"\"\"Calculate Mean Absolute Percentage Error (MAPE)\"\"\"\n",
    "    mape = 100 * (abs((actual - forecast) / actual)).mean()\n",
    "    return mape"
   ]
  },
  {
   "cell_type": "code",
   "execution_count": 61,
   "metadata": {},
   "outputs": [
    {
     "name": "stdout",
     "output_type": "stream",
     "text": [
      "MAPE: 11.01%\n"
     ]
    }
   ],
   "source": [
    "# Extract the actual and forecasted values from the test_data and forecast dataframes\n",
    "actual_values = test_data['y'].values\n",
    "forecasted_values = forecast['yhat'].values\n",
    "\n",
    "# Calculate MAPE\n",
    "mape_value = calculate_mape(actual_values, forecasted_values)\n",
    "print(f\"MAPE: {mape_value:.2f}%\")"
   ]
  },
  {
   "cell_type": "markdown",
   "metadata": {},
   "source": [
    "### MAPE: 9.07%"
   ]
  },
  {
   "cell_type": "markdown",
   "metadata": {},
   "source": [
    "# Adjusting the Model\n",
    "\n",
    "Electricity consumption forecasting requires precision and accuracy. When leveraging Prophet, a tool specifically designed for time series forecasting, it's imperative to fine-tune the model parameters to enhance performance. In this article, we'll delve into ways to adjust the Prophet model to better cater to the intricacies of electricity consumption patterns."
   ]
  },
  {
   "cell_type": "code",
   "execution_count": 62,
   "metadata": {},
   "outputs": [],
   "source": [
    "# Dropping the unnecessary columns\n",
    "#data.drop(columns=['Date', 'YearMonth'], inplace=True)\n",
    "\n",
    "# Rename columns to 'ds' and 'y'\n",
    "#data.columns = ['y', 'ds', 'avgtemp']\n",
    "\n",
    "# Prepare the holidays dataframe for Prophet\n",
    "#special_events_data.columns = ['ds', 'holiday']\n",
    "\n",
    "# Split data into train and test sets\n",
    "train_size = int(len(data) * 0.8)  # 80% for training, adjust as needed\n",
    "train_data = data[:train_size]\n",
    "test_data = data[train_size:]"
   ]
  },
  {
   "cell_type": "markdown",
   "metadata": {},
   "source": [
    "### Plot the Data\n",
    "\n",
    "You may be familiar with ```Matplotib and Seaborn```, which are commonly taught in Data Science courses for basic plotting. However, for our time series data, we've selected for ```Plotly```, an ```interactive, open-source``` Python library that offers over 40 chart types, including statistical, financial, geographic, scientific, and 3D visualizations. \n",
    "\n",
    "Seaborn and Matplotlib provide limited interactivity, while Plotly provides highly interactive and responsive plots that can be zoomed, panned, and rotated."
   ]
  },
  {
   "cell_type": "code",
   "execution_count": 63,
   "metadata": {},
   "outputs": [
    {
     "data": {
      "image/png": "[encoded data removed]",
      "text/plain": [
       "<Figure size 1200x700 with 2 Axes>"
      ]
     },
     "metadata": {},
     "output_type": "display_data"
    }
   ],
   "source": [
    "# Convert the 'ds' column to datetime format for plotting\n",
    "data['ds'] = pd.to_datetime(data['ds'])\n",
    "\n",
    "# Plotting\n",
    "fig, ax1 = plt.subplots(figsize=(12, 7))\n",
    "\n",
    "# Twin the axes for two different y-axes\n",
    "ax2 = ax1.twinx()\n",
    "\n",
    "# Plot data\n",
    "ax1.plot(data['ds'], data['tempmax'], color='g', label='Tempmax (y)')\n",
    "ax2.plot(data['ds'], data['temp'], color='b', linestyle='--', label='Average Temperature (avgtemp)')\n",
    "\n",
    "# Set the y axis labels\n",
    "ax1.set_ylabel('Max Temperature (°C)', color='g')\n",
    "ax2.set_ylabel('Average Temperature (°C)', color='b')\n",
    "\n",
    "# Set title and x-axis label\n",
    "ax1.set_title('Max Temperature and Average Temperature over Time')\n",
    "ax1.set_xlabel('Datetime')\n",
    "\n",
    "# Display the plot\n",
    "plt.tight_layout()\n",
    "plt.show()\n"
   ]
  },
  {
   "cell_type": "markdown",
   "metadata": {},
   "source": [
    "## Additional Regressors\n",
    "\n",
    "Prophet allows you to include additional regressors in the forecasting model using the .```add_regressor()``` method. These regressors can be any continuous or binary variables that might have an impact on the target variable."
   ]
  },
  {
   "cell_type": "code",
   "execution_count": 64,
   "metadata": {},
   "outputs": [],
   "source": [
    "data.drop(columns=['icon','description','stations','conditions','name','sunset','sunrise'], inplace=True)"
   ]
  },
  {
   "cell_type": "code",
   "execution_count": 65,
   "metadata": {},
   "outputs": [],
   "source": [
    "predictors = data.columns[~data.columns.isin(['y','ds','tempmax'])]"
   ]
  },
  {
   "cell_type": "code",
   "execution_count": 66,
   "metadata": {},
   "outputs": [
    {
     "name": "stderr",
     "output_type": "stream",
     "text": [
      "08:53:28 - cmdstanpy - INFO - Chain [1] start processing\n",
      "08:53:29 - cmdstanpy - INFO - Chain [1] done processing\n"
     ]
    },
    {
     "name": "stdout",
     "output_type": "stream",
     "text": [
      "6.674385160566187\n"
     ]
    }
   ],
   "source": [
    "# Initialize the Prophet model with built-in daily, weekly, and yearly seasonalities \n",
    "# Also, use the `holidays_data` to account for special occasions.\n",
    "model = Prophet(daily_seasonality=True, weekly_seasonality=True, yearly_seasonality=True)\n",
    "\n",
    "# Add 'avgtemp' as an external regressor. This helps the model to consider the effects of average temperature\n",
    "for p in predictors:\n",
    "    model.add_regressor(p)\n",
    "\n",
    "# Fit the model using the training data\n",
    "model.fit(train_data)\n",
    "\n",
    "# Use the fitted model to predict on the test dataset\n",
    "forecast = model.predict(test_data)\n",
    "\n",
    "# Extract the actual target values from the test dataset\n",
    "actual_values = test_data['y'].values\n",
    "\n",
    "# Extract the predicted values from the forecast\n",
    "forecasted_values = forecast['yhat'].values\n",
    "\n",
    "# Calculate the Mean Absolute Percentage Error (MAPE) between the actual and predicted values\n",
    "mape_value = calculate_mape(actual_values, forecasted_values)\n",
    "\n",
    "# Print the computed MAPE\n",
    "print(mape_value)\n"
   ]
  },
  {
   "cell_type": "markdown",
   "metadata": {},
   "source": [
    "### MAPE: 5.04%"
   ]
  },
  {
   "cell_type": "markdown",
   "metadata": {},
   "source": [
    "## Tuning the Model Parameters\n",
    "\n",
    "Depending on the initial results, the model can be tuned by adjusting parameters such as seasonality prior sclase, changepoint prior scale, and Fourier order for specific seasonality."
   ]
  },
  {
   "cell_type": "markdown",
   "metadata": {},
   "source": [
    "### Custom Seasonality\n",
    "\n",
    "The ```.add_seasonality()``` method allows you to incorporate custom seasonalities into your forecasting model. Prophet automatically includes built-in yearly and weekly seasonalities, but for certain datasets, there might be other recurring patterns that aren't captured by these default seasonalities.\n"
   ]
  },
  {
   "cell_type": "markdown",
   "metadata": {},
   "source": [
    "\n",
    "    model.add_seasonality(name='monthly', period=30, fourier_order=5, prior_scale:10)\n",
    "\n",
    "-name: A string identifier for the seasonality.\n",
    "\n",
    "-period: The duration of the seasonality cycle. For example, if you believe there's a pattern that repeats every 10 days in your data, you'd set period=10.\n",
    "\n",
    "-fourier_order: This determines the complexity of the seasonality. A higher Fourier order will allow the seasonality to fit more complex patterns.\n",
    "\n",
    "-prior_scale: This controls the flexibility of the seasonal component. Increasing it makes the seasonal component more flexible, while decreasing it makes it more rigid.\n"
   ]
  },
  {
   "cell_type": "markdown",
   "metadata": {},
   "source": [
    "### Determining the Fourier Order and Prior Scale\n",
    "\n",
    "The inputs to this function are a name, the period of the seasonality in days, and the Fourier order for the seasonality. For reference, by default Prophet uses a Fourier order of 3 for ```weekly_seasonality``` and 10 for ```yearly_seasonality```. [1]\n",
    "\n",
    "The ```prior_scale``` parameter in Prophet controls the strength of the regularization applied to specific components of the model. A larger prior_scale allows the component to be more flexible, while a smaller prior_scale constrains it, making it more rigid."
   ]
  },
  {
   "cell_type": "markdown",
   "metadata": {},
   "source": [
    "#### Daily"
   ]
  },
  {
   "cell_type": "code",
   "execution_count": 67,
   "metadata": {},
   "outputs": [
    {
     "name": "stderr",
     "output_type": "stream",
     "text": [
      "08:53:32 - cmdstanpy - INFO - Chain [1] start processing\n",
      "08:53:36 - cmdstanpy - INFO - Chain [1] done processing\n"
     ]
    },
    {
     "name": "stdout",
     "output_type": "stream",
     "text": [
      "Fourier Order: 48, Prior Scale: 4.0, MAPE: 6.68%\n"
     ]
    },
    {
     "name": "stderr",
     "output_type": "stream",
     "text": [
      "08:53:39 - cmdstanpy - INFO - Chain [1] start processing\n",
      "08:53:42 - cmdstanpy - INFO - Chain [1] done processing\n"
     ]
    },
    {
     "name": "stdout",
     "output_type": "stream",
     "text": [
      "Fourier Order: 48, Prior Scale: 4.5, MAPE: 6.67%\n"
     ]
    },
    {
     "name": "stderr",
     "output_type": "stream",
     "text": [
      "08:53:46 - cmdstanpy - INFO - Chain [1] start processing\n",
      "08:53:49 - cmdstanpy - INFO - Chain [1] done processing\n"
     ]
    },
    {
     "name": "stdout",
     "output_type": "stream",
     "text": [
      "Fourier Order: 48, Prior Scale: 5.0, MAPE: 6.67%\n"
     ]
    },
    {
     "name": "stderr",
     "output_type": "stream",
     "text": [
      "08:53:52 - cmdstanpy - INFO - Chain [1] start processing\n",
      "08:53:56 - cmdstanpy - INFO - Chain [1] done processing\n"
     ]
    },
    {
     "name": "stdout",
     "output_type": "stream",
     "text": [
      "Fourier Order: 48, Prior Scale: 5.25, MAPE: 6.67%\n"
     ]
    },
    {
     "name": "stderr",
     "output_type": "stream",
     "text": [
      "08:53:59 - cmdstanpy - INFO - Chain [1] start processing\n",
      "08:54:03 - cmdstanpy - INFO - Chain [1] done processing\n"
     ]
    },
    {
     "name": "stdout",
     "output_type": "stream",
     "text": [
      "Fourier Order: 48, Prior Scale: 5.5, MAPE: 6.67%\n"
     ]
    },
    {
     "name": "stderr",
     "output_type": "stream",
     "text": [
      "08:54:06 - cmdstanpy - INFO - Chain [1] start processing\n",
      "08:54:11 - cmdstanpy - INFO - Chain [1] done processing\n"
     ]
    },
    {
     "name": "stdout",
     "output_type": "stream",
     "text": [
      "Fourier Order: 49, Prior Scale: 4.0, MAPE: 6.67%\n"
     ]
    },
    {
     "name": "stderr",
     "output_type": "stream",
     "text": [
      "08:54:14 - cmdstanpy - INFO - Chain [1] start processing\n",
      "08:54:19 - cmdstanpy - INFO - Chain [1] done processing\n"
     ]
    },
    {
     "name": "stdout",
     "output_type": "stream",
     "text": [
      "Fourier Order: 49, Prior Scale: 4.5, MAPE: 6.67%\n"
     ]
    },
    {
     "name": "stderr",
     "output_type": "stream",
     "text": [
      "08:54:22 - cmdstanpy - INFO - Chain [1] start processing\n",
      "08:54:25 - cmdstanpy - INFO - Chain [1] done processing\n"
     ]
    },
    {
     "name": "stdout",
     "output_type": "stream",
     "text": [
      "Fourier Order: 49, Prior Scale: 5.0, MAPE: 6.67%\n"
     ]
    },
    {
     "name": "stderr",
     "output_type": "stream",
     "text": [
      "08:54:29 - cmdstanpy - INFO - Chain [1] start processing\n",
      "08:54:33 - cmdstanpy - INFO - Chain [1] done processing\n"
     ]
    },
    {
     "name": "stdout",
     "output_type": "stream",
     "text": [
      "Fourier Order: 49, Prior Scale: 5.25, MAPE: 6.67%\n"
     ]
    },
    {
     "name": "stderr",
     "output_type": "stream",
     "text": [
      "08:54:36 - cmdstanpy - INFO - Chain [1] start processing\n",
      "08:54:40 - cmdstanpy - INFO - Chain [1] done processing\n"
     ]
    },
    {
     "name": "stdout",
     "output_type": "stream",
     "text": [
      "Fourier Order: 49, Prior Scale: 5.5, MAPE: 6.67%\n"
     ]
    },
    {
     "name": "stderr",
     "output_type": "stream",
     "text": [
      "08:54:43 - cmdstanpy - INFO - Chain [1] start processing\n",
      "08:54:47 - cmdstanpy - INFO - Chain [1] done processing\n"
     ]
    },
    {
     "name": "stdout",
     "output_type": "stream",
     "text": [
      "Fourier Order: 50, Prior Scale: 4.0, MAPE: 6.67%\n"
     ]
    },
    {
     "name": "stderr",
     "output_type": "stream",
     "text": [
      "08:54:50 - cmdstanpy - INFO - Chain [1] start processing\n",
      "08:54:54 - cmdstanpy - INFO - Chain [1] done processing\n"
     ]
    },
    {
     "name": "stdout",
     "output_type": "stream",
     "text": [
      "Fourier Order: 50, Prior Scale: 4.5, MAPE: 6.67%\n"
     ]
    },
    {
     "name": "stderr",
     "output_type": "stream",
     "text": [
      "08:54:58 - cmdstanpy - INFO - Chain [1] start processing\n",
      "08:55:01 - cmdstanpy - INFO - Chain [1] done processing\n"
     ]
    },
    {
     "name": "stdout",
     "output_type": "stream",
     "text": [
      "Fourier Order: 50, Prior Scale: 5.0, MAPE: 6.67%\n"
     ]
    },
    {
     "name": "stderr",
     "output_type": "stream",
     "text": [
      "08:55:04 - cmdstanpy - INFO - Chain [1] start processing\n",
      "08:55:09 - cmdstanpy - INFO - Chain [1] done processing\n"
     ]
    },
    {
     "name": "stdout",
     "output_type": "stream",
     "text": [
      "Fourier Order: 50, Prior Scale: 5.25, MAPE: 6.68%\n"
     ]
    },
    {
     "name": "stderr",
     "output_type": "stream",
     "text": [
      "08:55:12 - cmdstanpy - INFO - Chain [1] start processing\n",
      "08:55:15 - cmdstanpy - INFO - Chain [1] done processing\n"
     ]
    },
    {
     "name": "stdout",
     "output_type": "stream",
     "text": [
      "Fourier Order: 50, Prior Scale: 5.5, MAPE: 6.68%\n"
     ]
    },
    {
     "name": "stderr",
     "output_type": "stream",
     "text": [
      "08:55:18 - cmdstanpy - INFO - Chain [1] start processing\n",
      "08:55:22 - cmdstanpy - INFO - Chain [1] done processing\n"
     ]
    },
    {
     "name": "stdout",
     "output_type": "stream",
     "text": [
      "Fourier Order: 51, Prior Scale: 4.0, MAPE: 6.67%\n"
     ]
    },
    {
     "name": "stderr",
     "output_type": "stream",
     "text": [
      "08:55:26 - cmdstanpy - INFO - Chain [1] start processing\n",
      "08:55:30 - cmdstanpy - INFO - Chain [1] done processing\n"
     ]
    },
    {
     "name": "stdout",
     "output_type": "stream",
     "text": [
      "Fourier Order: 51, Prior Scale: 4.5, MAPE: 6.67%\n"
     ]
    },
    {
     "name": "stderr",
     "output_type": "stream",
     "text": [
      "08:55:33 - cmdstanpy - INFO - Chain [1] start processing\n",
      "08:55:36 - cmdstanpy - INFO - Chain [1] done processing\n"
     ]
    },
    {
     "name": "stdout",
     "output_type": "stream",
     "text": [
      "Fourier Order: 51, Prior Scale: 5.0, MAPE: 6.67%\n"
     ]
    },
    {
     "name": "stderr",
     "output_type": "stream",
     "text": [
      "08:55:40 - cmdstanpy - INFO - Chain [1] start processing\n",
      "08:55:44 - cmdstanpy - INFO - Chain [1] done processing\n"
     ]
    },
    {
     "name": "stdout",
     "output_type": "stream",
     "text": [
      "Fourier Order: 51, Prior Scale: 5.25, MAPE: 6.67%\n"
     ]
    },
    {
     "name": "stderr",
     "output_type": "stream",
     "text": [
      "08:55:47 - cmdstanpy - INFO - Chain [1] start processing\n",
      "08:55:51 - cmdstanpy - INFO - Chain [1] done processing\n"
     ]
    },
    {
     "name": "stdout",
     "output_type": "stream",
     "text": [
      "Fourier Order: 51, Prior Scale: 5.5, MAPE: 6.67%\n"
     ]
    },
    {
     "name": "stderr",
     "output_type": "stream",
     "text": [
      "08:55:54 - cmdstanpy - INFO - Chain [1] start processing\n",
      "08:55:58 - cmdstanpy - INFO - Chain [1] done processing\n"
     ]
    },
    {
     "name": "stdout",
     "output_type": "stream",
     "text": [
      "Fourier Order: 52, Prior Scale: 4.0, MAPE: 6.67%\n"
     ]
    },
    {
     "name": "stderr",
     "output_type": "stream",
     "text": [
      "08:56:01 - cmdstanpy - INFO - Chain [1] start processing\n",
      "08:56:05 - cmdstanpy - INFO - Chain [1] done processing\n"
     ]
    },
    {
     "name": "stdout",
     "output_type": "stream",
     "text": [
      "Fourier Order: 52, Prior Scale: 4.5, MAPE: 6.67%\n"
     ]
    },
    {
     "name": "stderr",
     "output_type": "stream",
     "text": [
      "08:56:08 - cmdstanpy - INFO - Chain [1] start processing\n",
      "08:56:13 - cmdstanpy - INFO - Chain [1] done processing\n"
     ]
    },
    {
     "name": "stdout",
     "output_type": "stream",
     "text": [
      "Fourier Order: 52, Prior Scale: 5.0, MAPE: 6.67%\n"
     ]
    },
    {
     "name": "stderr",
     "output_type": "stream",
     "text": [
      "08:56:16 - cmdstanpy - INFO - Chain [1] start processing\n",
      "08:56:20 - cmdstanpy - INFO - Chain [1] done processing\n"
     ]
    },
    {
     "name": "stdout",
     "output_type": "stream",
     "text": [
      "Fourier Order: 52, Prior Scale: 5.25, MAPE: 6.67%\n"
     ]
    },
    {
     "name": "stderr",
     "output_type": "stream",
     "text": [
      "08:56:23 - cmdstanpy - INFO - Chain [1] start processing\n",
      "08:56:27 - cmdstanpy - INFO - Chain [1] done processing\n"
     ]
    },
    {
     "name": "stdout",
     "output_type": "stream",
     "text": [
      "Fourier Order: 52, Prior Scale: 5.5, MAPE: 6.67%\n"
     ]
    }
   ],
   "source": [
    "# Lists to store results\n",
    "fourier_orders = [48, 49, 50, 51, 52]  # Fourier orders\n",
    "\n",
    "# Define the prior_scale values you want to test\n",
    "prior_scales = [4.0, 4.5, 5.0, 5.25, 5.5]  # Example values, adjust based on needs\n",
    "\n",
    "for order in fourier_orders:\n",
    "    for scale in prior_scales:\n",
    "        # Initialize the Prophet model with built-in daily, weekly, and yearly seasonalities\n",
    "        # Also, use the `holidays_data` to account for special occasions\n",
    "        model = Prophet(daily_seasonality=False, weekly_seasonality=True, yearly_seasonality=True)\n",
    "\n",
    "        # Add 'avgtemp' as an external regressor. This helps the model to consider the effects of average temperature\n",
    "        for p in predictors:\n",
    "            model.add_regressor(p)\n",
    "        \n",
    "        # Add yearly seasonality with the current period and specified prior_scale\n",
    "        model.add_seasonality(name='daily', period=1, fourier_order=order, prior_scale=scale)\n",
    "\n",
    "        # Fit the model using the training data\n",
    "        model.fit(train_data)\n",
    "\n",
    "        # Use the fitted model to predict on the test dataset\n",
    "        forecast = model.predict(test_data)\n",
    "\n",
    "        # Extract the actual target values from the test dataset\n",
    "        actual_values = test_data['y'].values\n",
    "\n",
    "        # Extract the predicted values from the forecast\n",
    "        forecasted_values = forecast['yhat'].values\n",
    "\n",
    "        # Calculate the Mean Absolute Percentage Error (MAPE) between the actual and predicted values\n",
    "        mape_value = calculate_mape(actual_values, forecasted_values)\n",
    "\n",
    "        # Print the computed MAPE for the current fourier_order and prior_scale combination\n",
    "        print(f\"Fourier Order: {order}, Prior Scale: {scale}, MAPE: {mape_value:.2f}%\")\n"
   ]
  },
  {
   "cell_type": "markdown",
   "metadata": {},
   "source": [
    "#### Weekly"
   ]
  },
  {
   "cell_type": "markdown",
   "metadata": {},
   "source": [
    "When dealing with hourly data, the period of weekly seasonality is 168 hours (24 hours/day * 7 days/week). This is because the data repeats its pattern every 168 hours, which corresponds to a week.\n",
    "\n",
    "As the Fourier order increases, the MAPE generally decreases, indicating that a more flexible seasonality (higher Fourier order) fits this particular dataset better.\n",
    "\n",
    "However, be careful. A too-high Fourier order might overfit the training data, leading to poor generalization to new, unseen data."
   ]
  },
  {
   "cell_type": "code",
   "execution_count": 68,
   "metadata": {},
   "outputs": [
    {
     "name": "stderr",
     "output_type": "stream",
     "text": [
      "08:56:29 - cmdstanpy - INFO - Chain [1] start processing\n",
      "08:56:30 - cmdstanpy - INFO - Chain [1] done processing\n"
     ]
    },
    {
     "name": "stdout",
     "output_type": "stream",
     "text": [
      "Fourier Order: 4, Prior Scale: 0.1, MAPE: 6.67%\n"
     ]
    },
    {
     "name": "stderr",
     "output_type": "stream",
     "text": [
      "08:56:32 - cmdstanpy - INFO - Chain [1] start processing\n",
      "08:56:33 - cmdstanpy - INFO - Chain [1] done processing\n"
     ]
    },
    {
     "name": "stdout",
     "output_type": "stream",
     "text": [
      "Fourier Order: 4, Prior Scale: 0.5, MAPE: 6.67%\n"
     ]
    },
    {
     "name": "stderr",
     "output_type": "stream",
     "text": [
      "08:56:35 - cmdstanpy - INFO - Chain [1] start processing\n",
      "08:56:36 - cmdstanpy - INFO - Chain [1] done processing\n"
     ]
    },
    {
     "name": "stdout",
     "output_type": "stream",
     "text": [
      "Fourier Order: 4, Prior Scale: 1.0, MAPE: 6.67%\n"
     ]
    },
    {
     "name": "stderr",
     "output_type": "stream",
     "text": [
      "08:56:37 - cmdstanpy - INFO - Chain [1] start processing\n",
      "08:56:39 - cmdstanpy - INFO - Chain [1] done processing\n"
     ]
    },
    {
     "name": "stdout",
     "output_type": "stream",
     "text": [
      "Fourier Order: 4, Prior Scale: 5.0, MAPE: 6.67%\n"
     ]
    },
    {
     "name": "stderr",
     "output_type": "stream",
     "text": [
      "08:56:41 - cmdstanpy - INFO - Chain [1] start processing\n",
      "08:56:42 - cmdstanpy - INFO - Chain [1] done processing\n"
     ]
    },
    {
     "name": "stdout",
     "output_type": "stream",
     "text": [
      "Fourier Order: 4, Prior Scale: 10.0, MAPE: 6.67%\n"
     ]
    },
    {
     "name": "stderr",
     "output_type": "stream",
     "text": [
      "08:56:44 - cmdstanpy - INFO - Chain [1] start processing\n",
      "08:56:45 - cmdstanpy - INFO - Chain [1] done processing\n"
     ]
    },
    {
     "name": "stdout",
     "output_type": "stream",
     "text": [
      "Fourier Order: 5, Prior Scale: 0.1, MAPE: 6.67%\n"
     ]
    },
    {
     "name": "stderr",
     "output_type": "stream",
     "text": [
      "08:56:47 - cmdstanpy - INFO - Chain [1] start processing\n",
      "08:56:49 - cmdstanpy - INFO - Chain [1] done processing\n"
     ]
    },
    {
     "name": "stdout",
     "output_type": "stream",
     "text": [
      "Fourier Order: 5, Prior Scale: 0.5, MAPE: 6.67%\n"
     ]
    },
    {
     "name": "stderr",
     "output_type": "stream",
     "text": [
      "08:56:50 - cmdstanpy - INFO - Chain [1] start processing\n",
      "08:56:52 - cmdstanpy - INFO - Chain [1] done processing\n"
     ]
    },
    {
     "name": "stdout",
     "output_type": "stream",
     "text": [
      "Fourier Order: 5, Prior Scale: 1.0, MAPE: 6.67%\n"
     ]
    },
    {
     "name": "stderr",
     "output_type": "stream",
     "text": [
      "08:56:53 - cmdstanpy - INFO - Chain [1] start processing\n",
      "08:56:55 - cmdstanpy - INFO - Chain [1] done processing\n"
     ]
    },
    {
     "name": "stdout",
     "output_type": "stream",
     "text": [
      "Fourier Order: 5, Prior Scale: 5.0, MAPE: 6.67%\n"
     ]
    },
    {
     "name": "stderr",
     "output_type": "stream",
     "text": [
      "08:56:57 - cmdstanpy - INFO - Chain [1] start processing\n",
      "08:56:58 - cmdstanpy - INFO - Chain [1] done processing\n"
     ]
    },
    {
     "name": "stdout",
     "output_type": "stream",
     "text": [
      "Fourier Order: 5, Prior Scale: 10.0, MAPE: 6.67%\n"
     ]
    },
    {
     "name": "stderr",
     "output_type": "stream",
     "text": [
      "08:57:00 - cmdstanpy - INFO - Chain [1] start processing\n",
      "08:57:02 - cmdstanpy - INFO - Chain [1] done processing\n"
     ]
    },
    {
     "name": "stdout",
     "output_type": "stream",
     "text": [
      "Fourier Order: 6, Prior Scale: 0.1, MAPE: 6.67%\n"
     ]
    },
    {
     "name": "stderr",
     "output_type": "stream",
     "text": [
      "08:57:03 - cmdstanpy - INFO - Chain [1] start processing\n",
      "08:57:05 - cmdstanpy - INFO - Chain [1] done processing\n"
     ]
    },
    {
     "name": "stdout",
     "output_type": "stream",
     "text": [
      "Fourier Order: 6, Prior Scale: 0.5, MAPE: 6.67%\n"
     ]
    },
    {
     "name": "stderr",
     "output_type": "stream",
     "text": [
      "08:57:06 - cmdstanpy - INFO - Chain [1] start processing\n",
      "08:57:08 - cmdstanpy - INFO - Chain [1] done processing\n"
     ]
    },
    {
     "name": "stdout",
     "output_type": "stream",
     "text": [
      "Fourier Order: 6, Prior Scale: 1.0, MAPE: 6.67%\n"
     ]
    },
    {
     "name": "stderr",
     "output_type": "stream",
     "text": [
      "08:57:10 - cmdstanpy - INFO - Chain [1] start processing\n",
      "08:57:11 - cmdstanpy - INFO - Chain [1] done processing\n"
     ]
    },
    {
     "name": "stdout",
     "output_type": "stream",
     "text": [
      "Fourier Order: 6, Prior Scale: 5.0, MAPE: 6.67%\n"
     ]
    },
    {
     "name": "stderr",
     "output_type": "stream",
     "text": [
      "08:57:13 - cmdstanpy - INFO - Chain [1] start processing\n",
      "08:57:14 - cmdstanpy - INFO - Chain [1] done processing\n"
     ]
    },
    {
     "name": "stdout",
     "output_type": "stream",
     "text": [
      "Fourier Order: 6, Prior Scale: 10.0, MAPE: 6.67%\n"
     ]
    }
   ],
   "source": [
    "# Lists to store results\n",
    "fourier_orders = [4, 5, 6]  # Fourier orders\n",
    "\n",
    "# Define the prior_scale values you want to test\n",
    "prior_scales = [0.1, 0.5, 1.0, 5.0, 10.0]  # Example values, adjust based on needs\n",
    "\n",
    "for order in fourier_orders:\n",
    "    for scale in prior_scales:\n",
    "        # Initialize the Prophet model with built-in daily, weekly, and yearly seasonalities\n",
    "        # Also, use the `holidays_data` to account for special occasions\n",
    "        model = Prophet(daily_seasonality=True, weekly_seasonality=False, yearly_seasonality=True)\n",
    "\n",
    "        # Add 'avgtemp' as an external regressor. This helps the model to consider the effects of average temperature\n",
    "        for p in predictors:\n",
    "            model.add_regressor(p)\n",
    "        # Add yearly seasonality with the current period and specified prior_scale\n",
    "        model.add_seasonality(name='weekly', period=7, fourier_order=order, prior_scale=scale)\n",
    "\n",
    "        # Fit the model using the training data\n",
    "        model.fit(train_data)\n",
    "\n",
    "        # Use the fitted model to predict on the test dataset\n",
    "        forecast = model.predict(test_data)\n",
    "\n",
    "        # Extract the actual target values from the test dataset\n",
    "        actual_values = test_data['y'].values\n",
    "\n",
    "        # Extract the predicted values from the forecast\n",
    "        forecasted_values = forecast['yhat'].values\n",
    "\n",
    "        # Calculate the Mean Absolute Percentage Error (MAPE) between the actual and predicted values\n",
    "        mape_value = calculate_mape(actual_values, forecasted_values)\n",
    "\n",
    "        # Print the computed MAPE for the current fourier_order and prior_scale combination\n",
    "        print(f\"Fourier Order: {order}, Prior Scale: {scale}, MAPE: {mape_value:.2f}%\")\n"
   ]
  },
  {
   "cell_type": "markdown",
   "metadata": {},
   "source": [
    "#### Yearly"
   ]
  },
  {
   "cell_type": "code",
   "execution_count": 69,
   "metadata": {},
   "outputs": [
    {
     "name": "stderr",
     "output_type": "stream",
     "text": [
      "08:57:16 - cmdstanpy - INFO - Chain [1] start processing\n",
      "08:57:17 - cmdstanpy - INFO - Chain [1] done processing\n"
     ]
    },
    {
     "name": "stdout",
     "output_type": "stream",
     "text": [
      "Fourier Order: 1, Prior Scale: 0.1, MAPE: 6.70%\n"
     ]
    },
    {
     "name": "stderr",
     "output_type": "stream",
     "text": [
      "08:57:18 - cmdstanpy - INFO - Chain [1] start processing\n",
      "08:57:19 - cmdstanpy - INFO - Chain [1] done processing\n"
     ]
    },
    {
     "name": "stdout",
     "output_type": "stream",
     "text": [
      "Fourier Order: 1, Prior Scale: 0.5, MAPE: 6.70%\n"
     ]
    },
    {
     "name": "stderr",
     "output_type": "stream",
     "text": [
      "08:57:20 - cmdstanpy - INFO - Chain [1] start processing\n",
      "08:57:21 - cmdstanpy - INFO - Chain [1] done processing\n"
     ]
    },
    {
     "name": "stdout",
     "output_type": "stream",
     "text": [
      "Fourier Order: 1, Prior Scale: 1.0, MAPE: 6.70%\n"
     ]
    },
    {
     "name": "stderr",
     "output_type": "stream",
     "text": [
      "08:57:22 - cmdstanpy - INFO - Chain [1] start processing\n",
      "08:57:23 - cmdstanpy - INFO - Chain [1] done processing\n"
     ]
    },
    {
     "name": "stdout",
     "output_type": "stream",
     "text": [
      "Fourier Order: 1, Prior Scale: 5.0, MAPE: 6.70%\n"
     ]
    },
    {
     "name": "stderr",
     "output_type": "stream",
     "text": [
      "08:57:25 - cmdstanpy - INFO - Chain [1] start processing\n",
      "08:57:26 - cmdstanpy - INFO - Chain [1] done processing\n"
     ]
    },
    {
     "name": "stdout",
     "output_type": "stream",
     "text": [
      "Fourier Order: 1, Prior Scale: 10.0, MAPE: 6.70%\n"
     ]
    },
    {
     "name": "stderr",
     "output_type": "stream",
     "text": [
      "08:57:27 - cmdstanpy - INFO - Chain [1] start processing\n",
      "08:57:28 - cmdstanpy - INFO - Chain [1] done processing\n"
     ]
    },
    {
     "name": "stdout",
     "output_type": "stream",
     "text": [
      "Fourier Order: 2, Prior Scale: 0.1, MAPE: 6.69%\n"
     ]
    },
    {
     "name": "stderr",
     "output_type": "stream",
     "text": [
      "08:57:29 - cmdstanpy - INFO - Chain [1] start processing\n",
      "08:57:30 - cmdstanpy - INFO - Chain [1] done processing\n"
     ]
    },
    {
     "name": "stdout",
     "output_type": "stream",
     "text": [
      "Fourier Order: 2, Prior Scale: 0.5, MAPE: 6.69%\n"
     ]
    },
    {
     "name": "stderr",
     "output_type": "stream",
     "text": [
      "08:57:32 - cmdstanpy - INFO - Chain [1] start processing\n",
      "08:57:33 - cmdstanpy - INFO - Chain [1] done processing\n"
     ]
    },
    {
     "name": "stdout",
     "output_type": "stream",
     "text": [
      "Fourier Order: 2, Prior Scale: 1.0, MAPE: 6.69%\n"
     ]
    },
    {
     "name": "stderr",
     "output_type": "stream",
     "text": [
      "08:57:34 - cmdstanpy - INFO - Chain [1] start processing\n",
      "08:57:35 - cmdstanpy - INFO - Chain [1] done processing\n"
     ]
    },
    {
     "name": "stdout",
     "output_type": "stream",
     "text": [
      "Fourier Order: 2, Prior Scale: 5.0, MAPE: 6.69%\n"
     ]
    },
    {
     "name": "stderr",
     "output_type": "stream",
     "text": [
      "08:57:36 - cmdstanpy - INFO - Chain [1] start processing\n",
      "08:57:37 - cmdstanpy - INFO - Chain [1] done processing\n"
     ]
    },
    {
     "name": "stdout",
     "output_type": "stream",
     "text": [
      "Fourier Order: 2, Prior Scale: 10.0, MAPE: 6.69%\n"
     ]
    },
    {
     "name": "stderr",
     "output_type": "stream",
     "text": [
      "08:57:38 - cmdstanpy - INFO - Chain [1] start processing\n",
      "08:57:40 - cmdstanpy - INFO - Chain [1] done processing\n"
     ]
    },
    {
     "name": "stdout",
     "output_type": "stream",
     "text": [
      "Fourier Order: 3, Prior Scale: 0.1, MAPE: 6.69%\n"
     ]
    },
    {
     "name": "stderr",
     "output_type": "stream",
     "text": [
      "08:57:41 - cmdstanpy - INFO - Chain [1] start processing\n",
      "08:57:42 - cmdstanpy - INFO - Chain [1] done processing\n"
     ]
    },
    {
     "name": "stdout",
     "output_type": "stream",
     "text": [
      "Fourier Order: 3, Prior Scale: 0.5, MAPE: 6.69%\n"
     ]
    },
    {
     "name": "stderr",
     "output_type": "stream",
     "text": [
      "08:57:43 - cmdstanpy - INFO - Chain [1] start processing\n",
      "08:57:44 - cmdstanpy - INFO - Chain [1] done processing\n"
     ]
    },
    {
     "name": "stdout",
     "output_type": "stream",
     "text": [
      "Fourier Order: 3, Prior Scale: 1.0, MAPE: 6.69%\n"
     ]
    },
    {
     "name": "stderr",
     "output_type": "stream",
     "text": [
      "08:57:45 - cmdstanpy - INFO - Chain [1] start processing\n",
      "08:57:47 - cmdstanpy - INFO - Chain [1] done processing\n"
     ]
    },
    {
     "name": "stdout",
     "output_type": "stream",
     "text": [
      "Fourier Order: 3, Prior Scale: 5.0, MAPE: 6.69%\n"
     ]
    },
    {
     "name": "stderr",
     "output_type": "stream",
     "text": [
      "08:57:48 - cmdstanpy - INFO - Chain [1] start processing\n",
      "08:57:49 - cmdstanpy - INFO - Chain [1] done processing\n"
     ]
    },
    {
     "name": "stdout",
     "output_type": "stream",
     "text": [
      "Fourier Order: 3, Prior Scale: 10.0, MAPE: 6.69%\n"
     ]
    },
    {
     "name": "stderr",
     "output_type": "stream",
     "text": [
      "08:57:50 - cmdstanpy - INFO - Chain [1] start processing\n",
      "08:57:51 - cmdstanpy - INFO - Chain [1] done processing\n"
     ]
    },
    {
     "name": "stdout",
     "output_type": "stream",
     "text": [
      "Fourier Order: 4, Prior Scale: 0.1, MAPE: 6.68%\n"
     ]
    },
    {
     "name": "stderr",
     "output_type": "stream",
     "text": [
      "08:57:53 - cmdstanpy - INFO - Chain [1] start processing\n",
      "08:57:54 - cmdstanpy - INFO - Chain [1] done processing\n"
     ]
    },
    {
     "name": "stdout",
     "output_type": "stream",
     "text": [
      "Fourier Order: 4, Prior Scale: 0.5, MAPE: 6.68%\n"
     ]
    },
    {
     "name": "stderr",
     "output_type": "stream",
     "text": [
      "08:57:55 - cmdstanpy - INFO - Chain [1] start processing\n",
      "08:57:56 - cmdstanpy - INFO - Chain [1] done processing\n"
     ]
    },
    {
     "name": "stdout",
     "output_type": "stream",
     "text": [
      "Fourier Order: 4, Prior Scale: 1.0, MAPE: 6.68%\n"
     ]
    },
    {
     "name": "stderr",
     "output_type": "stream",
     "text": [
      "08:57:58 - cmdstanpy - INFO - Chain [1] start processing\n",
      "08:57:59 - cmdstanpy - INFO - Chain [1] done processing\n"
     ]
    },
    {
     "name": "stdout",
     "output_type": "stream",
     "text": [
      "Fourier Order: 4, Prior Scale: 5.0, MAPE: 6.68%\n"
     ]
    },
    {
     "name": "stderr",
     "output_type": "stream",
     "text": [
      "08:58:00 - cmdstanpy - INFO - Chain [1] start processing\n",
      "08:58:01 - cmdstanpy - INFO - Chain [1] done processing\n"
     ]
    },
    {
     "name": "stdout",
     "output_type": "stream",
     "text": [
      "Fourier Order: 4, Prior Scale: 10.0, MAPE: 6.68%\n"
     ]
    }
   ],
   "source": [
    "# Lists to store results\n",
    "fourier_orders = [1, 2, 3, 4]  # Fourier orders\n",
    "\n",
    "# Define the prior_scale values you want to test\n",
    "prior_scales = [0.1, 0.5, 1.0, 5.0, 10.0]  # Example values, adjust based on needs\n",
    "\n",
    "for order in fourier_orders:\n",
    "    for scale in prior_scales:\n",
    "        # Initialize the Prophet model with built-in daily, weekly, and yearly seasonalities\n",
    "        # Also, use the `holidays_data` to account for special occasions\n",
    "        model = Prophet(daily_seasonality=True, weekly_seasonality=True, yearly_seasonality=False)\n",
    "\n",
    "        # Add 'avgtemp' as an external regressor. This helps the model to consider the effects of average temperature\n",
    "        for p in predictors:\n",
    "            model.add_regressor(p)\n",
    "        \n",
    "        # Add yearly seasonality with the current period and specified prior_scale\n",
    "        model.add_seasonality(name='yearly', period=365, fourier_order=order, prior_scale=scale)\n",
    "\n",
    "        # Fit the model using the training data\n",
    "        model.fit(train_data)\n",
    "\n",
    "        # Use the fitted model to predict on the test dataset\n",
    "        forecast = model.predict(test_data)\n",
    "\n",
    "        # Extract the actual target values from the test dataset\n",
    "        actual_values = test_data['y'].values\n",
    "\n",
    "        # Extract the predicted values from the forecast\n",
    "        forecasted_values = forecast['yhat'].values\n",
    "\n",
    "        # Calculate the Mean Absolute Percentage Error (MAPE) between the actual and predicted values\n",
    "        mape_value = calculate_mape(actual_values, forecasted_values)\n",
    "\n",
    "        # Print the computed MAPE for the current fourier_order and prior_scale combination\n",
    "        print(f\"Fourier Order: {order}, Prior Scale: {scale}, MAPE: {mape_value:.2f}%\")\n"
   ]
  },
  {
   "cell_type": "markdown",
   "metadata": {},
   "source": [
    "#### Evaluating the Custom Seasonality\n",
    "\n",
    "While increasing the Fourier number improves fit, there is a risk of overfitting, especially for longer seasonality. Considering the MAPE values of the prediction results made with different Fourier order values, the model will give more accurate results with Prophet's built-in values."
   ]
  },
  {
   "cell_type": "markdown",
   "metadata": {},
   "source": [
    "### Determining the Holidays Prior Scale\n",
    "\n",
    "The ```holidays_prior_scale``` parameter helps control the regularization of the holiday effects in the forecasting model. It determines the flexibility of the holiday effects and can be adjusted to achieve a better fit to the data based on the prominence of holidays in your dataset. If not specified, Prophet uses a default value of 10.0. [2]\n",
    "\n",
    "A higher holidays_prior_scale allows the model to fit larger holiday effects, meaning holidays can have a more pronounced impact on the forecast.\n",
    "\n",
    "A lower holidays_prior_scale makes the holiday effects more constrained, meaning the model will be less influenced by holidays.\n"
   ]
  },
  {
   "cell_type": "code",
   "execution_count": 70,
   "metadata": {},
   "outputs": [
    {
     "name": "stderr",
     "output_type": "stream",
     "text": [
      "08:58:03 - cmdstanpy - INFO - Chain [1] start processing\n",
      "08:58:05 - cmdstanpy - INFO - Chain [1] done processing\n"
     ]
    },
    {
     "name": "stdout",
     "output_type": "stream",
     "text": [
      "Prior Scale: 0.05, MAPE: 6.68%\n"
     ]
    },
    {
     "name": "stderr",
     "output_type": "stream",
     "text": [
      "08:58:06 - cmdstanpy - INFO - Chain [1] start processing\n",
      "08:58:08 - cmdstanpy - INFO - Chain [1] done processing\n"
     ]
    },
    {
     "name": "stdout",
     "output_type": "stream",
     "text": [
      "Prior Scale: 0.1, MAPE: 6.67%\n"
     ]
    },
    {
     "name": "stderr",
     "output_type": "stream",
     "text": [
      "08:58:09 - cmdstanpy - INFO - Chain [1] start processing\n",
      "08:58:11 - cmdstanpy - INFO - Chain [1] done processing\n"
     ]
    },
    {
     "name": "stdout",
     "output_type": "stream",
     "text": [
      "Prior Scale: 0.2, MAPE: 6.67%\n"
     ]
    },
    {
     "name": "stderr",
     "output_type": "stream",
     "text": [
      "08:58:12 - cmdstanpy - INFO - Chain [1] start processing\n",
      "08:58:14 - cmdstanpy - INFO - Chain [1] done processing\n"
     ]
    },
    {
     "name": "stdout",
     "output_type": "stream",
     "text": [
      "Prior Scale: 0.5, MAPE: 6.67%\n"
     ]
    }
   ],
   "source": [
    "# Define the prior_scale values you want to test\n",
    "holidays_prior_scales = [0.05, 0.1, 0.2, 0.5]  # Example values, adjust based on needs\n",
    "\n",
    "for scale in holidays_prior_scales:\n",
    "    \n",
    "    # Initialize the Prophet model with built-in daily, weekly, and yearly seasonalities\n",
    "    # Also, use the `holidays_data` to account for special occasions\n",
    "    model = Prophet(holidays_prior_scale=scale, daily_seasonality=True, weekly_seasonality=True, yearly_seasonality=True)\n",
    "\n",
    "    # Add 'avgtemp' as an external regressor. This helps the model to consider the effects of average temperature\n",
    "    for p in predictors:\n",
    "        model.add_regressor(p)\n",
    "\n",
    "    # Fit the model using the training data\n",
    "    model.fit(train_data)\n",
    "\n",
    "    # Use the fitted model to predict on the test dataset\n",
    "    forecast = model.predict(test_data)\n",
    "\n",
    "    # Extract the actual target values from the test dataset\n",
    "    actual_values = test_data['y'].values\n",
    "\n",
    "    # Extract the predicted values from the forecast\n",
    "    forecasted_values = forecast['yhat'].values\n",
    "\n",
    "    # Calculate the Mean Absolute Percentage Error (MAPE) between the actual and predicted values\n",
    "    mape_value = calculate_mape(actual_values, forecasted_values)\n",
    "\n",
    "    # Print the computed MAPE for the current fourier_order and prior_scale combination\n",
    "    print(f\"Prior Scale: {scale}, MAPE: {mape_value:.2f}%\")\n"
   ]
  },
  {
   "cell_type": "markdown",
   "metadata": {},
   "source": [
    "### Prior Scale: 0.1, MAPE: 4.99%"
   ]
  },
  {
   "cell_type": "markdown",
   "metadata": {},
   "source": [
    "# Conclusion\n",
    "\n",
    "Analyzed and predicted electricity consumption in Turkey with a data set extending from 2021 to 2023 with Time Series Analysis using Facebook Prophet. The Prophet model is initialized with daily, weekly, and annual seasonality and adjusted to account for special events using Special_events_data. Additionally, by setting holiday_prior_scale to 0.1 and including 'avgtemp' as an external regressor, the accuracy of the model in accounting for temperature effects was improved. This comprehensive approach, combined with data visualization, highlighted the relationship between electricity consumption and average temperatures, demonstrating Prophet's adaptability and the importance of a versatile strategy in precise time series forecasts."
   ]
  },
  {
   "cell_type": "code",
   "execution_count": 71,
   "metadata": {},
   "outputs": [
    {
     "name": "stderr",
     "output_type": "stream",
     "text": [
      "08:58:15 - cmdstanpy - INFO - Chain [1] start processing\n",
      "08:58:16 - cmdstanpy - INFO - Chain [1] done processing\n"
     ]
    },
    {
     "name": "stdout",
     "output_type": "stream",
     "text": [
      "MAPE: 6.67%\n"
     ]
    }
   ],
   "source": [
    "# Initialize the Prophet model with built-in daily, weekly, and yearly seasonalities \n",
    "# Also, use the `holidays_data` to account for special occasions.\n",
    "model = Prophet(holidays_prior_scale=0.1, daily_seasonality=True, weekly_seasonality=True, yearly_seasonality=True)\n",
    "\n",
    "# Add 'avgtemp' as an external regressor. This helps the model to consider the effects of average temperature\n",
    "for p in predictors:\n",
    "    model.add_regressor(p)\n",
    "\n",
    "# Fit the model using the training data\n",
    "model.fit(train_data)\n",
    "\n",
    "# Use the fitted model to predict on the test dataset\n",
    "forecast = model.predict(test_data)\n",
    "\n",
    "# Extract the actual target values from the test dataset\n",
    "actual_values = test_data['y'].values\n",
    "\n",
    "# Extract the predicted values from the forecast\n",
    "forecasted_values = forecast['yhat'].values\n",
    "\n",
    "# Calculate the Mean Absolute Percentage Error (MAPE) between the actual and predicted values\n",
    "mape_value = calculate_mape(actual_values, forecasted_values)\n",
    "\n",
    "# Print the computed MAPE\n",
    "print(f\"MAPE: {mape_value:.2f}%\")"
   ]
  },
  {
   "cell_type": "code",
   "execution_count": 72,
   "metadata": {},
   "outputs": [
    {
     "name": "stderr",
     "output_type": "stream",
     "text": [
      "08:58:18 - cmdstanpy - INFO - Chain [1] start processing\n",
      "08:58:21 - cmdstanpy - INFO - Chain [1] done processing\n"
     ]
    },
    {
     "ename": "ValueError",
     "evalue": "Regressor 'tempmin' missing from dataframe",
     "output_type": "error",
     "traceback": [
      "\u001b[0;31m---------------------------------------------------------------------------\u001b[0m",
      "\u001b[0;31mValueError\u001b[0m                                Traceback (most recent call last)",
      "Cell \u001b[0;32mIn[72], line 25\u001b[0m\n\u001b[1;32m     22\u001b[0m future[\u001b[38;5;124m'\u001b[39m\u001b[38;5;124mavgtemp\u001b[39m\u001b[38;5;124m'\u001b[39m] \u001b[38;5;241m=\u001b[39m [predicted_avg_temp] \u001b[38;5;241m*\u001b[39m \u001b[38;5;241m720\u001b[39m\n\u001b[1;32m     24\u001b[0m \u001b[38;5;66;03m# Use the fitted model to predict on the updated 'future' dataframe\u001b[39;00m\n\u001b[0;32m---> 25\u001b[0m forecast \u001b[38;5;241m=\u001b[39m \u001b[43mmodel\u001b[49m\u001b[38;5;241;43m.\u001b[39;49m\u001b[43mpredict\u001b[49m\u001b[43m(\u001b[49m\u001b[43mfuture\u001b[49m\u001b[43m)\u001b[49m\n\u001b[1;32m     26\u001b[0m forecast\n",
      "File \u001b[0;32m~/.python/current/lib/python3.10/site-packages/prophet/forecaster.py:1270\u001b[0m, in \u001b[0;36mProphet.predict\u001b[0;34m(self, df, vectorized)\u001b[0m\n\u001b[1;32m   1268\u001b[0m     \u001b[38;5;28;01mif\u001b[39;00m df\u001b[38;5;241m.\u001b[39mshape[\u001b[38;5;241m0\u001b[39m] \u001b[38;5;241m==\u001b[39m \u001b[38;5;241m0\u001b[39m:\n\u001b[1;32m   1269\u001b[0m         \u001b[38;5;28;01mraise\u001b[39;00m \u001b[38;5;167;01mValueError\u001b[39;00m(\u001b[38;5;124m'\u001b[39m\u001b[38;5;124mDataframe has no rows.\u001b[39m\u001b[38;5;124m'\u001b[39m)\n\u001b[0;32m-> 1270\u001b[0m     df \u001b[38;5;241m=\u001b[39m \u001b[38;5;28;43mself\u001b[39;49m\u001b[38;5;241;43m.\u001b[39;49m\u001b[43msetup_dataframe\u001b[49m\u001b[43m(\u001b[49m\u001b[43mdf\u001b[49m\u001b[38;5;241;43m.\u001b[39;49m\u001b[43mcopy\u001b[49m\u001b[43m(\u001b[49m\u001b[43m)\u001b[49m\u001b[43m)\u001b[49m\n\u001b[1;32m   1272\u001b[0m df[\u001b[38;5;124m'\u001b[39m\u001b[38;5;124mtrend\u001b[39m\u001b[38;5;124m'\u001b[39m] \u001b[38;5;241m=\u001b[39m \u001b[38;5;28mself\u001b[39m\u001b[38;5;241m.\u001b[39mpredict_trend(df)\n\u001b[1;32m   1273\u001b[0m seasonal_components \u001b[38;5;241m=\u001b[39m \u001b[38;5;28mself\u001b[39m\u001b[38;5;241m.\u001b[39mpredict_seasonal_components(df)\n",
      "File \u001b[0;32m~/.python/current/lib/python3.10/site-packages/prophet/forecaster.py:297\u001b[0m, in \u001b[0;36mProphet.setup_dataframe\u001b[0;34m(self, df, initialize_scales)\u001b[0m\n\u001b[1;32m    295\u001b[0m \u001b[38;5;28;01mfor\u001b[39;00m name \u001b[38;5;129;01min\u001b[39;00m \u001b[38;5;28mself\u001b[39m\u001b[38;5;241m.\u001b[39mextra_regressors:\n\u001b[1;32m    296\u001b[0m     \u001b[38;5;28;01mif\u001b[39;00m name \u001b[38;5;129;01mnot\u001b[39;00m \u001b[38;5;129;01min\u001b[39;00m df:\n\u001b[0;32m--> 297\u001b[0m         \u001b[38;5;28;01mraise\u001b[39;00m \u001b[38;5;167;01mValueError\u001b[39;00m(\n\u001b[1;32m    298\u001b[0m             \u001b[38;5;124m'\u001b[39m\u001b[38;5;124mRegressor \u001b[39m\u001b[38;5;132;01m{name!r}\u001b[39;00m\u001b[38;5;124m missing from dataframe\u001b[39m\u001b[38;5;124m'\u001b[39m\n\u001b[1;32m    299\u001b[0m             \u001b[38;5;241m.\u001b[39mformat(name\u001b[38;5;241m=\u001b[39mname)\n\u001b[1;32m    300\u001b[0m         )\n\u001b[1;32m    301\u001b[0m     df[name] \u001b[38;5;241m=\u001b[39m pd\u001b[38;5;241m.\u001b[39mto_numeric(df[name])\n\u001b[1;32m    302\u001b[0m     \u001b[38;5;28;01mif\u001b[39;00m df[name]\u001b[38;5;241m.\u001b[39misnull()\u001b[38;5;241m.\u001b[39many():\n",
      "\u001b[0;31mValueError\u001b[0m: Regressor 'tempmin' missing from dataframe"
     ]
    }
   ],
   "source": [
    "# Initialize the Prophet model with the specified parameters\n",
    "model = Prophet(\n",
    "    holidays_prior_scale=0.1,\n",
    "    daily_seasonality=True,\n",
    "    weekly_seasonality=True,\n",
    "    yearly_seasonality=True\n",
    ")\n",
    "\n",
    "# Add 'avgtemp' as an external regressor\n",
    "for p in predictors:\n",
    "    model.add_regressor(p)\n",
    "\n",
    "# Fit the model using the training data\n",
    "model.fit(data)\n",
    "\n",
    "# Generate a dataframe projecting 720 hours (or 30 days) into the future \n",
    "# without including the historical data\n",
    "future = model.make_future_dataframe(periods=720, freq='h', include_history=False)\n",
    "\n",
    "# Use the provided average temperature for the month to be predicted\n",
    "predicted_avg_temp = 23.6\n",
    "future['avgtemp'] = [predicted_avg_temp] * 720\n",
    "\n",
    "# Use the fitted model to predict on the updated 'future' dataframe\n",
    "forecast = model.predict(future)\n",
    "forecast\n"
   ]
  },
  {
   "cell_type": "markdown",
   "metadata": {},
   "source": [
    "# References\n",
    "\n",
    "[1] https://facebook.github.io/prophet/docs/seasonality,_holiday_effects,_and_regressors.html#:~:text=For%20reference%2C%20by%20default%20Prophet,and%2010%20for%20yearly%20seasonality.\n",
    "\n",
    "[2] https://facebook.github.io/prophet/docs/seasonality,_holiday_effects,_and_regressors.html#specifying-custom-seasonalities:~:text=parameter%20holidays_prior_scale.-,By%20default%20this%20parameter%20is%2010%2C%20which%20provides%20very%20little%20regularization.%20Reducing%20this%20parameter%20dampens%20holiday%20effects%3A,-1%0A2%0A3"
   ]
  }
 ],
 "metadata": {
  "kernelspec": {
   "display_name": "Python 3",
   "language": "python",
   "name": "python3"
  },
  "language_info": {
   "codemirror_mode": {
    "name": "ipython",
    "version": 3
   },
   "file_extension": ".py",
   "mimetype": "text/x-python",
   "name": "python",
   "nbconvert_exporter": "python",
   "pygments_lexer": "ipython3",
   "version": "3.10.13"
  },
  "orig_nbformat": 4
 },
 "nbformat": 4,
 "nbformat_minor": 2
}
