{
  "nbformat": 4,
  "nbformat_minor": 0,
  "metadata": {
    "colab": {
      "provenance": [],
      "mount_file_id": "https://github.com/22022658NguyenTienKhoi/13-Weather-Forecast/blob/main/untitled1.ipynb",
      "authorship_tag": "ABX9TyPDxSB+jLoG0w9s7Lbe0Q44",
      "include_colab_link": true
    },
    "kernelspec": {
      "name": "python3",
      "display_name": "Python 3"
    },
    "language_info": {
      "name": "python"
    }
  },
  "cells": [
    {
      "cell_type": "markdown",
      "metadata": {
        "id": "view-in-github",
        "colab_type": "text"
      },
      "source": [
        "<a href=\"https://colab.research.google.com/github/22022658NguyenTienKhoi/13-Weather-Forecast/blob/main/untitled1.ipynb\" target=\"_parent\"><img src=\"https://colab.research.google.com/assets/colab-badge.svg\" alt=\"Open In Colab\"/></a>"
      ]
    },
    {
      "cell_type": "code",
      "source": [
        "import pandas as pd\n",
        "import numpy as np\n",
        "from sklearn.ensemble import IsolationForest\n",
        "from sklearn.model_selection import TimeSeriesSplit\n",
        "from scipy import stats"
      ],
      "metadata": {
        "id": "kvuMD0IrTP9D"
      },
      "execution_count": null,
      "outputs": []
    },
    {
      "cell_type": "code",
      "source": [
        "weather = pd.read_csv(\"/content/drive/MyDrive/Colab Notebooks/hanoiweather.csv\")"
      ],
      "metadata": {
        "id": "D4sasRLiY3gm"
      },
      "execution_count": null,
      "outputs": []
    },
    {
      "cell_type": "code",
      "source": [
        "weather"
      ],
      "metadata": {
        "id": "uoraYao4jNt8"
      },
      "execution_count": null,
      "outputs": []
    },
    {
      "cell_type": "code",
      "source": [
        "weather.set_index('datetime',inplace = True)"
      ],
      "metadata": {
        "id": "pArmTHCB1LQ8"
      },
      "execution_count": null,
      "outputs": []
    },
    {
      "cell_type": "code",
      "source": [
        "weather = weather[\"2000-01-01\":]"
      ],
      "metadata": {
        "id": "BvU83EWNd4s0"
      },
      "execution_count": null,
      "outputs": []
    },
    {
      "cell_type": "code",
      "source": [
        "# Clean invalid columns\n",
        "null_pct = weather.apply(pd.isnull).sum()/weather.shape[0]"
      ],
      "metadata": {
        "id": "2ic8RNkU0dnw"
      },
      "execution_count": null,
      "outputs": []
    },
    {
      "cell_type": "code",
      "source": [
        "null_pct"
      ],
      "metadata": {
        "id": "15dyIbh2iSlI"
      },
      "execution_count": null,
      "outputs": []
    },
    {
      "cell_type": "code",
      "source": [
        "valid_columns = weather.columns[null_pct < .3]"
      ],
      "metadata": {
        "id": "oFTL45eb_Q_l"
      },
      "execution_count": null,
      "outputs": []
    },
    {
      "cell_type": "code",
      "source": [
        "weather = weather.dropna(subset = ['tempmax', 'tempmin','temp'])\n",
        "weather = weather[valid_columns].copy()\n",
        "weather.columns = weather.columns.str.lower()"
      ],
      "metadata": {
        "id": "T-_1Y3Tv0hMh"
      },
      "execution_count": null,
      "outputs": []
    },
    {
      "cell_type": "code",
      "source": [
        "weather.index = pd.to_datetime(weather.index)"
      ],
      "metadata": {
        "id": "J_usKc-E1pFZ"
      },
      "execution_count": null,
      "outputs": []
    },
    {
      "cell_type": "code",
      "source": [
        "from datetime import datetime\n",
        "\n",
        "def time_to_minutes(time_str):\n",
        "    # Định nghĩa các định dạng thời gian khác nhau\n",
        "    formats = [\"%Y-%m-%dT%H:%M:%S\", \"%Y-%m-%d %H:%M:%S\"]\n",
        "\n",
        "    for fmt in formats:\n",
        "        try:\n",
        "            # Cố gắng phân tích chuỗi thời gian với từng định dạng\n",
        "            time_obj = datetime.strptime(time_str, fmt)\n",
        "            return time_obj.hour * 60 + time_obj.minute\n",
        "        except ValueError:\n",
        "            # Nếu định dạng không khớp, thử định dạng tiếp theo\n",
        "            continue\n",
        "\n",
        "    # Nếu không có định dạng nào khớp, in lỗi\n",
        "    raise ValueError(f\"Thời gian '{time_str}' không khớp với bất kỳ định dạng nào đã biết\")\n",
        "\n",
        "# Biến đổi thời gian của sunrise và sunset\n",
        "weather['sunrise'] = weather['sunrise'].apply(time_to_minutes)\n",
        "weather['sunset'] = weather['sunset'].apply(time_to_minutes)\n",
        "weather"
      ],
      "metadata": {
        "id": "sEDI7TAGuAu8"
      },
      "execution_count": null,
      "outputs": []
    },
    {
      "cell_type": "code",
      "source": [
        "weather"
      ],
      "metadata": {
        "id": "EnCmxiidkQus"
      },
      "execution_count": null,
      "outputs": []
    },
    {
      "cell_type": "code",
      "source": [
        "#lga = weather[weather[\"station\"] == \"USW00014732\"].copy()\n",
        "#weather = weather[weather[\"station\"] == \"USW00094789\"].copy()\n",
        "#weather = weather.merge(lga, left_index=True, right_index=True)"
      ],
      "metadata": {
        "id": "XckyNTlBCk_Q"
      },
      "execution_count": null,
      "outputs": []
    },
    {
      "cell_type": "code",
      "source": [
        "# Setup time series for prophet\n",
        "weather[\"y\"] = weather.shift(-1)[\"tempmax\"]\n",
        "weather = weather.ffill()"
      ],
      "metadata": {
        "id": "nBItsMZE2SjW"
      },
      "execution_count": null,
      "outputs": []
    },
    {
      "cell_type": "code",
      "source": [
        "weather[\"ds\"] = weather.index"
      ],
      "metadata": {
        "id": "7b5gdduO22UP"
      },
      "execution_count": null,
      "outputs": []
    },
    {
      "cell_type": "code",
      "source": [
        "def calculate_contamination(data, outlier_factor=1.5):\n",
        "    # Calculate quartiles\n",
        "    Q1 = np.percentile(data, 25)\n",
        "    Q3 = np.percentile(data, 75)\n",
        "\n",
        "    # Calculate IQR\n",
        "    IQR = Q3 - Q1\n",
        "\n",
        "    # Define outlier thresholds\n",
        "    lower_threshold = Q1 - outlier_factor * IQR\n",
        "    upper_threshold = Q3 + outlier_factor * IQR\n",
        "\n",
        "    # Identify outliers\n",
        "    outliers = (data < lower_threshold) | (data > upper_threshold)\n",
        "    num_outliers = np.sum(outliers)\n",
        "\n",
        "    # Calculate contamination percentage\n",
        "    contamination = (num_outliers / len(data))\n",
        "\n",
        "    return contamination"
      ],
      "metadata": {
        "id": "y3eHeH0jv2jm"
      },
      "execution_count": null,
      "outputs": []
    },
    {
      "cell_type": "code",
      "source": [
        "contaminate = calculate_contamination(weather['tempmax'])"
      ],
      "metadata": {
        "id": "A-GGOhpRu4Ll"
      },
      "execution_count": null,
      "outputs": []
    },
    {
      "cell_type": "code",
      "source": [
        "contaminate"
      ],
      "metadata": {
        "id": "FkAsEVr3wobz"
      },
      "execution_count": null,
      "outputs": []
    },
    {
      "cell_type": "code",
      "source": [
        "iso_forest = IsolationForest(contamination=contaminate)  # Adjust contamination parameter as needed\n",
        "anomaly_labels = iso_forest.fit_predict(weather[['y']])"
      ],
      "metadata": {
        "id": "JPdJjvIkPTw5"
      },
      "execution_count": null,
      "outputs": []
    },
    {
      "cell_type": "code",
      "source": [
        "weather = weather[anomaly_labels == 1]"
      ],
      "metadata": {
        "id": "BT5Z5wezQpLM"
      },
      "execution_count": null,
      "outputs": []
    },
    {
      "cell_type": "code",
      "source": [
        "weather"
      ],
      "metadata": {
        "id": "DlokX5EOD0dW"
      },
      "execution_count": null,
      "outputs": []
    },
    {
      "cell_type": "code",
      "source": [
        "weather.drop(columns=['icon','description','stations','conditions','name'], inplace=True)"
      ],
      "metadata": {
        "id": "Y0PVNNFDHVhg"
      },
      "execution_count": null,
      "outputs": []
    },
    {
      "cell_type": "code",
      "source": [
        "predictors = weather.columns[~weather.columns.isin(['y','ds'])]"
      ],
      "metadata": {
        "id": "Tweayh8M26Va"
      },
      "execution_count": null,
      "outputs": []
    },
    {
      "cell_type": "code",
      "source": [
        "predictors"
      ],
      "metadata": {
        "id": "feHBOfVk3esW"
      },
      "execution_count": null,
      "outputs": []
    },
    {
      "cell_type": "code",
      "source": [
        "print(weather)"
      ],
      "metadata": {
        "id": "cChzdkt66Zl-"
      },
      "execution_count": null,
      "outputs": []
    },
    {
      "cell_type": "code",
      "source": [
        "tscv = TimeSeriesSplit(n_splits=2)\n",
        "for train_index, test_index in tscv.split(weather):\n",
        "    train, val = weather.iloc[train_index],weather.iloc[test_index]"
      ],
      "metadata": {
        "id": "U67cv7sz3OmL"
      },
      "execution_count": null,
      "outputs": []
    },
    {
      "cell_type": "code",
      "source": [
        "train"
      ],
      "metadata": {
        "id": "S4hswX2YV96Y"
      },
      "execution_count": null,
      "outputs": []
    },
    {
      "cell_type": "code",
      "source": [
        "weather['tempmax'].max()"
      ],
      "metadata": {
        "id": "bxopA-sUiCrF"
      },
      "execution_count": null,
      "outputs": []
    },
    {
      "cell_type": "code",
      "source": [
        "weather['tempmax'].min()"
      ],
      "metadata": {
        "id": "ONaGY0kyiJYr"
      },
      "execution_count": null,
      "outputs": []
    },
    {
      "cell_type": "code",
      "source": [
        "from prophet import Prophet\n",
        "\n",
        "def fit_prophet(train):\n",
        "    m = Prophet(changepoint_prior_scale=0.5)\n",
        "    #,growth='logistic'\n",
        "    capacity = 41.7  # Example carrying capacity\n",
        "    floor = 8.0\n",
        "    #train['floor'] = floor\n",
        "    #train['cap'] = capacity\n",
        "    for p in predictors:\n",
        "        m.add_regressor(p)\n",
        "    m.fit(train)\n",
        "    return m\n",
        "\n",
        "m = fit_prophet(train)\n"
      ],
      "metadata": {
        "id": "Qx7mKaNb5MAK"
      },
      "execution_count": null,
      "outputs": []
    },
    {
      "cell_type": "code",
      "source": [
        "def predict(val):\n",
        "   capacity = 41.7 # Example carrying capacity\n",
        "   floor = 8.0\n",
        "   #val['floor'] = floor\n",
        "   #val['cap'] = capacity\n",
        "   predictions = m.predict(val)\n",
        "   return predictions"
      ],
      "metadata": {
        "id": "mrvPl0jLjiQY"
      },
      "execution_count": null,
      "outputs": []
    },
    {
      "cell_type": "code",
      "source": [
        "predictions = predict(val)"
      ],
      "metadata": {
        "id": "tSdHg1r37FXL"
      },
      "execution_count": null,
      "outputs": []
    },
    {
      "cell_type": "code",
      "source": [
        "predictions"
      ],
      "metadata": {
        "id": "zjU2kqUg7QmO"
      },
      "execution_count": null,
      "outputs": []
    },
    {
      "cell_type": "code",
      "source": [
        "from prophet.plot import plot_plotly, plot_components_plotly, plot_cross_validation_metric\n",
        "\n",
        "plot_components_plotly(m, predictions)"
      ],
      "metadata": {
        "id": "xdcS6dF770UB"
      },
      "execution_count": null,
      "outputs": []
    },
    {
      "cell_type": "code",
      "source": [
        "from prophet.utilities import regressor_coefficients\n",
        "\n",
        "regressor_coefficients(m)"
      ],
      "metadata": {
        "id": "VohLqx7173xh"
      },
      "execution_count": null,
      "outputs": []
    },
    {
      "cell_type": "code",
      "source": [
        "predictions.index = val.index\n",
        "predictions[\"actual\"] = val[\"y\"]\n",
        "predictions"
      ],
      "metadata": {
        "id": "E7e1gf-F75W3"
      },
      "execution_count": null,
      "outputs": []
    },
    {
      "cell_type": "code",
      "source": [
        "def mse(predictions, actual_label=\"actual\", pred_label=\"yhat\"):\n",
        "    se = ((predictions[actual_label] - predictions[pred_label]) ** 2)\n",
        "    print(se.mean())\n",
        "\n",
        "mse(predictions)"
      ],
      "metadata": {
        "id": "lnie_hQg79ok"
      },
      "execution_count": null,
      "outputs": []
    },
    {
      "cell_type": "code",
      "source": [
        "# Predict one day ahead with high accuracy\n",
        "m = fit_prophet(weather)\n",
        "predict(weather.iloc[-1:])"
      ],
      "metadata": {
        "id": "iGq8_ADJ8XQs"
      },
      "execution_count": null,
      "outputs": []
    },
    {
      "cell_type": "code",
      "source": [
        "# Cross validate across data set\n",
        "from prophet.diagnostics import cross_validation, performance_metrics\n",
        "m = fit_prophet(weather)\n",
        "cv = cross_validation(m, initial=f'{365 * 5} days', period='180 days', horizon = '180 days', parallel=\"processes\")"
      ],
      "metadata": {
        "id": "Ali0AAHy8BRc"
      },
      "execution_count": null,
      "outputs": []
    },
    {
      "cell_type": "code",
      "source": [
        "mse(cv, actual_label=\"y\")"
      ],
      "metadata": {
        "id": "KuXlvNY48NCn"
      },
      "execution_count": null,
      "outputs": []
    },
    {
      "cell_type": "code",
      "source": [
        "cv[[\"y\", \"yhat\"]][-365:].plot()"
      ],
      "metadata": {
        "id": "-yydW3k-8Tai"
      },
      "execution_count": null,
      "outputs": []
    },
    {
      "cell_type": "code",
      "source": [
        "# Predict multiple days ahead with lower accuracy\n",
        "m = Prophet()\n",
        "#changepoint_prior_scale=0.2,growth = 'logistic'\n",
        "capacity = 41.7\n",
        "floor = 8.0\n",
        "#weather['floor'] = floor\n",
        "#weather['cap'] = capacity\n",
        "m.fit(weather)\n",
        "future = m.make_future_dataframe(periods=360)\n",
        "forecast = predict(future)"
      ],
      "metadata": {
        "id": "Ai52yNMi8dFk"
      },
      "execution_count": null,
      "outputs": []
    },
    {
      "cell_type": "code",
      "source": [
        "from prophet.plot import plot_plotly\n",
        "\n",
        "plot_plotly(m, forecast)"
      ],
      "metadata": {
        "id": "o5PgUAOV8f6Y"
      },
      "execution_count": null,
      "outputs": []
    }
  ]
}